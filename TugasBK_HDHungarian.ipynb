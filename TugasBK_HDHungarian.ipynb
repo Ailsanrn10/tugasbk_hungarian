{
  "cells": [
    {
      "cell_type": "markdown",
      "metadata": {
        "id": "HAtWxuR_Ps8A"
      },
      "source": [
        "**Tugas 1 Bimbingan Karir Data Science**\n",
        "\n",
        "Nama : Ailsa Nurina Cahyani\n",
        "\n",
        "NIM : A11.2020.12636\n",
        "\n",
        "Kelas : BKDS01 - Data Scientist"
      ]
    },
    {
      "cell_type": "markdown",
      "metadata": {
        "id": "CYnquanDPv_f"
      },
      "source": [
        "# 1) Pengumpulan Data\n",
        "\n",
        "Pada projek ini menggunakan dataset yang bersumber dari UCI Machine Learning yaitu Heart Disease. Dataset yang dipakai adalah dataset dengan nama file \"Hungarian.data\"."
      ]
    },
    {
      "cell_type": "markdown",
      "metadata": {
        "id": "WSEAttXtP2KB"
      },
      "source": [
        "# 2) Menelaah Data\n",
        "\n",
        "Langkah kedua yaitu memasukkan beberapa library yang dibutuhkan untuk menelaah data."
      ]
    },
    {
      "cell_type": "code",
      "execution_count": 16,
      "metadata": {
        "id": "oRgbAhMsPkWG"
      },
      "outputs": [],
      "source": [
        "import pandas as pd # Untuk analisis data dalam Python\n",
        "import re # Regular Expression untuk pemrosesan string berdasarkan pola tertentu\n",
        "import numpy as np # Untuk pemrosesan numerik dalam Python\n",
        "import itertools # Merupakan library yang menyediakan berbagai fungsi untuk melakukan operasi pada objek iterasi"
      ]
    },
    {
      "cell_type": "markdown",
      "metadata": {
        "id": "xtWDPmuGP-Yi"
      },
      "source": [
        "- Fungsi pandas untuk menyediakan struktur data yang efisien dan mudah digunakan, terutama dalam bentuk DataFrames. Memungkinkan untuk pemrosesan, manipulasi, dan analisis data yang fleksibel dan kuat. Dapat membaca dan menulis data dari berbagai format file, membersihkan dan mengubah format data, menggabungkan data, serta melakukan operasi statistik.\n",
        "\n",
        "- Fungsi re untuk mencocokan, mencari, dan memanipulasi teks menggunakan ekspresi reguler.\n",
        "\n",
        "- Numpy menyediakan struktur data array multimensi yang efisien dan berbagai fungsi matematika.\n",
        "\n",
        "- itertools berfungsi untuk permutasi, kombinasi, dan pengulangan."
      ]
    },
    {
      "cell_type": "markdown",
      "metadata": {
        "id": "93LM-eANQBeh"
      },
      "source": [
        "**Load Data**"
      ]
    },
    {
      "cell_type": "markdown",
      "metadata": {
        "id": "etyyfKxfQDBs"
      },
      "source": [
        "Terdapat 2 cara untuk memasukkan data ke dalam Colab. Cara pertama yaitu melalui platform colab secara langsung. Kelemahannya adalah jika runtime terputus, kita harus memasukkan kembali dataset ke Colab."
      ]
    },
    {
      "cell_type": "code",
      "execution_count": 17,
      "metadata": {
        "id": "R3wO75nZPz2J"
      },
      "outputs": [],
      "source": [
        "# Cara1\n",
        "#dir adalah variabel yang digunakan untuk menyimpan data dengan path dari google colan\n",
        "dir = 'hungarian.data'\n",
        "# dir = '/content/drive/My Drive/BK Ganjil 2023/Dataset/hungarian.data'"
      ]
    },
    {
      "cell_type": "markdown",
      "metadata": {
        "id": "_5vauoeTQHKt"
      },
      "source": [
        "Cara kedua adalah memanggil dataset dari Google Drive. Hal ini dapat dilakukan dengan cara memasukkan dataset ke dalam drive pribadi. Kemudian menghubungkan Google Drive dengan Colab. Langkah pertama yaitu mengimpor modul \"drive\" dari library \"google.colab\". Kemudian langkah kedua adalah menggunakan fungsi \"mount\" untuk menghubungkan kedua platform. Dan langkah ketiga adalah memberikan path \"/content/gdrive\" sebagai tempat penyimpanan Google Drive di dalam Colab."
      ]
    },
    {
      "cell_type": "code",
      "execution_count": 18,
      "metadata": {
        "colab": {
          "base_uri": "https://localhost:8080/"
        },
        "id": "AOwrk4vSQFDV",
        "outputId": "90aa2a46-7702-4638-b64c-536b50618a2b"
      },
      "outputs": [],
      "source": [
        "# Cara2\n",
        "# Dari Gdrive\n",
        "# from google.colab import drive\n",
        "# drive.mount('/content/gdrive')"
      ]
    },
    {
      "cell_type": "markdown",
      "metadata": {
        "id": "G4vgxle8QQOu"
      },
      "source": [
        "Setelah Colab terhubung dengan Google Drive, langkah selanjutnya adalah membuat variabel yang digunakan untuk menampung path dari file dataset yang akan digunakan, yaitu file 'hungarian.data'."
      ]
    },
    {
      "cell_type": "code",
      "execution_count": 19,
      "metadata": {
        "id": "KgL0yosdQJl6"
      },
      "outputs": [],
      "source": [
        "#dir = '/content/gdrive/MyDrive/heart disease/hungarian.data'\n",
        "# dir merupakan variabel yang menampung path dari file 'hungarian.data'yang terletak di dalam direktori 'heart disease'"
      ]
    },
    {
      "cell_type": "markdown",
      "metadata": {
        "id": "oxuh1Ri_QUTS"
      },
      "source": [
        "Setelah file dipanggil, langkah selanjutnya adalah membuat iterasi yang  berfungsi untuk membaca dataset. Berikut langkah untuk membaca dan melabel 10 baris pertama dari file 'hungarian.data':"
      ]
    },
    {
      "cell_type": "code",
      "execution_count": 20,
      "metadata": {
        "colab": {
          "base_uri": "https://localhost:8080/"
        },
        "id": "ot1pSDhsQSJ4",
        "outputId": "666c519d-4c05-44a4-c84a-26286c3dbd07"
      },
      "outputs": [
        {
          "data": {
            "text/plain": [
              "['1254 0 40 1 1 0 0',\n",
              " '-9 2 140 0 289 -9 -9 -9',\n",
              " '0 -9 -9 0 12 16 84 0',\n",
              " '0 0 0 0 150 18 -9 7',\n",
              " '172 86 200 110 140 86 0 0',\n",
              " '0 -9 26 20 -9 -9 -9 -9',\n",
              " '-9 -9 -9 -9 -9 -9 -9 12',\n",
              " '20 84 0 -9 -9 -9 -9 -9',\n",
              " '-9 -9 -9 -9 -9 1 1 1',\n",
              " '1 1 -9. -9. name']"
            ]
          },
          "execution_count": 20,
          "metadata": {},
          "output_type": "execute_result"
        }
      ],
      "source": [
        "# Melabel 10 baris pertama\n",
        "with open(dir, encoding='Latin1') as file: # untuk mmebuka file yang diarahkan oleh variabel dir\n",
        "# Setiap baris dalam file dibaca dan disimpan dalam list 'lines'\n",
        "  lines = [line.strip() for line in file]\n",
        "\n",
        "lines[0:10] # Mengambil 10 baris pertama dari list lines dan mencetaknya"
      ]
    },
    {
      "cell_type": "markdown",
      "metadata": {
        "id": "RNmcAHRPQYhi"
      },
      "source": [
        "Fungsi line.strip() digunakan untuk menghapus karakter kosong pada awal dan akhir setiap baris."
      ]
    },
    {
      "cell_type": "markdown",
      "metadata": {
        "id": "C7QavukeQaNL"
      },
      "source": [
        "Setelah melabel 10 baris pertama, langkah selanjutnya adalah membentuk DataFrame."
      ]
    },
    {
      "cell_type": "code",
      "execution_count": 21,
      "metadata": {
        "colab": {
          "base_uri": "https://localhost:8080/",
          "height": 235
        },
        "id": "vLbrV8HiQWea",
        "outputId": "5687206e-15e0-40c6-90be-34cbc44e4131"
      },
      "outputs": [
        {
          "data": {
            "text/html": [
              "<div>\n",
              "<style scoped>\n",
              "    .dataframe tbody tr th:only-of-type {\n",
              "        vertical-align: middle;\n",
              "    }\n",
              "\n",
              "    .dataframe tbody tr th {\n",
              "        vertical-align: top;\n",
              "    }\n",
              "\n",
              "    .dataframe thead th {\n",
              "        text-align: right;\n",
              "    }\n",
              "</style>\n",
              "<table border=\"1\" class=\"dataframe\">\n",
              "  <thead>\n",
              "    <tr style=\"text-align: right;\">\n",
              "      <th></th>\n",
              "      <th>0</th>\n",
              "      <th>1</th>\n",
              "      <th>2</th>\n",
              "      <th>3</th>\n",
              "      <th>4</th>\n",
              "      <th>5</th>\n",
              "      <th>6</th>\n",
              "      <th>7</th>\n",
              "      <th>8</th>\n",
              "      <th>9</th>\n",
              "      <th>...</th>\n",
              "      <th>66</th>\n",
              "      <th>67</th>\n",
              "      <th>68</th>\n",
              "      <th>69</th>\n",
              "      <th>70</th>\n",
              "      <th>71</th>\n",
              "      <th>72</th>\n",
              "      <th>73</th>\n",
              "      <th>74</th>\n",
              "      <th>75</th>\n",
              "    </tr>\n",
              "  </thead>\n",
              "  <tbody>\n",
              "    <tr>\n",
              "      <th>289</th>\n",
              "      <td>1053</td>\n",
              "      <td>0</td>\n",
              "      <td>48</td>\n",
              "      <td>0</td>\n",
              "      <td>0</td>\n",
              "      <td>0</td>\n",
              "      <td>0</td>\n",
              "      <td>-9</td>\n",
              "      <td>2</td>\n",
              "      <td>-9</td>\n",
              "      <td>...</td>\n",
              "      <td>-9</td>\n",
              "      <td>-9</td>\n",
              "      <td>1</td>\n",
              "      <td>1</td>\n",
              "      <td>1</td>\n",
              "      <td>1</td>\n",
              "      <td>1</td>\n",
              "      <td>-9.</td>\n",
              "      <td>-9.</td>\n",
              "      <td>name</td>\n",
              "    </tr>\n",
              "    <tr>\n",
              "      <th>290</th>\n",
              "      <td>1054</td>\n",
              "      <td>0</td>\n",
              "      <td>36</td>\n",
              "      <td>1</td>\n",
              "      <td>1</td>\n",
              "      <td>0</td>\n",
              "      <td>0</td>\n",
              "      <td>-9</td>\n",
              "      <td>2</td>\n",
              "      <td>120</td>\n",
              "      <td>...</td>\n",
              "      <td>-9</td>\n",
              "      <td>-9</td>\n",
              "      <td>1</td>\n",
              "      <td>1</td>\n",
              "      <td>1</td>\n",
              "      <td>1</td>\n",
              "      <td>1</td>\n",
              "      <td>-9.</td>\n",
              "      <td>-9.</td>\n",
              "      <td>name</td>\n",
              "    </tr>\n",
              "    <tr>\n",
              "      <th>291</th>\n",
              "      <td>5001</td>\n",
              "      <td>0</td>\n",
              "      <td>48</td>\n",
              "      <td>1</td>\n",
              "      <td>0</td>\n",
              "      <td>0</td>\n",
              "      <td>0</td>\n",
              "      <td>-9</td>\n",
              "      <td>3</td>\n",
              "      <td>110</td>\n",
              "      <td>...</td>\n",
              "      <td>-9</td>\n",
              "      <td>-9</td>\n",
              "      <td>1</td>\n",
              "      <td>1</td>\n",
              "      <td>1</td>\n",
              "      <td>1</td>\n",
              "      <td>1</td>\n",
              "      <td>-9.</td>\n",
              "      <td>-9.</td>\n",
              "      <td>name</td>\n",
              "    </tr>\n",
              "    <tr>\n",
              "      <th>292</th>\n",
              "      <td>5000</td>\n",
              "      <td>0</td>\n",
              "      <td>47</td>\n",
              "      <td>0</td>\n",
              "      <td>0</td>\n",
              "      <td>0</td>\n",
              "      <td>0</td>\n",
              "      <td>-9</td>\n",
              "      <td>2</td>\n",
              "      <td>140</td>\n",
              "      <td>...</td>\n",
              "      <td>-9</td>\n",
              "      <td>-9</td>\n",
              "      <td>1</td>\n",
              "      <td>1</td>\n",
              "      <td>1</td>\n",
              "      <td>1</td>\n",
              "      <td>1</td>\n",
              "      <td>-9.</td>\n",
              "      <td>-9.</td>\n",
              "      <td>name</td>\n",
              "    </tr>\n",
              "    <tr>\n",
              "      <th>293</th>\n",
              "      <td>5002</td>\n",
              "      <td>0</td>\n",
              "      <td>53</td>\n",
              "      <td>1</td>\n",
              "      <td>1</td>\n",
              "      <td>1</td>\n",
              "      <td>1</td>\n",
              "      <td>-9</td>\n",
              "      <td>4</td>\n",
              "      <td>130</td>\n",
              "      <td>...</td>\n",
              "      <td>1</td>\n",
              "      <td>1</td>\n",
              "      <td>1</td>\n",
              "      <td>1</td>\n",
              "      <td>1</td>\n",
              "      <td>1</td>\n",
              "      <td>1</td>\n",
              "      <td>-9.</td>\n",
              "      <td>-9.</td>\n",
              "      <td>name</td>\n",
              "    </tr>\n",
              "  </tbody>\n",
              "</table>\n",
              "<p>5 rows × 76 columns</p>\n",
              "</div>"
            ],
            "text/plain": [
              "       0  1   2  3  4  5  6   7  8    9   ...  66  67 68 69 70 71 72   73  \\\n",
              "289  1053  0  48  0  0  0  0  -9  2   -9  ...  -9  -9  1  1  1  1  1  -9.   \n",
              "290  1054  0  36  1  1  0  0  -9  2  120  ...  -9  -9  1  1  1  1  1  -9.   \n",
              "291  5001  0  48  1  0  0  0  -9  3  110  ...  -9  -9  1  1  1  1  1  -9.   \n",
              "292  5000  0  47  0  0  0  0  -9  2  140  ...  -9  -9  1  1  1  1  1  -9.   \n",
              "293  5002  0  53  1  1  1  1  -9  4  130  ...   1   1  1  1  1  1  1  -9.   \n",
              "\n",
              "      74    75  \n",
              "289  -9.  name  \n",
              "290  -9.  name  \n",
              "291  -9.  name  \n",
              "292  -9.  name  \n",
              "293  -9.  name  \n",
              "\n",
              "[5 rows x 76 columns]"
            ]
          },
          "execution_count": 21,
          "metadata": {},
          "output_type": "execute_result"
        }
      ],
      "source": [
        "data = itertools.takewhile( # untuk mengambil baris-baris data yang memenuhi kriteria panjangnya adalah 76 karakter (fitur)\n",
        "    lambda x: len(x) == 76,\n",
        "    (' '.join(lines[i:(i + 10)]).split() for i in range(0, len(lines), 10))\n",
        ")\n",
        "\n",
        "df = pd.DataFrame.from_records(data) # fungsi ini mengonversi data yang diperoleh dari data menjadi DataFrame dengan kolom-kolom yang sesuai\n",
        "\n",
        "df.tail() # Untuk mencetak 5 baris terakhir dari DataFrame yang dibentuk"
      ]
    },
    {
      "cell_type": "markdown",
      "metadata": {
        "id": "lHraWl1yQfNK"
      },
      "source": [
        "Fungsi **(' '.join(lines[i:(i + 10)]).split() for i in range(0, len(lines), 10))** digunakan untuk mengambil data dari lines. Fungsinya untuk menggabungkan 10 baris data menjadi satu string dengan spasi sebagai pemisah. Kemudian membaginya menjadi kata-kata menggunakan **.split()**. Hanya baris-baris data yang memenuhi panjang 76 karakter yang diambil."
      ]
    },
    {
      "cell_type": "code",
      "execution_count": 22,
      "metadata": {
        "colab": {
          "base_uri": "https://localhost:8080/"
        },
        "id": "AzJ_8gGfQbnA",
        "outputId": "d8bac3bd-c857-4e73-ecd4-e295931e07a3"
      },
      "outputs": [
        {
          "name": "stdout",
          "output_type": "stream",
          "text": [
            "<class 'pandas.core.frame.DataFrame'>\n",
            "RangeIndex: 294 entries, 0 to 293\n",
            "Data columns (total 76 columns):\n",
            " #   Column  Non-Null Count  Dtype \n",
            "---  ------  --------------  ----- \n",
            " 0   0       294 non-null    object\n",
            " 1   1       294 non-null    object\n",
            " 2   2       294 non-null    object\n",
            " 3   3       294 non-null    object\n",
            " 4   4       294 non-null    object\n",
            " 5   5       294 non-null    object\n",
            " 6   6       294 non-null    object\n",
            " 7   7       294 non-null    object\n",
            " 8   8       294 non-null    object\n",
            " 9   9       294 non-null    object\n",
            " 10  10      294 non-null    object\n",
            " 11  11      294 non-null    object\n",
            " 12  12      294 non-null    object\n",
            " 13  13      294 non-null    object\n",
            " 14  14      294 non-null    object\n",
            " 15  15      294 non-null    object\n",
            " 16  16      294 non-null    object\n",
            " 17  17      294 non-null    object\n",
            " 18  18      294 non-null    object\n",
            " 19  19      294 non-null    object\n",
            " 20  20      294 non-null    object\n",
            " 21  21      294 non-null    object\n",
            " 22  22      294 non-null    object\n",
            " 23  23      294 non-null    object\n",
            " 24  24      294 non-null    object\n",
            " 25  25      294 non-null    object\n",
            " 26  26      294 non-null    object\n",
            " 27  27      294 non-null    object\n",
            " 28  28      294 non-null    object\n",
            " 29  29      294 non-null    object\n",
            " 30  30      294 non-null    object\n",
            " 31  31      294 non-null    object\n",
            " 32  32      294 non-null    object\n",
            " 33  33      294 non-null    object\n",
            " 34  34      294 non-null    object\n",
            " 35  35      294 non-null    object\n",
            " 36  36      294 non-null    object\n",
            " 37  37      294 non-null    object\n",
            " 38  38      294 non-null    object\n",
            " 39  39      294 non-null    object\n",
            " 40  40      294 non-null    object\n",
            " 41  41      294 non-null    object\n",
            " 42  42      294 non-null    object\n",
            " 43  43      294 non-null    object\n",
            " 44  44      294 non-null    object\n",
            " 45  45      294 non-null    object\n",
            " 46  46      294 non-null    object\n",
            " 47  47      294 non-null    object\n",
            " 48  48      294 non-null    object\n",
            " 49  49      294 non-null    object\n",
            " 50  50      294 non-null    object\n",
            " 51  51      294 non-null    object\n",
            " 52  52      294 non-null    object\n",
            " 53  53      294 non-null    object\n",
            " 54  54      294 non-null    object\n",
            " 55  55      294 non-null    object\n",
            " 56  56      294 non-null    object\n",
            " 57  57      294 non-null    object\n",
            " 58  58      294 non-null    object\n",
            " 59  59      294 non-null    object\n",
            " 60  60      294 non-null    object\n",
            " 61  61      294 non-null    object\n",
            " 62  62      294 non-null    object\n",
            " 63  63      294 non-null    object\n",
            " 64  64      294 non-null    object\n",
            " 65  65      294 non-null    object\n",
            " 66  66      294 non-null    object\n",
            " 67  67      294 non-null    object\n",
            " 68  68      294 non-null    object\n",
            " 69  69      294 non-null    object\n",
            " 70  70      294 non-null    object\n",
            " 71  71      294 non-null    object\n",
            " 72  72      294 non-null    object\n",
            " 73  73      294 non-null    object\n",
            " 74  74      294 non-null    object\n",
            " 75  75      294 non-null    object\n",
            "dtypes: object(76)\n",
            "memory usage: 174.7+ KB\n"
          ]
        }
      ],
      "source": [
        "df.info() # Untuk menampilkan informasi tentang DataFrame df.\n",
        "# Informasi ini termasuk jumlah baris dan kolom, tipe data dari setiap kolom, serta jumlah nilai non-null yang ada di setiap kolom."
      ]
    },
    {
      "cell_type": "markdown",
      "metadata": {
        "id": "jQbHSQljQjLx"
      },
      "source": [
        "Output dari df.info() akan mencakup :\n",
        "- Jumlah total baris dalam DataFrame\n",
        "- Daftar kolom beserta jumlah nilai non-null yang ada di setiap kolom\n",
        "- Tipe data dari setiap kolom\n",
        "- Jumlah memori yang digunakan oleh DataFrame"
      ]
    },
    {
      "cell_type": "markdown",
      "metadata": {
        "id": "VNXLneg6Qk9A"
      },
      "source": [
        "Untuk nilai null disimbolkan dengan angka -9.0 dan terlihat bahwa kondisi dataset yang digunakan terdapat kondisi khusus. Maka perlu dilakukan penghapusan fitur."
      ]
    },
    {
      "cell_type": "code",
      "execution_count": 23,
      "metadata": {
        "id": "Xf7ISIdfQg0a"
      },
      "outputs": [],
      "source": [
        "df = df.iloc[:,:-1] # Untuk memilih semua baris dan kolom kecuali kolom terakhir dari DataFrame df\n",
        "df = df.drop(df.columns[0], axis=1) # Untuk menghapus kolom pertama dari DataFrame df"
      ]
    },
    {
      "cell_type": "markdown",
      "metadata": {
        "id": "hahp1eLoQoew"
      },
      "source": [
        "- **iloc** digunakan untuk memilih berdasarkan posisi indeks,\n",
        "- **:,:** digunakan untuk memilih semua baris\n",
        "- **:-1** digunakan untuk memilih semua kolom kecuali yang terakhir\n",
        "- **df.columns[0]** digunakan untuk mengidentifikasi kolom pertama berdasarkan nama kolom\n",
        "- **axis=1** digunakan untuk menunjukkan bahwa penghapusan dilakukan pada sumbu kolom."
      ]
    },
    {
      "cell_type": "markdown",
      "metadata": {
        "id": "NXp4CsEDQq0x"
      },
      "source": [
        "Selanjutnya adalah mengubah tipe data menjadi float agar sesuai dengan nilai null yaitu -9.0"
      ]
    },
    {
      "cell_type": "code",
      "execution_count": 24,
      "metadata": {
        "id": "5TSAuEY6Qm3z"
      },
      "outputs": [],
      "source": [
        "df = df.astype(float)"
      ]
    },
    {
      "cell_type": "code",
      "execution_count": 25,
      "metadata": {
        "colab": {
          "base_uri": "https://localhost:8080/"
        },
        "id": "8Pv2rJyQQsDs",
        "outputId": "f9a1b2e1-df42-4b4a-bcbb-56ffec02d8e0"
      },
      "outputs": [
        {
          "name": "stdout",
          "output_type": "stream",
          "text": [
            "<class 'pandas.core.frame.DataFrame'>\n",
            "RangeIndex: 294 entries, 0 to 293\n",
            "Data columns (total 74 columns):\n",
            " #   Column  Non-Null Count  Dtype  \n",
            "---  ------  --------------  -----  \n",
            " 0   1       294 non-null    float64\n",
            " 1   2       294 non-null    float64\n",
            " 2   3       294 non-null    float64\n",
            " 3   4       294 non-null    float64\n",
            " 4   5       294 non-null    float64\n",
            " 5   6       294 non-null    float64\n",
            " 6   7       294 non-null    float64\n",
            " 7   8       294 non-null    float64\n",
            " 8   9       294 non-null    float64\n",
            " 9   10      294 non-null    float64\n",
            " 10  11      294 non-null    float64\n",
            " 11  12      294 non-null    float64\n",
            " 12  13      294 non-null    float64\n",
            " 13  14      294 non-null    float64\n",
            " 14  15      294 non-null    float64\n",
            " 15  16      294 non-null    float64\n",
            " 16  17      294 non-null    float64\n",
            " 17  18      294 non-null    float64\n",
            " 18  19      294 non-null    float64\n",
            " 19  20      294 non-null    float64\n",
            " 20  21      294 non-null    float64\n",
            " 21  22      294 non-null    float64\n",
            " 22  23      294 non-null    float64\n",
            " 23  24      294 non-null    float64\n",
            " 24  25      294 non-null    float64\n",
            " 25  26      294 non-null    float64\n",
            " 26  27      294 non-null    float64\n",
            " 27  28      294 non-null    float64\n",
            " 28  29      294 non-null    float64\n",
            " 29  30      294 non-null    float64\n",
            " 30  31      294 non-null    float64\n",
            " 31  32      294 non-null    float64\n",
            " 32  33      294 non-null    float64\n",
            " 33  34      294 non-null    float64\n",
            " 34  35      294 non-null    float64\n",
            " 35  36      294 non-null    float64\n",
            " 36  37      294 non-null    float64\n",
            " 37  38      294 non-null    float64\n",
            " 38  39      294 non-null    float64\n",
            " 39  40      294 non-null    float64\n",
            " 40  41      294 non-null    float64\n",
            " 41  42      294 non-null    float64\n",
            " 42  43      294 non-null    float64\n",
            " 43  44      294 non-null    float64\n",
            " 44  45      294 non-null    float64\n",
            " 45  46      294 non-null    float64\n",
            " 46  47      294 non-null    float64\n",
            " 47  48      294 non-null    float64\n",
            " 48  49      294 non-null    float64\n",
            " 49  50      294 non-null    float64\n",
            " 50  51      294 non-null    float64\n",
            " 51  52      294 non-null    float64\n",
            " 52  53      294 non-null    float64\n",
            " 53  54      294 non-null    float64\n",
            " 54  55      294 non-null    float64\n",
            " 55  56      294 non-null    float64\n",
            " 56  57      294 non-null    float64\n",
            " 57  58      294 non-null    float64\n",
            " 58  59      294 non-null    float64\n",
            " 59  60      294 non-null    float64\n",
            " 60  61      294 non-null    float64\n",
            " 61  62      294 non-null    float64\n",
            " 62  63      294 non-null    float64\n",
            " 63  64      294 non-null    float64\n",
            " 64  65      294 non-null    float64\n",
            " 65  66      294 non-null    float64\n",
            " 66  67      294 non-null    float64\n",
            " 67  68      294 non-null    float64\n",
            " 68  69      294 non-null    float64\n",
            " 69  70      294 non-null    float64\n",
            " 70  71      294 non-null    float64\n",
            " 71  72      294 non-null    float64\n",
            " 72  73      294 non-null    float64\n",
            " 73  74      294 non-null    float64\n",
            "dtypes: float64(74)\n",
            "memory usage: 170.1 KB\n"
          ]
        }
      ],
      "source": [
        "df.info()"
      ]
    },
    {
      "cell_type": "markdown",
      "metadata": {
        "id": "7qG8JJQ-QvUK"
      },
      "source": [
        "# 3) Validasi Data\n",
        "\n",
        "Validasi data bertujuan untuk mengetahui dan memahami isi dari dataset agar dapat dilakukan penanganan sesuai dengan kondisinya."
      ]
    },
    {
      "cell_type": "markdown",
      "metadata": {
        "id": "NTHmrOz2QzrO"
      },
      "source": [
        "Langkah ini bertujuan mengubah nilai -9.0 menjadi nilai null sesuai dengan deskripsi dataset"
      ]
    },
    {
      "cell_type": "code",
      "execution_count": 26,
      "metadata": {
        "id": "LJ-3Ofy-Qs38"
      },
      "outputs": [],
      "source": [
        "df.replace(-9.0, np.nan, inplace=True) # Mengganti nilai -9.0 menjadi NaN(Not a Number)"
      ]
    },
    {
      "cell_type": "markdown",
      "metadata": {
        "id": "PcOZOEKKQ63d"
      },
      "source": [
        "- **df.replace()** untuk mengganti nilai\n",
        "\n",
        "- **-9.0** adalah nilai yang ingin diganti\n",
        "\n",
        "- **np.nan** adalah nilai pengganti yang ditetapkan sebagai NaN\n",
        "\n",
        "- **inplace=True** untuk mengganti nilai secara langsung di dalam DataFrame df"
      ]
    },
    {
      "cell_type": "markdown",
      "metadata": {
        "id": "VN6trFbwQ8zY"
      },
      "source": [
        "Langkah selanjutnya adalah menghitung jumlah nilai null"
      ]
    },
    {
      "cell_type": "code",
      "execution_count": 27,
      "metadata": {
        "colab": {
          "base_uri": "https://localhost:8080/"
        },
        "id": "QGizkGe9Q1MW",
        "outputId": "9015fca6-7e7b-44a7-ce95-2d7b92a06229"
      },
      "outputs": [
        {
          "data": {
            "text/plain": [
              "1       0\n",
              "2       0\n",
              "3       0\n",
              "4       0\n",
              "5       0\n",
              "     ... \n",
              "70      0\n",
              "71      0\n",
              "72      0\n",
              "73    266\n",
              "74    294\n",
              "Length: 74, dtype: int64"
            ]
          },
          "execution_count": 27,
          "metadata": {},
          "output_type": "execute_result"
        }
      ],
      "source": [
        "df.isnull().sum() # Untuk menghitung jumlah nilai NaN pada setiap kolom"
      ]
    },
    {
      "cell_type": "markdown",
      "metadata": {
        "id": "b8RogwthQ_kp"
      },
      "source": [
        "- df.isnull() untuk menghasilkan DataFrame boolean dengan nilai True pada setiap sel yang  berisi Nan dan False pada setiap sel yang berisi nilai valid\n",
        "\n",
        "- .sum() untuk menjumlahkan nilai True (yang mewakili nilai NaN) dalam setiap kolom\n",
        "\n",
        "Hal ini berguna untuk membantu memahami data yang hilang atau tidak valid dalam setiap kolom. Setelah mengetahui jumlah nilai NaN, langkah selanjutnya dapat dipilih sesuai kebutuhan, seperti mengisi nilai yang hilang, menghapus baris atau kolom dengan banyak nilai NaN, atau melakukan manipulasi data lainnya untuk menangani kekosongan data."
      ]
    },
    {
      "cell_type": "code",
      "execution_count": 28,
      "metadata": {
        "colab": {
          "base_uri": "https://localhost:8080/",
          "height": 235
        },
        "id": "w_o2_R3DQ99O",
        "outputId": "04832371-56d6-46c4-ad9b-7fe82bfaa6ff"
      },
      "outputs": [
        {
          "data": {
            "text/html": [
              "<div>\n",
              "<style scoped>\n",
              "    .dataframe tbody tr th:only-of-type {\n",
              "        vertical-align: middle;\n",
              "    }\n",
              "\n",
              "    .dataframe tbody tr th {\n",
              "        vertical-align: top;\n",
              "    }\n",
              "\n",
              "    .dataframe thead th {\n",
              "        text-align: right;\n",
              "    }\n",
              "</style>\n",
              "<table border=\"1\" class=\"dataframe\">\n",
              "  <thead>\n",
              "    <tr style=\"text-align: right;\">\n",
              "      <th></th>\n",
              "      <th>1</th>\n",
              "      <th>2</th>\n",
              "      <th>3</th>\n",
              "      <th>4</th>\n",
              "      <th>5</th>\n",
              "      <th>6</th>\n",
              "      <th>7</th>\n",
              "      <th>8</th>\n",
              "      <th>9</th>\n",
              "      <th>10</th>\n",
              "      <th>...</th>\n",
              "      <th>65</th>\n",
              "      <th>66</th>\n",
              "      <th>67</th>\n",
              "      <th>68</th>\n",
              "      <th>69</th>\n",
              "      <th>70</th>\n",
              "      <th>71</th>\n",
              "      <th>72</th>\n",
              "      <th>73</th>\n",
              "      <th>74</th>\n",
              "    </tr>\n",
              "  </thead>\n",
              "  <tbody>\n",
              "    <tr>\n",
              "      <th>0</th>\n",
              "      <td>0.0</td>\n",
              "      <td>40.0</td>\n",
              "      <td>1.0</td>\n",
              "      <td>1.0</td>\n",
              "      <td>0.0</td>\n",
              "      <td>0.0</td>\n",
              "      <td>NaN</td>\n",
              "      <td>2.0</td>\n",
              "      <td>140.0</td>\n",
              "      <td>0.0</td>\n",
              "      <td>...</td>\n",
              "      <td>NaN</td>\n",
              "      <td>NaN</td>\n",
              "      <td>NaN</td>\n",
              "      <td>1.0</td>\n",
              "      <td>1.0</td>\n",
              "      <td>1.0</td>\n",
              "      <td>1.0</td>\n",
              "      <td>1.0</td>\n",
              "      <td>NaN</td>\n",
              "      <td>NaN</td>\n",
              "    </tr>\n",
              "    <tr>\n",
              "      <th>1</th>\n",
              "      <td>0.0</td>\n",
              "      <td>49.0</td>\n",
              "      <td>0.0</td>\n",
              "      <td>1.0</td>\n",
              "      <td>0.0</td>\n",
              "      <td>0.0</td>\n",
              "      <td>NaN</td>\n",
              "      <td>3.0</td>\n",
              "      <td>160.0</td>\n",
              "      <td>1.0</td>\n",
              "      <td>...</td>\n",
              "      <td>NaN</td>\n",
              "      <td>NaN</td>\n",
              "      <td>NaN</td>\n",
              "      <td>1.0</td>\n",
              "      <td>1.0</td>\n",
              "      <td>1.0</td>\n",
              "      <td>1.0</td>\n",
              "      <td>1.0</td>\n",
              "      <td>NaN</td>\n",
              "      <td>NaN</td>\n",
              "    </tr>\n",
              "    <tr>\n",
              "      <th>2</th>\n",
              "      <td>0.0</td>\n",
              "      <td>37.0</td>\n",
              "      <td>1.0</td>\n",
              "      <td>1.0</td>\n",
              "      <td>0.0</td>\n",
              "      <td>0.0</td>\n",
              "      <td>NaN</td>\n",
              "      <td>2.0</td>\n",
              "      <td>130.0</td>\n",
              "      <td>0.0</td>\n",
              "      <td>...</td>\n",
              "      <td>NaN</td>\n",
              "      <td>NaN</td>\n",
              "      <td>NaN</td>\n",
              "      <td>1.0</td>\n",
              "      <td>1.0</td>\n",
              "      <td>1.0</td>\n",
              "      <td>1.0</td>\n",
              "      <td>1.0</td>\n",
              "      <td>NaN</td>\n",
              "      <td>NaN</td>\n",
              "    </tr>\n",
              "    <tr>\n",
              "      <th>3</th>\n",
              "      <td>0.0</td>\n",
              "      <td>48.0</td>\n",
              "      <td>0.0</td>\n",
              "      <td>1.0</td>\n",
              "      <td>1.0</td>\n",
              "      <td>1.0</td>\n",
              "      <td>NaN</td>\n",
              "      <td>4.0</td>\n",
              "      <td>138.0</td>\n",
              "      <td>0.0</td>\n",
              "      <td>...</td>\n",
              "      <td>NaN</td>\n",
              "      <td>2.0</td>\n",
              "      <td>NaN</td>\n",
              "      <td>1.0</td>\n",
              "      <td>1.0</td>\n",
              "      <td>1.0</td>\n",
              "      <td>1.0</td>\n",
              "      <td>1.0</td>\n",
              "      <td>NaN</td>\n",
              "      <td>NaN</td>\n",
              "    </tr>\n",
              "    <tr>\n",
              "      <th>4</th>\n",
              "      <td>0.0</td>\n",
              "      <td>54.0</td>\n",
              "      <td>1.0</td>\n",
              "      <td>1.0</td>\n",
              "      <td>0.0</td>\n",
              "      <td>1.0</td>\n",
              "      <td>NaN</td>\n",
              "      <td>3.0</td>\n",
              "      <td>150.0</td>\n",
              "      <td>0.0</td>\n",
              "      <td>...</td>\n",
              "      <td>NaN</td>\n",
              "      <td>1.0</td>\n",
              "      <td>NaN</td>\n",
              "      <td>1.0</td>\n",
              "      <td>1.0</td>\n",
              "      <td>1.0</td>\n",
              "      <td>1.0</td>\n",
              "      <td>1.0</td>\n",
              "      <td>NaN</td>\n",
              "      <td>NaN</td>\n",
              "    </tr>\n",
              "  </tbody>\n",
              "</table>\n",
              "<p>5 rows × 74 columns</p>\n",
              "</div>"
            ],
            "text/plain": [
              "    1     2    3    4    5    6   7    8      9    10  ...  65   66  67   68  \\\n",
              "0  0.0  40.0  1.0  1.0  0.0  0.0 NaN  2.0  140.0  0.0  ... NaN  NaN NaN  1.0   \n",
              "1  0.0  49.0  0.0  1.0  0.0  0.0 NaN  3.0  160.0  1.0  ... NaN  NaN NaN  1.0   \n",
              "2  0.0  37.0  1.0  1.0  0.0  0.0 NaN  2.0  130.0  0.0  ... NaN  NaN NaN  1.0   \n",
              "3  0.0  48.0  0.0  1.0  1.0  1.0 NaN  4.0  138.0  0.0  ... NaN  2.0 NaN  1.0   \n",
              "4  0.0  54.0  1.0  1.0  0.0  1.0 NaN  3.0  150.0  0.0  ... NaN  1.0 NaN  1.0   \n",
              "\n",
              "    69   70   71   72  73  74  \n",
              "0  1.0  1.0  1.0  1.0 NaN NaN  \n",
              "1  1.0  1.0  1.0  1.0 NaN NaN  \n",
              "2  1.0  1.0  1.0  1.0 NaN NaN  \n",
              "3  1.0  1.0  1.0  1.0 NaN NaN  \n",
              "4  1.0  1.0  1.0  1.0 NaN NaN  \n",
              "\n",
              "[5 rows x 74 columns]"
            ]
          },
          "execution_count": 28,
          "metadata": {},
          "output_type": "execute_result"
        }
      ],
      "source": [
        "df.head() # untuk menampilkan beberapa baris pertama dari DataFrame df"
      ]
    },
    {
      "cell_type": "markdown",
      "metadata": {
        "id": "DKUXOwt_RC9Q"
      },
      "source": [
        "Outputnya adalah menampilkan 5 baris pertama dari DataFrame. Hal ini berfungsi untuk melihat dengan cepat isi dan struktur awal dari DataFrame, membantu dalam pemahaman awal tentang data yang ada."
      ]
    },
    {
      "cell_type": "code",
      "execution_count": 29,
      "metadata": {
        "colab": {
          "base_uri": "https://localhost:8080/"
        },
        "id": "FXhWIyx3RBLG",
        "outputId": "fc378052-8460-4017-dcb9-392100794dac"
      },
      "outputs": [
        {
          "name": "stdout",
          "output_type": "stream",
          "text": [
            "<class 'pandas.core.frame.DataFrame'>\n",
            "RangeIndex: 294 entries, 0 to 293\n",
            "Data columns (total 74 columns):\n",
            " #   Column  Non-Null Count  Dtype  \n",
            "---  ------  --------------  -----  \n",
            " 0   1       294 non-null    float64\n",
            " 1   2       294 non-null    float64\n",
            " 2   3       294 non-null    float64\n",
            " 3   4       294 non-null    float64\n",
            " 4   5       294 non-null    float64\n",
            " 5   6       294 non-null    float64\n",
            " 6   7       0 non-null      float64\n",
            " 7   8       294 non-null    float64\n",
            " 8   9       293 non-null    float64\n",
            " 9   10      293 non-null    float64\n",
            " 10  11      271 non-null    float64\n",
            " 11  12      12 non-null     float64\n",
            " 12  13      1 non-null      float64\n",
            " 13  14      0 non-null      float64\n",
            " 14  15      286 non-null    float64\n",
            " 15  16      21 non-null     float64\n",
            " 16  17      1 non-null      float64\n",
            " 17  18      293 non-null    float64\n",
            " 18  19      294 non-null    float64\n",
            " 19  20      294 non-null    float64\n",
            " 20  21      294 non-null    float64\n",
            " 21  22      293 non-null    float64\n",
            " 22  23      292 non-null    float64\n",
            " 23  24      293 non-null    float64\n",
            " 24  25      293 non-null    float64\n",
            " 25  26      293 non-null    float64\n",
            " 26  27      285 non-null    float64\n",
            " 27  28      292 non-null    float64\n",
            " 28  29      104 non-null    float64\n",
            " 29  30      292 non-null    float64\n",
            " 30  31      293 non-null    float64\n",
            " 31  32      293 non-null    float64\n",
            " 32  33      293 non-null    float64\n",
            " 33  34      293 non-null    float64\n",
            " 34  35      293 non-null    float64\n",
            " 35  36      293 non-null    float64\n",
            " 36  37      293 non-null    float64\n",
            " 37  38      292 non-null    float64\n",
            " 38  39      294 non-null    float64\n",
            " 39  40      104 non-null    float64\n",
            " 40  41      293 non-null    float64\n",
            " 41  42      294 non-null    float64\n",
            " 42  43      4 non-null      float64\n",
            " 43  44      0 non-null      float64\n",
            " 44  45      0 non-null      float64\n",
            " 45  46      0 non-null      float64\n",
            " 46  47      3 non-null      float64\n",
            " 47  48      0 non-null      float64\n",
            " 48  49      2 non-null      float64\n",
            " 49  50      28 non-null     float64\n",
            " 50  51      27 non-null     float64\n",
            " 51  52      17 non-null     float64\n",
            " 52  53      0 non-null      float64\n",
            " 53  54      294 non-null    float64\n",
            " 54  55      294 non-null    float64\n",
            " 55  56      294 non-null    float64\n",
            " 56  57      294 non-null    float64\n",
            " 57  58      19 non-null     float64\n",
            " 58  59      58 non-null     float64\n",
            " 59  60      48 non-null     float64\n",
            " 60  61      18 non-null     float64\n",
            " 61  62      59 non-null     float64\n",
            " 62  63      9 non-null      float64\n",
            " 63  64      23 non-null     float64\n",
            " 64  65      5 non-null      float64\n",
            " 65  66      50 non-null     float64\n",
            " 66  67      25 non-null     float64\n",
            " 67  68      294 non-null    float64\n",
            " 68  69      294 non-null    float64\n",
            " 69  70      294 non-null    float64\n",
            " 70  71      294 non-null    float64\n",
            " 71  72      294 non-null    float64\n",
            " 72  73      28 non-null     float64\n",
            " 73  74      0 non-null      float64\n",
            "dtypes: float64(74)\n",
            "memory usage: 170.1 KB\n"
          ]
        }
      ],
      "source": [
        "df.info()"
      ]
    },
    {
      "cell_type": "markdown",
      "metadata": {
        "id": "t3eLwgQtRHfz"
      },
      "source": [
        "# 4) Menentukan Object Data\n",
        "\n",
        "Langkah selanjutnya adalah memilih fitur-fitur yang akan digunakan dalam proses analisis. Menurut deskripsi dataset yang tertera dalam website uci-heartdisease, fitur yang digunakan adalah 14 fitur."
      ]
    },
    {
      "cell_type": "code",
      "execution_count": 30,
      "metadata": {
        "id": "PfhvktAUREcm"
      },
      "outputs": [],
      "source": [
        "df_selected = df.iloc[:, [1, 2, 7, 8, 10, 14, 17, 30, 36, 38, 39, 42, 49, 56]]\n",
        "# Untuk seleksi kolom tertentu dalam DataFrame"
      ]
    },
    {
      "cell_type": "markdown",
      "metadata": {
        "id": "8EeNhXxjRLLZ"
      },
      "source": [
        "- **df_selected** merupakan DataFrame baru yang terbentuk dan akan terdiri dari kolom-kolom yang telah dipilih tersebut\n",
        "\n",
        "- **df.iloc** untuk memilih berdasarkan posisi indeks\n",
        "\n",
        "- **:** untuk memilih semua baris\n",
        "\n",
        "- **[:, [1, 2, 7, 8, 10, 14, 17, 30, 36, 38, 39, 42, 49, 56]]** untuk memilih kolom-kolom yang diinginkan berdasarkan posisi indeks kolom"
      ]
    },
    {
      "cell_type": "code",
      "execution_count": 31,
      "metadata": {
        "colab": {
          "base_uri": "https://localhost:8080/",
          "height": 206
        },
        "id": "gXiPAz7xRKaC",
        "outputId": "f2ea0015-6426-47a5-ecdf-d6bc8c2d526c"
      },
      "outputs": [
        {
          "data": {
            "text/html": [
              "<div>\n",
              "<style scoped>\n",
              "    .dataframe tbody tr th:only-of-type {\n",
              "        vertical-align: middle;\n",
              "    }\n",
              "\n",
              "    .dataframe tbody tr th {\n",
              "        vertical-align: top;\n",
              "    }\n",
              "\n",
              "    .dataframe thead th {\n",
              "        text-align: right;\n",
              "    }\n",
              "</style>\n",
              "<table border=\"1\" class=\"dataframe\">\n",
              "  <thead>\n",
              "    <tr style=\"text-align: right;\">\n",
              "      <th></th>\n",
              "      <th>2</th>\n",
              "      <th>3</th>\n",
              "      <th>8</th>\n",
              "      <th>9</th>\n",
              "      <th>11</th>\n",
              "      <th>15</th>\n",
              "      <th>18</th>\n",
              "      <th>31</th>\n",
              "      <th>37</th>\n",
              "      <th>39</th>\n",
              "      <th>40</th>\n",
              "      <th>43</th>\n",
              "      <th>50</th>\n",
              "      <th>57</th>\n",
              "    </tr>\n",
              "  </thead>\n",
              "  <tbody>\n",
              "    <tr>\n",
              "      <th>289</th>\n",
              "      <td>48.0</td>\n",
              "      <td>0.0</td>\n",
              "      <td>2.0</td>\n",
              "      <td>NaN</td>\n",
              "      <td>308.0</td>\n",
              "      <td>0.0</td>\n",
              "      <td>1.0</td>\n",
              "      <td>NaN</td>\n",
              "      <td>NaN</td>\n",
              "      <td>2.0</td>\n",
              "      <td>1.0</td>\n",
              "      <td>NaN</td>\n",
              "      <td>NaN</td>\n",
              "      <td>0.0</td>\n",
              "    </tr>\n",
              "    <tr>\n",
              "      <th>290</th>\n",
              "      <td>36.0</td>\n",
              "      <td>1.0</td>\n",
              "      <td>2.0</td>\n",
              "      <td>120.0</td>\n",
              "      <td>166.0</td>\n",
              "      <td>0.0</td>\n",
              "      <td>0.0</td>\n",
              "      <td>180.0</td>\n",
              "      <td>0.0</td>\n",
              "      <td>0.0</td>\n",
              "      <td>NaN</td>\n",
              "      <td>NaN</td>\n",
              "      <td>NaN</td>\n",
              "      <td>0.0</td>\n",
              "    </tr>\n",
              "    <tr>\n",
              "      <th>291</th>\n",
              "      <td>48.0</td>\n",
              "      <td>1.0</td>\n",
              "      <td>3.0</td>\n",
              "      <td>110.0</td>\n",
              "      <td>211.0</td>\n",
              "      <td>0.0</td>\n",
              "      <td>0.0</td>\n",
              "      <td>138.0</td>\n",
              "      <td>0.0</td>\n",
              "      <td>0.0</td>\n",
              "      <td>NaN</td>\n",
              "      <td>NaN</td>\n",
              "      <td>6.0</td>\n",
              "      <td>0.0</td>\n",
              "    </tr>\n",
              "    <tr>\n",
              "      <th>292</th>\n",
              "      <td>47.0</td>\n",
              "      <td>0.0</td>\n",
              "      <td>2.0</td>\n",
              "      <td>140.0</td>\n",
              "      <td>257.0</td>\n",
              "      <td>0.0</td>\n",
              "      <td>0.0</td>\n",
              "      <td>135.0</td>\n",
              "      <td>0.0</td>\n",
              "      <td>1.0</td>\n",
              "      <td>1.0</td>\n",
              "      <td>NaN</td>\n",
              "      <td>NaN</td>\n",
              "      <td>0.0</td>\n",
              "    </tr>\n",
              "    <tr>\n",
              "      <th>293</th>\n",
              "      <td>53.0</td>\n",
              "      <td>1.0</td>\n",
              "      <td>4.0</td>\n",
              "      <td>130.0</td>\n",
              "      <td>182.0</td>\n",
              "      <td>0.0</td>\n",
              "      <td>0.0</td>\n",
              "      <td>148.0</td>\n",
              "      <td>0.0</td>\n",
              "      <td>0.0</td>\n",
              "      <td>NaN</td>\n",
              "      <td>NaN</td>\n",
              "      <td>NaN</td>\n",
              "      <td>0.0</td>\n",
              "    </tr>\n",
              "  </tbody>\n",
              "</table>\n",
              "</div>"
            ],
            "text/plain": [
              "       2    3    8      9      11   15   18     31   37   39   40  43   50  \\\n",
              "289  48.0  0.0  2.0    NaN  308.0  0.0  1.0    NaN  NaN  2.0  1.0 NaN  NaN   \n",
              "290  36.0  1.0  2.0  120.0  166.0  0.0  0.0  180.0  0.0  0.0  NaN NaN  NaN   \n",
              "291  48.0  1.0  3.0  110.0  211.0  0.0  0.0  138.0  0.0  0.0  NaN NaN  6.0   \n",
              "292  47.0  0.0  2.0  140.0  257.0  0.0  0.0  135.0  0.0  1.0  1.0 NaN  NaN   \n",
              "293  53.0  1.0  4.0  130.0  182.0  0.0  0.0  148.0  0.0  0.0  NaN NaN  NaN   \n",
              "\n",
              "      57  \n",
              "289  0.0  \n",
              "290  0.0  \n",
              "291  0.0  \n",
              "292  0.0  \n",
              "293  0.0  "
            ]
          },
          "execution_count": 31,
          "metadata": {},
          "output_type": "execute_result"
        }
      ],
      "source": [
        "df_selected.head() # Menampilkan 5 baris awal untuk DataFrame baru yang berisi kolom-kolom yang telah dipilih\n",
        "df_selected.tail() # Menampillkan 5 baris akhir untuk DataFrame baru yang berisi kolom-kolom yang telah dipilih"
      ]
    },
    {
      "cell_type": "code",
      "execution_count": 32,
      "metadata": {
        "colab": {
          "base_uri": "https://localhost:8080/"
        },
        "id": "PmDlvJhFRNsj",
        "outputId": "02aed4d7-a961-4200-c056-610aeff4bfc1"
      },
      "outputs": [
        {
          "name": "stdout",
          "output_type": "stream",
          "text": [
            "<class 'pandas.core.frame.DataFrame'>\n",
            "RangeIndex: 294 entries, 0 to 293\n",
            "Data columns (total 14 columns):\n",
            " #   Column  Non-Null Count  Dtype  \n",
            "---  ------  --------------  -----  \n",
            " 0   2       294 non-null    float64\n",
            " 1   3       294 non-null    float64\n",
            " 2   8       294 non-null    float64\n",
            " 3   9       293 non-null    float64\n",
            " 4   11      271 non-null    float64\n",
            " 5   15      286 non-null    float64\n",
            " 6   18      293 non-null    float64\n",
            " 7   31      293 non-null    float64\n",
            " 8   37      293 non-null    float64\n",
            " 9   39      294 non-null    float64\n",
            " 10  40      104 non-null    float64\n",
            " 11  43      4 non-null      float64\n",
            " 12  50      28 non-null     float64\n",
            " 13  57      294 non-null    float64\n",
            "dtypes: float64(14)\n",
            "memory usage: 32.3 KB\n"
          ]
        }
      ],
      "source": [
        "df_selected.info()"
      ]
    },
    {
      "cell_type": "markdown",
      "metadata": {
        "id": "YQsC4EtJRQ3l"
      },
      "source": [
        "Langkah selanjutnya adalah mengganti nama kolom sesuai dengan 14 nama kolom yang ada pada deskripsi dataset.\n",
        "\n",
        "Nama dan penempatan dapat dilihat sesuai informasi yang ada pada website UCI HeartDisease"
      ]
    },
    {
      "cell_type": "code",
      "execution_count": 33,
      "metadata": {
        "colab": {
          "base_uri": "https://localhost:8080/"
        },
        "id": "99IZN6LWRPWE",
        "outputId": "8b7c825e-1a98-4710-db07-81d28dc723ce"
      },
      "outputs": [
        {
          "name": "stderr",
          "output_type": "stream",
          "text": [
            "C:\\Users\\ardiawanfadilah\\AppData\\Local\\Temp\\ipykernel_2148\\610540938.py:19: SettingWithCopyWarning: \n",
            "A value is trying to be set on a copy of a slice from a DataFrame\n",
            "\n",
            "See the caveats in the documentation: https://pandas.pydata.org/pandas-docs/stable/user_guide/indexing.html#returning-a-view-versus-a-copy\n",
            "  df_selected.rename(columns=column_mapping, inplace=True) # Untuk mengganti nama kolom DataFrame df_selected berdasarkan pemetaan yang diberikan\n"
          ]
        }
      ],
      "source": [
        "# Pemetaan nama kolom dalam DataFrame\n",
        "column_mapping = { #berisi pemetaan antara posisi indeks kolom dan nama kolom yang diinginkan\n",
        "    2: 'age',\n",
        "    3: 'sex',\n",
        "    8: 'cp',\n",
        "    9: 'trestbps',\n",
        "    11: 'chol',\n",
        "    15: 'fbs',\n",
        "    18: 'restecg',\n",
        "    31: 'thalach',\n",
        "    37: 'exang',\n",
        "    39: 'oldpeak',\n",
        "    40: 'slope',\n",
        "    43: 'ca',\n",
        "    50: 'thal',\n",
        "    57: 'target'\n",
        "}\n",
        "\n",
        "df_selected.rename(columns=column_mapping, inplace=True) # Untuk mengganti nama kolom DataFrame df_selected berdasarkan pemetaan yang diberikan"
      ]
    },
    {
      "cell_type": "code",
      "execution_count": 34,
      "metadata": {
        "colab": {
          "base_uri": "https://localhost:8080/"
        },
        "id": "uudZW9HuRSS1",
        "outputId": "c7517cb3-3b94-4c48-9d06-4403fdc3825d"
      },
      "outputs": [
        {
          "name": "stdout",
          "output_type": "stream",
          "text": [
            "<class 'pandas.core.frame.DataFrame'>\n",
            "RangeIndex: 294 entries, 0 to 293\n",
            "Data columns (total 14 columns):\n",
            " #   Column    Non-Null Count  Dtype  \n",
            "---  ------    --------------  -----  \n",
            " 0   age       294 non-null    float64\n",
            " 1   sex       294 non-null    float64\n",
            " 2   cp        294 non-null    float64\n",
            " 3   trestbps  293 non-null    float64\n",
            " 4   chol      271 non-null    float64\n",
            " 5   fbs       286 non-null    float64\n",
            " 6   restecg   293 non-null    float64\n",
            " 7   thalach   293 non-null    float64\n",
            " 8   exang     293 non-null    float64\n",
            " 9   oldpeak   294 non-null    float64\n",
            " 10  slope     104 non-null    float64\n",
            " 11  ca        4 non-null      float64\n",
            " 12  thal      28 non-null     float64\n",
            " 13  target    294 non-null    float64\n",
            "dtypes: float64(14)\n",
            "memory usage: 32.3 KB\n"
          ]
        }
      ],
      "source": [
        "df_selected.info()"
      ]
    },
    {
      "cell_type": "markdown",
      "metadata": {
        "id": "cOXqjEhiRVpf"
      },
      "source": [
        "Langkah berikutnya adalah menghitung jumlah kemunculan nilai dalam setiap kolom DataFrame"
      ]
    },
    {
      "cell_type": "code",
      "execution_count": 35,
      "metadata": {
        "colab": {
          "base_uri": "https://localhost:8080/"
        },
        "id": "vpvG6eJFRTz2",
        "outputId": "ba7dde34-9fd9-43c8-8bbd-908bef876465"
      },
      "outputs": [
        {
          "data": {
            "text/plain": [
              "age   sex  cp   trestbps  chol   fbs  restecg  thalach  exang  oldpeak  slope  ca   thal  target\n",
              "47.0  1.0  4.0  150.0     226.0  0.0  0.0      98.0     1.0    1.5      2.0    0.0  7.0   1.0       1\n",
              "Name: count, dtype: int64"
            ]
          },
          "execution_count": 35,
          "metadata": {},
          "output_type": "execute_result"
        }
      ],
      "source": [
        "df_selected.value_counts()"
      ]
    },
    {
      "cell_type": "markdown",
      "metadata": {
        "id": "EG2cZz11RYIy"
      },
      "source": [
        "- **value_counts()** untuk melihat frekuensi kemunculan nilai-nilai unik dalam setiap kolom. Biasanya digunakan pada kolom-kolom dengan tipe data kategorikal atau diskrit.\n",
        "\n",
        "Hal ini digunakan untuk memberikan gambaran tentang distribusi nilai dalam setiap kolom DataFrame. Dengan mengetahui jumlah kemunculan nilai dalam setiap kolom, kita dapat melihat nilai-nilai yang dominan, mengidentifikasi outlier, atau mendapatkan wawasan tentang karakteristik data dalam kolom tersebut."
      ]
    },
    {
      "cell_type": "markdown",
      "metadata": {
        "id": "vcMCNMI4RaO2"
      },
      "source": [
        "# 5) Membersihkan Data\n",
        "\n",
        "Membersihkan data dilakukan sebelum melakukan pemodelan, hal ini bertujuan agar model yang dihasilkan lebih akurat."
      ]
    },
    {
      "cell_type": "markdown",
      "metadata": {
        "id": "Fem3S_6ZRdvS"
      },
      "source": [
        "Langkah dalam membersihkan data adalah menghitung jumlah null values yang ada di dalam dataset"
      ]
    },
    {
      "cell_type": "code",
      "execution_count": 36,
      "metadata": {
        "colab": {
          "base_uri": "https://localhost:8080/"
        },
        "id": "JSjQ4T6TRWxS",
        "outputId": "1376f882-51e6-4434-a54a-ca3a9ae766b6"
      },
      "outputs": [
        {
          "data": {
            "text/plain": [
              "age           0\n",
              "sex           0\n",
              "cp            0\n",
              "trestbps      1\n",
              "chol         23\n",
              "fbs           8\n",
              "restecg       1\n",
              "thalach       1\n",
              "exang         1\n",
              "oldpeak       0\n",
              "slope       190\n",
              "ca          290\n",
              "thal        266\n",
              "target        0\n",
              "dtype: int64"
            ]
          },
          "execution_count": 36,
          "metadata": {},
          "output_type": "execute_result"
        }
      ],
      "source": [
        "# Menghitung jumlah nilai NaN\n",
        "df_selected.isnull().sum()"
      ]
    },
    {
      "cell_type": "markdown",
      "metadata": {
        "id": "1fNPKyebRgrK"
      },
      "source": [
        "Dari output di atas dapat disimpulkan bahwa terdapat 3 fitur yang memiliki nilai NaN yang dominan, yaitu 'thal', 'ca', dan 'slope'."
      ]
    },
    {
      "cell_type": "markdown",
      "metadata": {
        "id": "H12wu2Y8RiZF"
      },
      "source": [
        "Maka dari itu dilakukan penghapusan ketiga fitur tersebut dengan menggunakan fungsi drop"
      ]
    },
    {
      "cell_type": "code",
      "execution_count": 37,
      "metadata": {
        "id": "vvpuqmM9RfDU"
      },
      "outputs": [],
      "source": [
        "columns_to_drop = ['ca', 'slope', 'thal'] # berisi nama kolom yang ingin di hapus\n",
        "df_selected = df_selected.drop(columns_to_drop, axis=1) # fungsi untuk menghapus kolom-kolom tersebut"
      ]
    },
    {
      "cell_type": "code",
      "execution_count": 38,
      "metadata": {
        "colab": {
          "base_uri": "https://localhost:8080/"
        },
        "id": "NAuc1oG3Rj0q",
        "outputId": "170fbc1a-50fb-47c2-8c61-993371dacf9e"
      },
      "outputs": [
        {
          "data": {
            "text/plain": [
              "age          0\n",
              "sex          0\n",
              "cp           0\n",
              "trestbps     1\n",
              "chol        23\n",
              "fbs          8\n",
              "restecg      1\n",
              "thalach      1\n",
              "exang        1\n",
              "oldpeak      0\n",
              "target       0\n",
              "dtype: int64"
            ]
          },
          "execution_count": 38,
          "metadata": {},
          "output_type": "execute_result"
        }
      ],
      "source": [
        "df_selected.isnull().sum() # menghitung jumlah nilai NaN yang telah diperbarui"
      ]
    },
    {
      "cell_type": "markdown",
      "metadata": {
        "id": "eLXj9BIPRmq9"
      },
      "source": [
        "Dikarenakan beberapa kolom fitur yang masih memiliki nilai null, maka akan dilakukan pengisian nilai null menggunakan nilai mean di setiap kolomnya"
      ]
    },
    {
      "cell_type": "markdown",
      "metadata": {
        "id": "a9XUGF0mRoNU"
      },
      "source": [
        "Langkah berikutnya adalah menghitung rata-rata dari kolom 'trestbps', 'chol', 'fbs', 'restecg', 'thalach', dan 'exang'"
      ]
    },
    {
      "cell_type": "code",
      "execution_count": 39,
      "metadata": {
        "id": "UQhB8XRrRlEe"
      },
      "outputs": [],
      "source": [
        "meanTBPS = df_selected['trestbps'].dropna()\n",
        "meanChol = df_selected['chol'].dropna()\n",
        "meanfbs = df_selected['fbs'].dropna()\n",
        "meanRestCG = df_selected['restecg'].dropna()\n",
        "meanthalach = df_selected['thalach'].dropna()\n",
        "meanexang = df_selected['exang'].dropna()"
      ]
    },
    {
      "cell_type": "markdown",
      "metadata": {
        "id": "l6C2_mVdRqqm"
      },
      "source": [
        "- **.dropna()** berfungsi menghapus nilai NaN dari setiap kolom\n",
        "\n",
        "- **'meanTBPS', 'meanChol', dst.** berisi rata-rata dari kolom yang terkait setelah menghapus nilai NaN"
      ]
    },
    {
      "cell_type": "code",
      "execution_count": 40,
      "metadata": {
        "id": "YVcPNNJBRpf4"
      },
      "outputs": [],
      "source": [
        "# Mengubah tipe data kolom menjadi float\n",
        "meanTBPS = meanTBPS.astype(float)\n",
        "meanChol = meanChol.astype(float)\n",
        "meanfbs = meanfbs.astype(float)\n",
        "meanthalach = meanthalach.astype(float)\n",
        "meanexang = meanexang.astype(float)\n",
        "meanRestCG = meanRestCG.astype(float)"
      ]
    },
    {
      "cell_type": "markdown",
      "metadata": {
        "id": "NzkVixbuRtTz"
      },
      "source": [
        "Tujuan dari mengubah tipe data kolom menjadi float agar dapat digunakan untuk perhitungan statistik atau operasi matematis yang membutuhkan tipe data numerik desimal."
      ]
    },
    {
      "cell_type": "code",
      "execution_count": 41,
      "metadata": {
        "id": "LktyHea7RsCK"
      },
      "outputs": [],
      "source": [
        "# Menghitung rata-rata bulat dari kolom yang telah dikonversi\n",
        "meanTBPS = round(meanTBPS.mean())\n",
        "meanChol = round(meanChol.mean())\n",
        "meanfbs = round(meanfbs.mean())\n",
        "meanthalach = round(meanthalach.mean())\n",
        "meanexang = round(meanexang.mean())\n",
        "meanRestCG = round(meanRestCG.mean())"
      ]
    },
    {
      "cell_type": "markdown",
      "metadata": {
        "id": "kIHyHm1lRwY5"
      },
      "source": [
        "- **mean()** untuk menghitung rata-rata\n",
        "\n",
        "- **round()** untuk menjadikan hasil rata-rata ke angka bulat"
      ]
    },
    {
      "cell_type": "markdown",
      "metadata": {
        "id": "C1hUuQ-YRwOB"
      },
      "source": [
        "Langkah selanjutnya mengubah nilai null menjadi nilai mean yang sudah ditentukan sebelumnya"
      ]
    },
    {
      "cell_type": "code",
      "execution_count": 42,
      "metadata": {
        "id": "yJbyPJf1RuvH"
      },
      "outputs": [],
      "source": [
        "# Mengisi nilai NaN dengan nilai rata-rata pada DataFrame yang dikonversi\n",
        "fill_values = {'trestbps': meanTBPS, 'chol': meanChol, 'fbs': meanfbs, 'thalach': meanthalach, 'exang': meanexang, 'restecg': meanRestCG}\n",
        "dfClean = df_selected.fillna(value=fill_values)"
      ]
    },
    {
      "cell_type": "markdown",
      "metadata": {
        "id": "7sBd35AXR3Hl"
      },
      "source": [
        "- **fill_values** berisi kolom-kolom yang akan diisi dengan nilai rata-rata yang telah dihitung sebelumnya\n",
        "\n",
        "- **.fillna()** berfungsi nilai-nilai NaN dalam DataFrame df_selected diisi dengan nilai dari kamus fill_values"
      ]
    },
    {
      "cell_type": "code",
      "execution_count": 43,
      "metadata": {
        "colab": {
          "base_uri": "https://localhost:8080/"
        },
        "id": "Bs8L3WA3Rz6z",
        "outputId": "8f87abe4-5b87-4707-ee61-3f4bcabd20cb"
      },
      "outputs": [
        {
          "name": "stdout",
          "output_type": "stream",
          "text": [
            "<class 'pandas.core.frame.DataFrame'>\n",
            "RangeIndex: 294 entries, 0 to 293\n",
            "Data columns (total 11 columns):\n",
            " #   Column    Non-Null Count  Dtype  \n",
            "---  ------    --------------  -----  \n",
            " 0   age       294 non-null    float64\n",
            " 1   sex       294 non-null    float64\n",
            " 2   cp        294 non-null    float64\n",
            " 3   trestbps  294 non-null    float64\n",
            " 4   chol      294 non-null    float64\n",
            " 5   fbs       294 non-null    float64\n",
            " 6   restecg   294 non-null    float64\n",
            " 7   thalach   294 non-null    float64\n",
            " 8   exang     294 non-null    float64\n",
            " 9   oldpeak   294 non-null    float64\n",
            " 10  target    294 non-null    float64\n",
            "dtypes: float64(11)\n",
            "memory usage: 25.4 KB\n"
          ]
        }
      ],
      "source": [
        "dfClean.info()"
      ]
    },
    {
      "cell_type": "code",
      "execution_count": 44,
      "metadata": {
        "colab": {
          "base_uri": "https://localhost:8080/"
        },
        "id": "VPYOyyOoR4lJ",
        "outputId": "ecb81bd3-7704-410c-842d-d6f254a5bd12"
      },
      "outputs": [
        {
          "data": {
            "text/plain": [
              "age         0\n",
              "sex         0\n",
              "cp          0\n",
              "trestbps    0\n",
              "chol        0\n",
              "fbs         0\n",
              "restecg     0\n",
              "thalach     0\n",
              "exang       0\n",
              "oldpeak     0\n",
              "target      0\n",
              "dtype: int64"
            ]
          },
          "execution_count": 44,
          "metadata": {},
          "output_type": "execute_result"
        }
      ],
      "source": [
        "dfClean.isnull().sum()"
      ]
    },
    {
      "cell_type": "markdown",
      "metadata": {
        "id": "2Fh4-c9fR7WU"
      },
      "source": [
        "Setelah tidak ada nilai NaN pada setiap kolom, langkah selanjutnya melakukan pengecekan terhadap duplikasi data"
      ]
    },
    {
      "cell_type": "code",
      "execution_count": 45,
      "metadata": {
        "colab": {
          "base_uri": "https://localhost:8080/",
          "height": 80
        },
        "id": "bdtK6UTfR6Do",
        "outputId": "2ee4acad-7d7d-4af3-b136-66026bb94923"
      },
      "outputs": [
        {
          "data": {
            "text/html": [
              "<div>\n",
              "<style scoped>\n",
              "    .dataframe tbody tr th:only-of-type {\n",
              "        vertical-align: middle;\n",
              "    }\n",
              "\n",
              "    .dataframe tbody tr th {\n",
              "        vertical-align: top;\n",
              "    }\n",
              "\n",
              "    .dataframe thead th {\n",
              "        text-align: right;\n",
              "    }\n",
              "</style>\n",
              "<table border=\"1\" class=\"dataframe\">\n",
              "  <thead>\n",
              "    <tr style=\"text-align: right;\">\n",
              "      <th></th>\n",
              "      <th>age</th>\n",
              "      <th>sex</th>\n",
              "      <th>cp</th>\n",
              "      <th>trestbps</th>\n",
              "      <th>chol</th>\n",
              "      <th>fbs</th>\n",
              "      <th>restecg</th>\n",
              "      <th>thalach</th>\n",
              "      <th>exang</th>\n",
              "      <th>oldpeak</th>\n",
              "      <th>target</th>\n",
              "    </tr>\n",
              "  </thead>\n",
              "  <tbody>\n",
              "    <tr>\n",
              "      <th>163</th>\n",
              "      <td>49.0</td>\n",
              "      <td>0.0</td>\n",
              "      <td>2.0</td>\n",
              "      <td>110.0</td>\n",
              "      <td>251.0</td>\n",
              "      <td>0.0</td>\n",
              "      <td>0.0</td>\n",
              "      <td>160.0</td>\n",
              "      <td>0.0</td>\n",
              "      <td>0.0</td>\n",
              "      <td>0.0</td>\n",
              "    </tr>\n",
              "  </tbody>\n",
              "</table>\n",
              "</div>"
            ],
            "text/plain": [
              "      age  sex   cp  trestbps   chol  fbs  restecg  thalach  exang  oldpeak  \\\n",
              "163  49.0  0.0  2.0     110.0  251.0  0.0      0.0    160.0    0.0      0.0   \n",
              "\n",
              "     target  \n",
              "163     0.0  "
            ]
          },
          "execution_count": 45,
          "metadata": {},
          "output_type": "execute_result"
        }
      ],
      "source": [
        "duplicate_rows = dfClean.duplicated()\n",
        "dfClean[duplicate_rows]"
      ]
    },
    {
      "cell_type": "markdown",
      "metadata": {
        "id": "jGNiw5JpR9qD"
      },
      "source": [
        "- **.duplicated()** untuk mengidentifikasi baris-baris yang merupakan duplikat. Metode ini mengembalikan seri boolean yang menandai baris-baris yang memiliki duplikat"
      ]
    },
    {
      "cell_type": "code",
      "execution_count": 46,
      "metadata": {
        "colab": {
          "base_uri": "https://localhost:8080/",
          "height": 129
        },
        "id": "j77u_vwtR8XX",
        "outputId": "abf1763f-68a7-444e-a639-70b778ad12a6"
      },
      "outputs": [
        {
          "name": "stdout",
          "output_type": "stream",
          "text": [
            "All Duplicate Rows:\n"
          ]
        },
        {
          "data": {
            "text/html": [
              "<div>\n",
              "<style scoped>\n",
              "    .dataframe tbody tr th:only-of-type {\n",
              "        vertical-align: middle;\n",
              "    }\n",
              "\n",
              "    .dataframe tbody tr th {\n",
              "        vertical-align: top;\n",
              "    }\n",
              "\n",
              "    .dataframe thead th {\n",
              "        text-align: right;\n",
              "    }\n",
              "</style>\n",
              "<table border=\"1\" class=\"dataframe\">\n",
              "  <thead>\n",
              "    <tr style=\"text-align: right;\">\n",
              "      <th></th>\n",
              "      <th>age</th>\n",
              "      <th>sex</th>\n",
              "      <th>cp</th>\n",
              "      <th>trestbps</th>\n",
              "      <th>chol</th>\n",
              "      <th>fbs</th>\n",
              "      <th>restecg</th>\n",
              "      <th>thalach</th>\n",
              "      <th>exang</th>\n",
              "      <th>oldpeak</th>\n",
              "      <th>target</th>\n",
              "    </tr>\n",
              "  </thead>\n",
              "  <tbody>\n",
              "    <tr>\n",
              "      <th>90</th>\n",
              "      <td>49.0</td>\n",
              "      <td>0.0</td>\n",
              "      <td>2.0</td>\n",
              "      <td>110.0</td>\n",
              "      <td>251.0</td>\n",
              "      <td>0.0</td>\n",
              "      <td>0.0</td>\n",
              "      <td>160.0</td>\n",
              "      <td>0.0</td>\n",
              "      <td>0.0</td>\n",
              "      <td>0.0</td>\n",
              "    </tr>\n",
              "    <tr>\n",
              "      <th>163</th>\n",
              "      <td>49.0</td>\n",
              "      <td>0.0</td>\n",
              "      <td>2.0</td>\n",
              "      <td>110.0</td>\n",
              "      <td>251.0</td>\n",
              "      <td>0.0</td>\n",
              "      <td>0.0</td>\n",
              "      <td>160.0</td>\n",
              "      <td>0.0</td>\n",
              "      <td>0.0</td>\n",
              "      <td>0.0</td>\n",
              "    </tr>\n",
              "  </tbody>\n",
              "</table>\n",
              "</div>"
            ],
            "text/plain": [
              "      age  sex   cp  trestbps   chol  fbs  restecg  thalach  exang  oldpeak  \\\n",
              "90   49.0  0.0  2.0     110.0  251.0  0.0      0.0    160.0    0.0      0.0   \n",
              "163  49.0  0.0  2.0     110.0  251.0  0.0      0.0    160.0    0.0      0.0   \n",
              "\n",
              "     target  \n",
              "90      0.0  \n",
              "163     0.0  "
            ]
          },
          "execution_count": 46,
          "metadata": {},
          "output_type": "execute_result"
        }
      ],
      "source": [
        "# Mencetak semua baris duplikat dalam DataFrame yang telah dibersihkan\n",
        "print('All Duplicate Rows:') # Menampilkan output 'All Duplicate Rows:'\n",
        "dfClean[dfClean.duplicated(keep=False)]"
      ]
    },
    {
      "cell_type": "code",
      "execution_count": 47,
      "metadata": {
        "colab": {
          "base_uri": "https://localhost:8080/",
          "height": 70
        },
        "id": "rOkfl5IMR_D9",
        "outputId": "d9b07554-616e-4365-990d-6a0d735c7d98"
      },
      "outputs": [
        {
          "name": "stdout",
          "output_type": "stream",
          "text": [
            "All Duplicate Rows:\n"
          ]
        },
        {
          "data": {
            "text/html": [
              "<div>\n",
              "<style scoped>\n",
              "    .dataframe tbody tr th:only-of-type {\n",
              "        vertical-align: middle;\n",
              "    }\n",
              "\n",
              "    .dataframe tbody tr th {\n",
              "        vertical-align: top;\n",
              "    }\n",
              "\n",
              "    .dataframe thead th {\n",
              "        text-align: right;\n",
              "    }\n",
              "</style>\n",
              "<table border=\"1\" class=\"dataframe\">\n",
              "  <thead>\n",
              "    <tr style=\"text-align: right;\">\n",
              "      <th></th>\n",
              "      <th>age</th>\n",
              "      <th>sex</th>\n",
              "      <th>cp</th>\n",
              "      <th>trestbps</th>\n",
              "      <th>chol</th>\n",
              "      <th>fbs</th>\n",
              "      <th>restecg</th>\n",
              "      <th>thalach</th>\n",
              "      <th>exang</th>\n",
              "      <th>oldpeak</th>\n",
              "      <th>target</th>\n",
              "    </tr>\n",
              "  </thead>\n",
              "  <tbody>\n",
              "  </tbody>\n",
              "</table>\n",
              "</div>"
            ],
            "text/plain": [
              "Empty DataFrame\n",
              "Columns: [age, sex, cp, trestbps, chol, fbs, restecg, thalach, exang, oldpeak, target]\n",
              "Index: []"
            ]
          },
          "execution_count": 47,
          "metadata": {},
          "output_type": "execute_result"
        }
      ],
      "source": [
        "# menghapus duplikat baris dan memeriksa kembali duplikat dalam DataFrame yang telah dibersihkan\n",
        "dfClean = dfClean.drop_duplicates()\n",
        "print(\"All Duplicate Rows:\")\n",
        "dfClean[dfClean.duplicated(keep=False)]"
      ]
    },
    {
      "cell_type": "markdown",
      "metadata": {
        "id": "3fkMwOllSF6R"
      },
      "source": [
        "- **.drop_duplicates()** untuk menghapus baris-baris yang merupakan duplikat"
      ]
    },
    {
      "cell_type": "code",
      "execution_count": 48,
      "metadata": {
        "colab": {
          "base_uri": "https://localhost:8080/",
          "height": 206
        },
        "id": "4UaJepDsSEXg",
        "outputId": "5d19601a-3418-45f1-95bc-b823eee97155"
      },
      "outputs": [
        {
          "data": {
            "text/html": [
              "<div>\n",
              "<style scoped>\n",
              "    .dataframe tbody tr th:only-of-type {\n",
              "        vertical-align: middle;\n",
              "    }\n",
              "\n",
              "    .dataframe tbody tr th {\n",
              "        vertical-align: top;\n",
              "    }\n",
              "\n",
              "    .dataframe thead th {\n",
              "        text-align: right;\n",
              "    }\n",
              "</style>\n",
              "<table border=\"1\" class=\"dataframe\">\n",
              "  <thead>\n",
              "    <tr style=\"text-align: right;\">\n",
              "      <th></th>\n",
              "      <th>age</th>\n",
              "      <th>sex</th>\n",
              "      <th>cp</th>\n",
              "      <th>trestbps</th>\n",
              "      <th>chol</th>\n",
              "      <th>fbs</th>\n",
              "      <th>restecg</th>\n",
              "      <th>thalach</th>\n",
              "      <th>exang</th>\n",
              "      <th>oldpeak</th>\n",
              "      <th>target</th>\n",
              "    </tr>\n",
              "  </thead>\n",
              "  <tbody>\n",
              "    <tr>\n",
              "      <th>0</th>\n",
              "      <td>40.0</td>\n",
              "      <td>1.0</td>\n",
              "      <td>2.0</td>\n",
              "      <td>140.0</td>\n",
              "      <td>289.0</td>\n",
              "      <td>0.0</td>\n",
              "      <td>0.0</td>\n",
              "      <td>172.0</td>\n",
              "      <td>0.0</td>\n",
              "      <td>0.0</td>\n",
              "      <td>0.0</td>\n",
              "    </tr>\n",
              "    <tr>\n",
              "      <th>1</th>\n",
              "      <td>49.0</td>\n",
              "      <td>0.0</td>\n",
              "      <td>3.0</td>\n",
              "      <td>160.0</td>\n",
              "      <td>180.0</td>\n",
              "      <td>0.0</td>\n",
              "      <td>0.0</td>\n",
              "      <td>156.0</td>\n",
              "      <td>0.0</td>\n",
              "      <td>1.0</td>\n",
              "      <td>1.0</td>\n",
              "    </tr>\n",
              "    <tr>\n",
              "      <th>2</th>\n",
              "      <td>37.0</td>\n",
              "      <td>1.0</td>\n",
              "      <td>2.0</td>\n",
              "      <td>130.0</td>\n",
              "      <td>283.0</td>\n",
              "      <td>0.0</td>\n",
              "      <td>1.0</td>\n",
              "      <td>98.0</td>\n",
              "      <td>0.0</td>\n",
              "      <td>0.0</td>\n",
              "      <td>0.0</td>\n",
              "    </tr>\n",
              "    <tr>\n",
              "      <th>3</th>\n",
              "      <td>48.0</td>\n",
              "      <td>0.0</td>\n",
              "      <td>4.0</td>\n",
              "      <td>138.0</td>\n",
              "      <td>214.0</td>\n",
              "      <td>0.0</td>\n",
              "      <td>0.0</td>\n",
              "      <td>108.0</td>\n",
              "      <td>1.0</td>\n",
              "      <td>1.5</td>\n",
              "      <td>3.0</td>\n",
              "    </tr>\n",
              "    <tr>\n",
              "      <th>4</th>\n",
              "      <td>54.0</td>\n",
              "      <td>1.0</td>\n",
              "      <td>3.0</td>\n",
              "      <td>150.0</td>\n",
              "      <td>251.0</td>\n",
              "      <td>0.0</td>\n",
              "      <td>0.0</td>\n",
              "      <td>122.0</td>\n",
              "      <td>0.0</td>\n",
              "      <td>0.0</td>\n",
              "      <td>0.0</td>\n",
              "    </tr>\n",
              "  </tbody>\n",
              "</table>\n",
              "</div>"
            ],
            "text/plain": [
              "    age  sex   cp  trestbps   chol  fbs  restecg  thalach  exang  oldpeak  \\\n",
              "0  40.0  1.0  2.0     140.0  289.0  0.0      0.0    172.0    0.0      0.0   \n",
              "1  49.0  0.0  3.0     160.0  180.0  0.0      0.0    156.0    0.0      1.0   \n",
              "2  37.0  1.0  2.0     130.0  283.0  0.0      1.0     98.0    0.0      0.0   \n",
              "3  48.0  0.0  4.0     138.0  214.0  0.0      0.0    108.0    1.0      1.5   \n",
              "4  54.0  1.0  3.0     150.0  251.0  0.0      0.0    122.0    0.0      0.0   \n",
              "\n",
              "   target  \n",
              "0     0.0  \n",
              "1     1.0  \n",
              "2     0.0  \n",
              "3     3.0  \n",
              "4     0.0  "
            ]
          },
          "execution_count": 48,
          "metadata": {},
          "output_type": "execute_result"
        }
      ],
      "source": [
        "dfClean.head()"
      ]
    },
    {
      "cell_type": "code",
      "execution_count": 49,
      "metadata": {
        "colab": {
          "base_uri": "https://localhost:8080/"
        },
        "id": "a8Nzr454SHcZ",
        "outputId": "96556067-d6cd-4df4-ea4b-ef0bda5373b6"
      },
      "outputs": [
        {
          "data": {
            "text/plain": [
              "target\n",
              "0.0    187\n",
              "1.0     37\n",
              "3.0     28\n",
              "2.0     26\n",
              "4.0     15\n",
              "Name: count, dtype: int64"
            ]
          },
          "execution_count": 49,
          "metadata": {},
          "output_type": "execute_result"
        }
      ],
      "source": [
        "# Menghitung jumlah kemunculan nilai dalam kolom 'target' pada DataFrame yan telah dibersihkan\n",
        "dfClean['target'].value_counts()"
      ]
    },
    {
      "cell_type": "markdown",
      "metadata": {
        "id": "bu5Dj33QSKrG"
      },
      "source": [
        "**EDA**"
      ]
    },
    {
      "cell_type": "code",
      "execution_count": 51,
      "metadata": {},
      "outputs": [
        {
          "name": "stdout",
          "output_type": "stream",
          "text": [
            "Collecting matplotlib\n",
            "  Downloading matplotlib-3.8.2-cp311-cp311-win_amd64.whl.metadata (5.9 kB)\n",
            "Collecting contourpy>=1.0.1 (from matplotlib)\n",
            "  Downloading contourpy-1.2.0-cp311-cp311-win_amd64.whl.metadata (5.8 kB)\n",
            "Collecting cycler>=0.10 (from matplotlib)\n",
            "  Downloading cycler-0.12.1-py3-none-any.whl.metadata (3.8 kB)\n",
            "Collecting fonttools>=4.22.0 (from matplotlib)\n",
            "  Downloading fonttools-4.47.0-cp311-cp311-win_amd64.whl.metadata (160 kB)\n",
            "     ---------------------------------------- 0.0/160.4 kB ? eta -:--:--\n",
            "     -------------- ------------------------ 61.4/160.4 kB 1.6 MB/s eta 0:00:01\n",
            "     --------------------------------- ---- 143.4/160.4 kB 1.7 MB/s eta 0:00:01\n",
            "     -------------------------------------- 160.4/160.4 kB 1.2 MB/s eta 0:00:00\n",
            "Collecting kiwisolver>=1.3.1 (from matplotlib)\n",
            "  Downloading kiwisolver-1.4.5-cp311-cp311-win_amd64.whl.metadata (6.5 kB)\n",
            "Requirement already satisfied: numpy<2,>=1.21 in c:\\users\\ardiawanfadilah\\appdata\\local\\programs\\python\\python311\\lib\\site-packages (from matplotlib) (1.26.3)\n",
            "Requirement already satisfied: packaging>=20.0 in c:\\users\\ardiawanfadilah\\appdata\\local\\programs\\python\\python311\\lib\\site-packages (from matplotlib) (23.2)\n",
            "Requirement already satisfied: pillow>=8 in c:\\users\\ardiawanfadilah\\appdata\\local\\programs\\python\\python311\\lib\\site-packages (from matplotlib) (10.1.0)\n",
            "Collecting pyparsing>=2.3.1 (from matplotlib)\n",
            "  Downloading pyparsing-3.1.1-py3-none-any.whl.metadata (5.1 kB)\n",
            "Requirement already satisfied: python-dateutil>=2.7 in c:\\users\\ardiawanfadilah\\appdata\\local\\programs\\python\\python311\\lib\\site-packages (from matplotlib) (2.8.2)\n",
            "Requirement already satisfied: six>=1.5 in c:\\users\\ardiawanfadilah\\appdata\\local\\programs\\python\\python311\\lib\\site-packages (from python-dateutil>=2.7->matplotlib) (1.16.0)\n",
            "Downloading matplotlib-3.8.2-cp311-cp311-win_amd64.whl (7.6 MB)\n",
            "   ---------------------------------------- 0.0/7.6 MB ? eta -:--:--\n",
            "    --------------------------------------- 0.1/7.6 MB 3.3 MB/s eta 0:00:03\n",
            "    --------------------------------------- 0.2/7.6 MB 2.3 MB/s eta 0:00:04\n",
            "   - -------------------------------------- 0.2/7.6 MB 1.8 MB/s eta 0:00:05\n",
            "   - -------------------------------------- 0.3/7.6 MB 1.7 MB/s eta 0:00:05\n",
            "   - -------------------------------------- 0.4/7.6 MB 1.6 MB/s eta 0:00:05\n",
            "   -- ------------------------------------- 0.5/7.6 MB 1.7 MB/s eta 0:00:05\n",
            "   -- ------------------------------------- 0.5/7.6 MB 1.6 MB/s eta 0:00:05\n",
            "   -- ------------------------------------- 0.6/7.6 MB 1.7 MB/s eta 0:00:05\n",
            "   --- ------------------------------------ 0.6/7.6 MB 1.6 MB/s eta 0:00:05\n",
            "   --- ------------------------------------ 0.7/7.6 MB 1.5 MB/s eta 0:00:05\n",
            "   --- ------------------------------------ 0.7/7.6 MB 1.5 MB/s eta 0:00:05\n",
            "   ---- ----------------------------------- 0.8/7.6 MB 1.4 MB/s eta 0:00:05\n",
            "   ---- ----------------------------------- 0.8/7.6 MB 1.4 MB/s eta 0:00:05\n",
            "   ---- ----------------------------------- 0.9/7.6 MB 1.4 MB/s eta 0:00:05\n",
            "   ---- ----------------------------------- 0.9/7.6 MB 1.4 MB/s eta 0:00:05\n",
            "   ---- ----------------------------------- 0.9/7.6 MB 1.3 MB/s eta 0:00:06\n",
            "   ----- ---------------------------------- 1.0/7.6 MB 1.2 MB/s eta 0:00:06\n",
            "   ----- ---------------------------------- 1.0/7.6 MB 1.2 MB/s eta 0:00:06\n",
            "   ----- ---------------------------------- 1.1/7.6 MB 1.2 MB/s eta 0:00:06\n",
            "   ----- ---------------------------------- 1.1/7.6 MB 1.3 MB/s eta 0:00:06\n",
            "   ------ --------------------------------- 1.2/7.6 MB 1.2 MB/s eta 0:00:06\n",
            "   ------ --------------------------------- 1.3/7.6 MB 1.2 MB/s eta 0:00:06\n",
            "   ------ --------------------------------- 1.3/7.6 MB 1.2 MB/s eta 0:00:06\n",
            "   ------- -------------------------------- 1.3/7.6 MB 1.3 MB/s eta 0:00:06\n",
            "   ------- -------------------------------- 1.4/7.6 MB 1.2 MB/s eta 0:00:06\n",
            "   ------- -------------------------------- 1.4/7.6 MB 1.2 MB/s eta 0:00:06\n",
            "   ------- -------------------------------- 1.4/7.6 MB 1.1 MB/s eta 0:00:06\n",
            "   ------- -------------------------------- 1.4/7.6 MB 1.1 MB/s eta 0:00:06\n",
            "   ------- -------------------------------- 1.5/7.6 MB 1.1 MB/s eta 0:00:06\n",
            "   ------- -------------------------------- 1.5/7.6 MB 1.1 MB/s eta 0:00:06\n",
            "   ------- -------------------------------- 1.5/7.6 MB 1.1 MB/s eta 0:00:06\n",
            "   ------- -------------------------------- 1.5/7.6 MB 1.0 MB/s eta 0:00:06\n",
            "   -------- ------------------------------- 1.5/7.6 MB 1.0 MB/s eta 0:00:07\n",
            "   -------- ------------------------------- 1.5/7.6 MB 1.0 MB/s eta 0:00:07\n",
            "   -------- ------------------------------- 1.5/7.6 MB 1.0 MB/s eta 0:00:07\n",
            "   -------- ------------------------------- 1.6/7.6 MB 948.5 kB/s eta 0:00:07\n",
            "   -------- ------------------------------- 1.6/7.6 MB 948.5 kB/s eta 0:00:07\n",
            "   -------- ------------------------------- 1.6/7.6 MB 948.5 kB/s eta 0:00:07\n",
            "   -------- ------------------------------- 1.6/7.6 MB 948.5 kB/s eta 0:00:07\n",
            "   -------- ------------------------------- 1.6/7.6 MB 948.5 kB/s eta 0:00:07\n",
            "   -------- ------------------------------- 1.6/7.6 MB 948.5 kB/s eta 0:00:07\n",
            "   -------- ------------------------------- 1.6/7.6 MB 948.5 kB/s eta 0:00:07\n",
            "   -------- ------------------------------- 1.6/7.6 MB 948.5 kB/s eta 0:00:07\n",
            "   -------- ------------------------------- 1.6/7.6 MB 948.5 kB/s eta 0:00:07\n",
            "   -------- ------------------------------- 1.6/7.6 MB 948.5 kB/s eta 0:00:07\n",
            "   -------- ------------------------------- 1.6/7.6 MB 948.5 kB/s eta 0:00:07\n",
            "   -------- ------------------------------- 1.6/7.6 MB 948.5 kB/s eta 0:00:07\n",
            "   -------- ------------------------------- 1.6/7.6 MB 710.7 kB/s eta 0:00:09\n",
            "   -------- ------------------------------- 1.6/7.6 MB 710.7 kB/s eta 0:00:09\n",
            "   -------- ------------------------------- 1.6/7.6 MB 710.7 kB/s eta 0:00:09\n",
            "   -------- ------------------------------- 1.6/7.6 MB 710.7 kB/s eta 0:00:09\n",
            "   -------- ------------------------------- 1.6/7.6 MB 710.7 kB/s eta 0:00:09\n",
            "   -------- ------------------------------- 1.6/7.6 MB 710.7 kB/s eta 0:00:09\n",
            "   -------- ------------------------------- 1.6/7.6 MB 710.7 kB/s eta 0:00:09\n",
            "   -------- ------------------------------- 1.6/7.6 MB 710.7 kB/s eta 0:00:09\n",
            "   -------- ------------------------------- 1.6/7.6 MB 710.7 kB/s eta 0:00:09\n",
            "   -------- ------------------------------- 1.6/7.6 MB 710.7 kB/s eta 0:00:09\n",
            "   -------- ------------------------------- 1.6/7.6 MB 710.7 kB/s eta 0:00:09\n",
            "   -------- ------------------------------- 1.6/7.6 MB 710.7 kB/s eta 0:00:09\n",
            "   -------- ------------------------------- 1.6/7.6 MB 710.7 kB/s eta 0:00:09\n",
            "   -------- ------------------------------- 1.6/7.6 MB 710.7 kB/s eta 0:00:09\n",
            "   -------- ------------------------------- 1.6/7.6 MB 573.1 kB/s eta 0:00:11\n",
            "   -------- ------------------------------- 1.7/7.6 MB 571.2 kB/s eta 0:00:11\n",
            "   --------- ------------------------------ 1.7/7.6 MB 579.9 kB/s eta 0:00:11\n",
            "   --------- ------------------------------ 1.8/7.6 MB 604.7 kB/s eta 0:00:10\n",
            "   --------- ------------------------------ 1.9/7.6 MB 601.8 kB/s eta 0:00:10\n",
            "   ---------- ----------------------------- 1.9/7.6 MB 616.0 kB/s eta 0:00:10\n",
            "   ---------- ----------------------------- 2.0/7.6 MB 626.2 kB/s eta 0:00:10\n",
            "   ---------- ----------------------------- 2.0/7.6 MB 623.5 kB/s eta 0:00:10\n",
            "   ---------- ----------------------------- 2.1/7.6 MB 633.3 kB/s eta 0:00:09\n",
            "   ----------- ---------------------------- 2.1/7.6 MB 649.2 kB/s eta 0:00:09\n",
            "   ----------- ---------------------------- 2.2/7.6 MB 658.5 kB/s eta 0:00:09\n",
            "   ----------- ---------------------------- 2.2/7.6 MB 658.5 kB/s eta 0:00:09\n",
            "   ----------- ---------------------------- 2.3/7.6 MB 661.2 kB/s eta 0:00:09\n",
            "   ------------ --------------------------- 2.3/7.6 MB 670.1 kB/s eta 0:00:08\n",
            "   ------------ --------------------------- 2.4/7.6 MB 672.8 kB/s eta 0:00:08\n",
            "   ------------ --------------------------- 2.4/7.6 MB 678.4 kB/s eta 0:00:08\n",
            "   ------------- -------------------------- 2.5/7.6 MB 686.4 kB/s eta 0:00:08\n",
            "   ------------- -------------------------- 2.6/7.6 MB 694.4 kB/s eta 0:00:08\n",
            "   ------------- -------------------------- 2.6/7.6 MB 702.0 kB/s eta 0:00:08\n",
            "   ------------- -------------------------- 2.6/7.6 MB 698.8 kB/s eta 0:00:08\n",
            "   -------------- ------------------------- 2.7/7.6 MB 706.2 kB/s eta 0:00:07\n",
            "   -------------- ------------------------- 2.8/7.6 MB 711.1 kB/s eta 0:00:07\n",
            "   -------------- ------------------------- 2.9/7.6 MB 725.8 kB/s eta 0:00:07\n",
            "   --------------- ------------------------ 2.9/7.6 MB 727.9 kB/s eta 0:00:07\n",
            "   --------------- ------------------------ 3.0/7.6 MB 734.3 kB/s eta 0:00:07\n",
            "   --------------- ------------------------ 3.0/7.6 MB 738.8 kB/s eta 0:00:07\n",
            "   --------------- ------------------------ 3.1/7.6 MB 745.8 kB/s eta 0:00:07\n",
            "   ---------------- ----------------------- 3.1/7.6 MB 746.8 kB/s eta 0:00:07\n",
            "   ---------------- ----------------------- 3.1/7.6 MB 743.3 kB/s eta 0:00:07\n",
            "   ---------------- ----------------------- 3.2/7.6 MB 742.1 kB/s eta 0:00:07\n",
            "   ---------------- ----------------------- 3.2/7.6 MB 746.9 kB/s eta 0:00:06\n",
            "   ---------------- ----------------------- 3.2/7.6 MB 750.3 kB/s eta 0:00:06\n",
            "   ----------------- ---------------------- 3.3/7.6 MB 760.2 kB/s eta 0:00:06\n",
            "   ----------------- ---------------------- 3.4/7.6 MB 763.7 kB/s eta 0:00:06\n",
            "   ------------------ --------------------- 3.5/7.6 MB 766.9 kB/s eta 0:00:06\n",
            "   ------------------ --------------------- 3.5/7.6 MB 768.4 kB/s eta 0:00:06\n",
            "   ------------------ --------------------- 3.6/7.6 MB 773.5 kB/s eta 0:00:06\n",
            "   ------------------ --------------------- 3.6/7.6 MB 776.7 kB/s eta 0:00:06\n",
            "   ------------------- -------------------- 3.7/7.6 MB 781.7 kB/s eta 0:00:06\n",
            "   ------------------- -------------------- 3.7/7.6 MB 780.4 kB/s eta 0:00:06\n",
            "   ------------------- -------------------- 3.8/7.6 MB 788.2 kB/s eta 0:00:05\n",
            "   -------------------- ------------------- 3.8/7.6 MB 791.1 kB/s eta 0:00:05\n",
            "   -------------------- ------------------- 3.9/7.6 MB 800.3 kB/s eta 0:00:05\n",
            "   -------------------- ------------------- 3.9/7.6 MB 797.3 kB/s eta 0:00:05\n",
            "   -------------------- ------------------- 4.0/7.6 MB 800.1 kB/s eta 0:00:05\n",
            "   --------------------- ------------------ 4.0/7.6 MB 804.9 kB/s eta 0:00:05\n",
            "   --------------------- ------------------ 4.1/7.6 MB 805.0 kB/s eta 0:00:05\n",
            "   --------------------- ------------------ 4.2/7.6 MB 811.7 kB/s eta 0:00:05\n",
            "   --------------------- ------------------ 4.2/7.6 MB 814.7 kB/s eta 0:00:05\n",
            "   ---------------------- ----------------- 4.3/7.6 MB 818.7 kB/s eta 0:00:05\n",
            "   ---------------------- ----------------- 4.3/7.6 MB 818.7 kB/s eta 0:00:05\n",
            "   ---------------------- ----------------- 4.4/7.6 MB 819.7 kB/s eta 0:00:05\n",
            "   ----------------------- ---------------- 4.4/7.6 MB 824.5 kB/s eta 0:00:04\n",
            "   ----------------------- ---------------- 4.5/7.6 MB 826.3 kB/s eta 0:00:04\n",
            "   ----------------------- ---------------- 4.5/7.6 MB 826.3 kB/s eta 0:00:04\n",
            "   ----------------------- ---------------- 4.6/7.6 MB 830.9 kB/s eta 0:00:04\n",
            "   ------------------------ --------------- 4.6/7.6 MB 836.3 kB/s eta 0:00:04\n",
            "   ------------------------ --------------- 4.7/7.6 MB 842.6 kB/s eta 0:00:04\n",
            "   ------------------------ --------------- 4.7/7.6 MB 839.2 kB/s eta 0:00:04\n",
            "   ------------------------- -------------- 4.8/7.6 MB 843.1 kB/s eta 0:00:04\n",
            "   ------------------------- -------------- 4.9/7.6 MB 846.9 kB/s eta 0:00:04\n",
            "   ------------------------- -------------- 4.9/7.6 MB 850.2 kB/s eta 0:00:04\n",
            "   -------------------------- ------------- 5.0/7.6 MB 854.4 kB/s eta 0:00:04\n",
            "   -------------------------- ------------- 5.0/7.6 MB 858.1 kB/s eta 0:00:04\n",
            "   -------------------------- ------------- 5.1/7.6 MB 861.7 kB/s eta 0:00:03\n",
            "   --------------------------- ------------ 5.2/7.6 MB 864.6 kB/s eta 0:00:03\n",
            "   --------------------------- ------------ 5.2/7.6 MB 861.9 kB/s eta 0:00:03\n",
            "   --------------------------- ------------ 5.3/7.6 MB 864.7 kB/s eta 0:00:03\n",
            "   --------------------------- ------------ 5.3/7.6 MB 870.0 kB/s eta 0:00:03\n",
            "   ---------------------------- ----------- 5.4/7.6 MB 873.3 kB/s eta 0:00:03\n",
            "   ---------------------------- ----------- 5.5/7.6 MB 877.6 kB/s eta 0:00:03\n",
            "   ---------------------------- ----------- 5.5/7.6 MB 877.6 kB/s eta 0:00:03\n",
            "   ---------------------------- ----------- 5.5/7.6 MB 874.3 kB/s eta 0:00:03\n",
            "   ----------------------------- ---------- 5.6/7.6 MB 877.6 kB/s eta 0:00:03\n",
            "   ----------------------------- ---------- 5.7/7.6 MB 884.0 kB/s eta 0:00:03\n",
            "   ----------------------------- ---------- 5.7/7.6 MB 884.3 kB/s eta 0:00:03\n",
            "   ------------------------------ --------- 5.8/7.6 MB 891.7 kB/s eta 0:00:03\n",
            "   ------------------------------ --------- 5.9/7.6 MB 895.3 kB/s eta 0:00:02\n",
            "   ------------------------------ --------- 5.9/7.6 MB 894.5 kB/s eta 0:00:02\n",
            "   ------------------------------- -------- 6.0/7.6 MB 901.1 kB/s eta 0:00:02\n",
            "   ------------------------------- -------- 6.0/7.6 MB 902.4 kB/s eta 0:00:02\n",
            "   ------------------------------- -------- 6.1/7.6 MB 906.3 kB/s eta 0:00:02\n",
            "   -------------------------------- ------- 6.1/7.6 MB 906.6 kB/s eta 0:00:02\n",
            "   -------------------------------- ------- 6.2/7.6 MB 907.8 kB/s eta 0:00:02\n",
            "   -------------------------------- ------- 6.3/7.6 MB 911.5 kB/s eta 0:00:02\n",
            "   --------------------------------- ------ 6.4/7.6 MB 917.2 kB/s eta 0:00:02\n",
            "   --------------------------------- ------ 6.4/7.6 MB 917.5 kB/s eta 0:00:02\n",
            "   --------------------------------- ------ 6.5/7.6 MB 918.0 kB/s eta 0:00:02\n",
            "   ---------------------------------- ----- 6.5/7.6 MB 921.3 kB/s eta 0:00:02\n",
            "   ---------------------------------- ----- 6.5/7.6 MB 921.3 kB/s eta 0:00:02\n",
            "   ---------------------------------- ----- 6.5/7.6 MB 913.4 kB/s eta 0:00:02\n",
            "   ---------------------------------- ----- 6.5/7.6 MB 913.4 kB/s eta 0:00:02\n",
            "   ---------------------------------- ----- 6.5/7.6 MB 913.4 kB/s eta 0:00:02\n",
            "   ---------------------------------- ----- 6.5/7.6 MB 913.4 kB/s eta 0:00:02\n",
            "   ---------------------------------- ----- 6.5/7.6 MB 913.4 kB/s eta 0:00:02\n",
            "   ---------------------------------- ----- 6.6/7.6 MB 893.6 kB/s eta 0:00:02\n",
            "   ---------------------------------- ----- 6.6/7.6 MB 894.0 kB/s eta 0:00:02\n",
            "   ---------------------------------- ----- 6.7/7.6 MB 894.4 kB/s eta 0:00:02\n",
            "   ----------------------------------- ---- 6.8/7.6 MB 897.8 kB/s eta 0:00:01\n",
            "   ----------------------------------- ---- 6.8/7.6 MB 898.6 kB/s eta 0:00:01\n",
            "   ----------------------------------- ---- 6.9/7.6 MB 900.8 kB/s eta 0:00:01\n",
            "   ------------------------------------ --- 6.9/7.6 MB 900.9 kB/s eta 0:00:01\n",
            "   ------------------------------------ --- 7.0/7.6 MB 907.4 kB/s eta 0:00:01\n",
            "   ------------------------------------- -- 7.1/7.6 MB 913.0 kB/s eta 0:00:01\n",
            "   ------------------------------------- -- 7.1/7.6 MB 913.0 kB/s eta 0:00:01\n",
            "   ------------------------------------- -- 7.1/7.6 MB 910.5 kB/s eta 0:00:01\n",
            "   ------------------------------------- -- 7.2/7.6 MB 912.8 kB/s eta 0:00:01\n",
            "   -------------------------------------- - 7.3/7.6 MB 915.9 kB/s eta 0:00:01\n",
            "   -------------------------------------- - 7.3/7.6 MB 911.4 kB/s eta 0:00:01\n",
            "   -------------------------------------- - 7.4/7.6 MB 916.8 kB/s eta 0:00:01\n",
            "   -------------------------------------- - 7.4/7.6 MB 919.0 kB/s eta 0:00:01\n",
            "   ---------------------------------------  7.5/7.6 MB 922.5 kB/s eta 0:00:01\n",
            "   ---------------------------------------  7.5/7.6 MB 920.3 kB/s eta 0:00:01\n",
            "   ---------------------------------------  7.6/7.6 MB 919.5 kB/s eta 0:00:01\n",
            "   ---------------------------------------  7.6/7.6 MB 922.9 kB/s eta 0:00:01\n",
            "   ---------------------------------------- 7.6/7.6 MB 920.3 kB/s eta 0:00:00\n",
            "Downloading contourpy-1.2.0-cp311-cp311-win_amd64.whl (187 kB)\n",
            "   ---------------------------------------- 0.0/187.6 kB ? eta -:--:--\n",
            "   ------ -------------------------------- 30.7/187.6 kB 660.6 kB/s eta 0:00:01\n",
            "   --------------- ------------------------ 71.7/187.6 kB 1.3 MB/s eta 0:00:01\n",
            "   --------------- ------------------------ 71.7/187.6 kB 1.3 MB/s eta 0:00:01\n",
            "   ------------------------ ------------- 122.9/187.6 kB 654.9 kB/s eta 0:00:01\n",
            "   ------------------------------- ------ 153.6/187.6 kB 706.2 kB/s eta 0:00:01\n",
            "   ------------------------------- ------ 153.6/187.6 kB 706.2 kB/s eta 0:00:01\n",
            "   ------------------------------- ------ 153.6/187.6 kB 706.2 kB/s eta 0:00:01\n",
            "   ------------------------------- ------ 153.6/187.6 kB 706.2 kB/s eta 0:00:01\n",
            "   -------------------------------------- 187.6/187.6 kB 420.2 kB/s eta 0:00:00\n",
            "Downloading cycler-0.12.1-py3-none-any.whl (8.3 kB)\n",
            "Downloading fonttools-4.47.0-cp311-cp311-win_amd64.whl (2.2 MB)\n",
            "   ---------------------------------------- 0.0/2.2 MB ? eta -:--:--\n",
            "    --------------------------------------- 0.0/2.2 MB 2.0 MB/s eta 0:00:02\n",
            "   - -------------------------------------- 0.1/2.2 MB 991.0 kB/s eta 0:00:03\n",
            "   - -------------------------------------- 0.1/2.2 MB 1.2 MB/s eta 0:00:02\n",
            "   -- ------------------------------------- 0.1/2.2 MB 901.1 kB/s eta 0:00:03\n",
            "   -- ------------------------------------- 0.1/2.2 MB 901.1 kB/s eta 0:00:03\n",
            "   -- ------------------------------------- 0.1/2.2 MB 901.1 kB/s eta 0:00:03\n",
            "   --- ------------------------------------ 0.2/2.2 MB 655.1 kB/s eta 0:00:04\n",
            "   ---- ----------------------------------- 0.2/2.2 MB 686.8 kB/s eta 0:00:03\n",
            "   ---- ----------------------------------- 0.3/2.2 MB 656.4 kB/s eta 0:00:03\n",
            "   ----- ---------------------------------- 0.3/2.2 MB 678.1 kB/s eta 0:00:03\n",
            "   ------ --------------------------------- 0.3/2.2 MB 698.2 kB/s eta 0:00:03\n",
            "   ------- -------------------------------- 0.4/2.2 MB 735.7 kB/s eta 0:00:03\n",
            "   ------- -------------------------------- 0.4/2.2 MB 726.4 kB/s eta 0:00:03\n",
            "   -------- ------------------------------- 0.5/2.2 MB 704.0 kB/s eta 0:00:03\n",
            "   --------- ------------------------------ 0.5/2.2 MB 731.4 kB/s eta 0:00:03\n",
            "   ---------- ----------------------------- 0.6/2.2 MB 755.9 kB/s eta 0:00:03\n",
            "   ---------- ----------------------------- 0.6/2.2 MB 763.0 kB/s eta 0:00:03\n",
            "   ----------- ---------------------------- 0.6/2.2 MB 758.0 kB/s eta 0:00:03\n",
            "   ------------ --------------------------- 0.7/2.2 MB 774.9 kB/s eta 0:00:02\n",
            "   ------------- -------------------------- 0.7/2.2 MB 791.2 kB/s eta 0:00:02\n",
            "   -------------- ------------------------- 0.8/2.2 MB 805.9 kB/s eta 0:00:02\n",
            "   -------------- ------------------------- 0.8/2.2 MB 811.7 kB/s eta 0:00:02\n",
            "   --------------- ------------------------ 0.9/2.2 MB 811.8 kB/s eta 0:00:02\n",
            "   ---------------- ----------------------- 0.9/2.2 MB 816.9 kB/s eta 0:00:02\n",
            "   ----------------- ---------------------- 0.9/2.2 MB 806.1 kB/s eta 0:00:02\n",
            "   ----------------- ---------------------- 1.0/2.2 MB 810.9 kB/s eta 0:00:02\n",
            "   ------------------ --------------------- 1.0/2.2 MB 821.5 kB/s eta 0:00:02\n",
            "   ------------------- -------------------- 1.1/2.2 MB 831.4 kB/s eta 0:00:02\n",
            "   -------------------- ------------------- 1.1/2.2 MB 835.1 kB/s eta 0:00:02\n",
            "   --------------------- ------------------ 1.2/2.2 MB 841.5 kB/s eta 0:00:02\n",
            "   ---------------------- ----------------- 1.2/2.2 MB 849.7 kB/s eta 0:00:02\n",
            "   ----------------------- ---------------- 1.3/2.2 MB 871.9 kB/s eta 0:00:02\n",
            "   ----------------------- ---------------- 1.3/2.2 MB 860.2 kB/s eta 0:00:02\n",
            "   ------------------------- -------------- 1.4/2.2 MB 871.9 kB/s eta 0:00:01\n",
            "   ------------------------- -------------- 1.4/2.2 MB 880.7 kB/s eta 0:00:01\n",
            "   --------------------------- ------------ 1.5/2.2 MB 888.0 kB/s eta 0:00:01\n",
            "   --------------------------- ------------ 1.5/2.2 MB 892.3 kB/s eta 0:00:01\n",
            "   ---------------------------- ----------- 1.6/2.2 MB 897.6 kB/s eta 0:00:01\n",
            "   ----------------------------- ---------- 1.6/2.2 MB 900.3 kB/s eta 0:00:01\n",
            "   ------------------------------ --------- 1.7/2.2 MB 894.5 kB/s eta 0:00:01\n",
            "   ------------------------------- -------- 1.7/2.2 MB 899.4 kB/s eta 0:00:01\n",
            "   -------------------------------- ------- 1.8/2.2 MB 912.3 kB/s eta 0:00:01\n",
            "   --------------------------------- ------ 1.8/2.2 MB 913.5 kB/s eta 0:00:01\n",
            "   ---------------------------------- ----- 1.9/2.2 MB 920.4 kB/s eta 0:00:01\n",
            "   ----------------------------------- ---- 1.9/2.2 MB 931.4 kB/s eta 0:00:01\n",
            "   ----------------------------------- ---- 1.9/2.2 MB 931.4 kB/s eta 0:00:01\n",
            "   ----------------------------------- ---- 1.9/2.2 MB 931.4 kB/s eta 0:00:01\n",
            "   ----------------------------------- ---- 1.9/2.2 MB 931.4 kB/s eta 0:00:01\n",
            "   ----------------------------------- ---- 1.9/2.2 MB 931.4 kB/s eta 0:00:01\n",
            "   ------------------------------------ --- 2.0/2.2 MB 857.7 kB/s eta 0:00:01\n",
            "   ------------------------------------ --- 2.0/2.2 MB 857.7 kB/s eta 0:00:01\n",
            "   ------------------------------------ --- 2.0/2.2 MB 857.7 kB/s eta 0:00:01\n",
            "   ------------------------------------ --- 2.0/2.2 MB 857.7 kB/s eta 0:00:01\n",
            "   ------------------------------------- -- 2.0/2.2 MB 806.2 kB/s eta 0:00:01\n",
            "   ------------------------------------- -- 2.0/2.2 MB 806.2 kB/s eta 0:00:01\n",
            "   ------------------------------------- -- 2.1/2.2 MB 789.8 kB/s eta 0:00:01\n",
            "   -------------------------------------- - 2.1/2.2 MB 783.5 kB/s eta 0:00:01\n",
            "   -------------------------------------- - 2.1/2.2 MB 785.1 kB/s eta 0:00:01\n",
            "   ---------------------------------------  2.1/2.2 MB 775.3 kB/s eta 0:00:01\n",
            "   ---------------------------------------  2.1/2.2 MB 775.3 kB/s eta 0:00:01\n",
            "   ---------------------------------------  2.2/2.2 MB 765.2 kB/s eta 0:00:01\n",
            "   ---------------------------------------  2.2/2.2 MB 765.2 kB/s eta 0:00:01\n",
            "   ---------------------------------------  2.2/2.2 MB 765.2 kB/s eta 0:00:01\n",
            "   ---------------------------------------  2.2/2.2 MB 765.2 kB/s eta 0:00:01\n",
            "   ---------------------------------------  2.2/2.2 MB 713.2 kB/s eta 0:00:01\n",
            "   ---------------------------------------- 2.2/2.2 MB 708.4 kB/s eta 0:00:00\n",
            "Downloading kiwisolver-1.4.5-cp311-cp311-win_amd64.whl (56 kB)\n",
            "   ---------------------------------------- 0.0/56.1 kB ? eta -:--:--\n",
            "   ---------------------------------------- 0.0/56.1 kB ? eta -:--:--\n",
            "   ------- -------------------------------- 10.2/56.1 kB ? eta -:--:--\n",
            "   ---------------------------------------- 56.1/56.1 kB 588.2 kB/s eta 0:00:00\n",
            "Downloading pyparsing-3.1.1-py3-none-any.whl (103 kB)\n",
            "   ---------------------------------------- 0.0/103.1 kB ? eta -:--:--\n",
            "   ----------- ---------------------------- 30.7/103.1 kB 1.4 MB/s eta 0:00:01\n",
            "   --------------------------- ----------- 71.7/103.1 kB 660.6 kB/s eta 0:00:01\n",
            "   -------------------------------------- 103.1/103.1 kB 663.6 kB/s eta 0:00:00\n",
            "Installing collected packages: pyparsing, kiwisolver, fonttools, cycler, contourpy, matplotlib\n",
            "Successfully installed contourpy-1.2.0 cycler-0.12.1 fonttools-4.47.0 kiwisolver-1.4.5 matplotlib-3.8.2 pyparsing-3.1.1\n"
          ]
        }
      ],
      "source": [
        "!pip install matplotlib"
      ]
    },
    {
      "cell_type": "code",
      "execution_count": 52,
      "metadata": {},
      "outputs": [
        {
          "name": "stdout",
          "output_type": "stream",
          "text": [
            "Collecting seaborn\n",
            "  Downloading seaborn-0.13.1-py3-none-any.whl.metadata (5.4 kB)\n",
            "Requirement already satisfied: numpy!=1.24.0,>=1.20 in c:\\users\\ardiawanfadilah\\appdata\\local\\programs\\python\\python311\\lib\\site-packages (from seaborn) (1.26.3)\n",
            "Requirement already satisfied: pandas>=1.2 in c:\\users\\ardiawanfadilah\\appdata\\local\\programs\\python\\python311\\lib\\site-packages (from seaborn) (2.1.4)\n",
            "Requirement already satisfied: matplotlib!=3.6.1,>=3.4 in c:\\users\\ardiawanfadilah\\appdata\\local\\programs\\python\\python311\\lib\\site-packages (from seaborn) (3.8.2)\n",
            "Requirement already satisfied: contourpy>=1.0.1 in c:\\users\\ardiawanfadilah\\appdata\\local\\programs\\python\\python311\\lib\\site-packages (from matplotlib!=3.6.1,>=3.4->seaborn) (1.2.0)\n",
            "Requirement already satisfied: cycler>=0.10 in c:\\users\\ardiawanfadilah\\appdata\\local\\programs\\python\\python311\\lib\\site-packages (from matplotlib!=3.6.1,>=3.4->seaborn) (0.12.1)\n",
            "Requirement already satisfied: fonttools>=4.22.0 in c:\\users\\ardiawanfadilah\\appdata\\local\\programs\\python\\python311\\lib\\site-packages (from matplotlib!=3.6.1,>=3.4->seaborn) (4.47.0)\n",
            "Requirement already satisfied: kiwisolver>=1.3.1 in c:\\users\\ardiawanfadilah\\appdata\\local\\programs\\python\\python311\\lib\\site-packages (from matplotlib!=3.6.1,>=3.4->seaborn) (1.4.5)\n",
            "Requirement already satisfied: packaging>=20.0 in c:\\users\\ardiawanfadilah\\appdata\\local\\programs\\python\\python311\\lib\\site-packages (from matplotlib!=3.6.1,>=3.4->seaborn) (23.2)\n",
            "Requirement already satisfied: pillow>=8 in c:\\users\\ardiawanfadilah\\appdata\\local\\programs\\python\\python311\\lib\\site-packages (from matplotlib!=3.6.1,>=3.4->seaborn) (10.1.0)\n",
            "Requirement already satisfied: pyparsing>=2.3.1 in c:\\users\\ardiawanfadilah\\appdata\\local\\programs\\python\\python311\\lib\\site-packages (from matplotlib!=3.6.1,>=3.4->seaborn) (3.1.1)\n",
            "Requirement already satisfied: python-dateutil>=2.7 in c:\\users\\ardiawanfadilah\\appdata\\local\\programs\\python\\python311\\lib\\site-packages (from matplotlib!=3.6.1,>=3.4->seaborn) (2.8.2)\n",
            "Requirement already satisfied: pytz>=2020.1 in c:\\users\\ardiawanfadilah\\appdata\\local\\programs\\python\\python311\\lib\\site-packages (from pandas>=1.2->seaborn) (2023.3.post1)\n",
            "Requirement already satisfied: tzdata>=2022.1 in c:\\users\\ardiawanfadilah\\appdata\\local\\programs\\python\\python311\\lib\\site-packages (from pandas>=1.2->seaborn) (2023.3)\n",
            "Requirement already satisfied: six>=1.5 in c:\\users\\ardiawanfadilah\\appdata\\local\\programs\\python\\python311\\lib\\site-packages (from python-dateutil>=2.7->matplotlib!=3.6.1,>=3.4->seaborn) (1.16.0)\n",
            "Downloading seaborn-0.13.1-py3-none-any.whl (294 kB)\n",
            "   ---------------------------------------- 0.0/294.8 kB ? eta -:--:--\n",
            "   - -------------------------------------- 10.2/294.8 kB ? eta -:--:--\n",
            "   ---- ---------------------------------- 30.7/294.8 kB 435.7 kB/s eta 0:00:01\n",
            "   ----- --------------------------------- 41.0/294.8 kB 393.8 kB/s eta 0:00:01\n",
            "   -------- ------------------------------ 61.4/294.8 kB 363.1 kB/s eta 0:00:01\n",
            "   -------- ------------------------------ 61.4/294.8 kB 363.1 kB/s eta 0:00:01\n",
            "   --------- ----------------------------- 71.7/294.8 kB 262.6 kB/s eta 0:00:01\n",
            "   --------- ----------------------------- 71.7/294.8 kB 262.6 kB/s eta 0:00:01\n",
            "   ------------ -------------------------- 92.2/294.8 kB 262.6 kB/s eta 0:00:01\n",
            "   -------------- ----------------------- 112.6/294.8 kB 273.1 kB/s eta 0:00:01\n",
            "   -------------- ----------------------- 112.6/294.8 kB 273.1 kB/s eta 0:00:01\n",
            "   --------------- ---------------------- 122.9/294.8 kB 248.7 kB/s eta 0:00:01\n",
            "   --------------- ---------------------- 122.9/294.8 kB 248.7 kB/s eta 0:00:01\n",
            "   --------------- ---------------------- 122.9/294.8 kB 248.7 kB/s eta 0:00:01\n",
            "   --------------- ---------------------- 122.9/294.8 kB 248.7 kB/s eta 0:00:01\n",
            "   ------------------ ------------------- 143.4/294.8 kB 202.9 kB/s eta 0:00:01\n",
            "   ------------------ ------------------- 143.4/294.8 kB 202.9 kB/s eta 0:00:01\n",
            "   ------------------ ------------------- 143.4/294.8 kB 202.9 kB/s eta 0:00:01\n",
            "   ------------------ ------------------- 143.4/294.8 kB 202.9 kB/s eta 0:00:01\n",
            "   ------------------- ------------------ 153.6/294.8 kB 163.8 kB/s eta 0:00:01\n",
            "   ------------------- ------------------ 153.6/294.8 kB 163.8 kB/s eta 0:00:01\n",
            "   ------------------- ------------------ 153.6/294.8 kB 163.8 kB/s eta 0:00:01\n",
            "   ------------------- ------------------ 153.6/294.8 kB 163.8 kB/s eta 0:00:01\n",
            "   ------------------- ------------------ 153.6/294.8 kB 163.8 kB/s eta 0:00:01\n",
            "   ------------------- ------------------ 153.6/294.8 kB 163.8 kB/s eta 0:00:01\n",
            "   ------------------- ------------------ 153.6/294.8 kB 163.8 kB/s eta 0:00:01\n",
            "   ------------------- ------------------ 153.6/294.8 kB 163.8 kB/s eta 0:00:01\n",
            "   ---------------------- --------------- 174.1/294.8 kB 131.1 kB/s eta 0:00:01\n",
            "   ---------------------- --------------- 174.1/294.8 kB 131.1 kB/s eta 0:00:01\n",
            "   ---------------------- --------------- 174.1/294.8 kB 131.1 kB/s eta 0:00:01\n",
            "   ---------------------- --------------- 174.1/294.8 kB 131.1 kB/s eta 0:00:01\n",
            "   ---------------------- --------------- 174.1/294.8 kB 131.1 kB/s eta 0:00:01\n",
            "   ---------------------- --------------- 174.1/294.8 kB 131.1 kB/s eta 0:00:01\n",
            "   ---------------------- --------------- 174.1/294.8 kB 131.1 kB/s eta 0:00:01\n",
            "   ---------------------- --------------- 174.1/294.8 kB 131.1 kB/s eta 0:00:01\n",
            "   ---------------------- --------------- 174.1/294.8 kB 131.1 kB/s eta 0:00:01\n",
            "   ---------------------- --------------- 174.1/294.8 kB 131.1 kB/s eta 0:00:01\n",
            "   ---------------------- --------------- 174.1/294.8 kB 131.1 kB/s eta 0:00:01\n",
            "   ---------------------- --------------- 174.1/294.8 kB 131.1 kB/s eta 0:00:01\n",
            "   ------------------------- ------------ 194.6/294.8 kB 101.7 kB/s eta 0:00:01\n",
            "   ------------------------- ------------ 194.6/294.8 kB 101.7 kB/s eta 0:00:01\n",
            "   ------------------------- ------------ 194.6/294.8 kB 101.7 kB/s eta 0:00:01\n",
            "   ------------------------- ------------ 194.6/294.8 kB 101.7 kB/s eta 0:00:01\n",
            "   --------------------------- ----------- 204.8/294.8 kB 96.5 kB/s eta 0:00:01\n",
            "   --------------------------- ----------- 204.8/294.8 kB 96.5 kB/s eta 0:00:01\n",
            "   --------------------------- ----------- 204.8/294.8 kB 96.5 kB/s eta 0:00:01\n",
            "   --------------------------- ----------- 204.8/294.8 kB 96.5 kB/s eta 0:00:01\n",
            "   --------------------------- ----------- 204.8/294.8 kB 96.5 kB/s eta 0:00:01\n",
            "   --------------------------- ----------- 204.8/294.8 kB 96.5 kB/s eta 0:00:01\n",
            "   ----------------------------- --------- 225.3/294.8 kB 94.3 kB/s eta 0:00:01\n",
            "   ----------------------------- --------- 225.3/294.8 kB 94.3 kB/s eta 0:00:01\n",
            "   ----------------------------- --------- 225.3/294.8 kB 94.3 kB/s eta 0:00:01\n",
            "   ----------------------------- --------- 225.3/294.8 kB 94.3 kB/s eta 0:00:01\n",
            "   ----------------------------- --------- 225.3/294.8 kB 94.3 kB/s eta 0:00:01\n",
            "   ----------------------------- --------- 225.3/294.8 kB 94.3 kB/s eta 0:00:01\n",
            "   ----------------------------- --------- 225.3/294.8 kB 94.3 kB/s eta 0:00:01\n",
            "   ----------------------------- --------- 225.3/294.8 kB 94.3 kB/s eta 0:00:01\n",
            "   ----------------------------- --------- 225.3/294.8 kB 94.3 kB/s eta 0:00:01\n",
            "   ------------------------------- ------- 235.5/294.8 kB 82.9 kB/s eta 0:00:01\n",
            "   ------------------------------- ------- 235.5/294.8 kB 82.9 kB/s eta 0:00:01\n",
            "   ------------------------------- ------- 235.5/294.8 kB 82.9 kB/s eta 0:00:01\n",
            "   ------------------------------- ------- 235.5/294.8 kB 82.9 kB/s eta 0:00:01\n",
            "   ------------------------------- ------- 235.5/294.8 kB 82.9 kB/s eta 0:00:01\n",
            "   ------------------------------- ------- 235.5/294.8 kB 82.9 kB/s eta 0:00:01\n",
            "   ------------------------------- ------- 235.5/294.8 kB 82.9 kB/s eta 0:00:01\n",
            "   ------------------------------- ------- 235.5/294.8 kB 82.9 kB/s eta 0:00:01\n",
            "   ------------------------------- ------- 235.5/294.8 kB 82.9 kB/s eta 0:00:01\n",
            "   ------------------------------- ------- 235.5/294.8 kB 82.9 kB/s eta 0:00:01\n",
            "   ------------------------------- ------- 235.5/294.8 kB 82.9 kB/s eta 0:00:01\n",
            "   --------------------------------- ----- 256.0/294.8 kB 75.6 kB/s eta 0:00:01\n",
            "   --------------------------------- ----- 256.0/294.8 kB 75.6 kB/s eta 0:00:01\n",
            "   --------------------------------- ----- 256.0/294.8 kB 75.6 kB/s eta 0:00:01\n",
            "   --------------------------------- ----- 256.0/294.8 kB 75.6 kB/s eta 0:00:01\n",
            "   --------------------------------- ----- 256.0/294.8 kB 75.6 kB/s eta 0:00:01\n",
            "   --------------------------------- ----- 256.0/294.8 kB 75.6 kB/s eta 0:00:01\n",
            "   --------------------------------- ----- 256.0/294.8 kB 75.6 kB/s eta 0:00:01\n",
            "   --------------------------------- ----- 256.0/294.8 kB 75.6 kB/s eta 0:00:01\n",
            "   --------------------------------- ----- 256.0/294.8 kB 75.6 kB/s eta 0:00:01\n",
            "   --------------------------------- ----- 256.0/294.8 kB 75.6 kB/s eta 0:00:01\n",
            "   --------------------------------- ----- 256.0/294.8 kB 75.6 kB/s eta 0:00:01\n",
            "   --------------------------------- ----- 256.0/294.8 kB 75.6 kB/s eta 0:00:01\n",
            "   ------------------------------------ -- 276.5/294.8 kB 70.4 kB/s eta 0:00:01\n",
            "   ------------------------------------ -- 276.5/294.8 kB 70.4 kB/s eta 0:00:01\n",
            "   ------------------------------------ -- 276.5/294.8 kB 70.4 kB/s eta 0:00:01\n",
            "   ------------------------------------ -- 276.5/294.8 kB 70.4 kB/s eta 0:00:01\n",
            "   ------------------------------------ -- 276.5/294.8 kB 70.4 kB/s eta 0:00:01\n",
            "   ------------------------------------ -- 276.5/294.8 kB 70.4 kB/s eta 0:00:01\n",
            "   ------------------------------------ -- 276.5/294.8 kB 70.4 kB/s eta 0:00:01\n",
            "   ------------------------------------ -- 276.5/294.8 kB 70.4 kB/s eta 0:00:01\n",
            "   ------------------------------------ -- 276.5/294.8 kB 70.4 kB/s eta 0:00:01\n",
            "   ------------------------------------ -- 276.5/294.8 kB 70.4 kB/s eta 0:00:01\n",
            "   ------------------------------------ -- 276.5/294.8 kB 70.4 kB/s eta 0:00:01\n",
            "   ------------------------------------ -- 276.5/294.8 kB 70.4 kB/s eta 0:00:01\n",
            "   ------------------------------------ -- 276.5/294.8 kB 70.4 kB/s eta 0:00:01\n",
            "   ------------------------------------- - 286.7/294.8 kB 62.8 kB/s eta 0:00:01\n",
            "   --------------------------------------- 294.8/294.8 kB 64.3 kB/s eta 0:00:00\n",
            "Installing collected packages: seaborn\n",
            "Successfully installed seaborn-0.13.1\n"
          ]
        }
      ],
      "source": [
        "!pip install seaborn"
      ]
    },
    {
      "cell_type": "code",
      "execution_count": 53,
      "metadata": {
        "id": "T-YChh0hSI82"
      },
      "outputs": [],
      "source": [
        "import seaborn as sns # untuk visualisasi data statistik yang lebih menarik dan informatif\n",
        "import matplotlib.pyplot as plt # untuk membuat plot dan visualisasi data"
      ]
    },
    {
      "cell_type": "markdown",
      "metadata": {
        "id": "d_ajLYydSNPo"
      },
      "source": [
        "Langkah yang dilakukan adalah menghitung korelasi antara kolom-kolom dalam DataFrame yang telah dibersihkan"
      ]
    },
    {
      "cell_type": "code",
      "execution_count": 54,
      "metadata": {
        "colab": {
          "base_uri": "https://localhost:8080/",
          "height": 414
        },
        "id": "8N6f-pAMSLul",
        "outputId": "4070052b-bd18-4c7d-8527-63be1638ad53"
      },
      "outputs": [
        {
          "data": {
            "text/html": [
              "<div>\n",
              "<style scoped>\n",
              "    .dataframe tbody tr th:only-of-type {\n",
              "        vertical-align: middle;\n",
              "    }\n",
              "\n",
              "    .dataframe tbody tr th {\n",
              "        vertical-align: top;\n",
              "    }\n",
              "\n",
              "    .dataframe thead th {\n",
              "        text-align: right;\n",
              "    }\n",
              "</style>\n",
              "<table border=\"1\" class=\"dataframe\">\n",
              "  <thead>\n",
              "    <tr style=\"text-align: right;\">\n",
              "      <th></th>\n",
              "      <th>age</th>\n",
              "      <th>sex</th>\n",
              "      <th>cp</th>\n",
              "      <th>trestbps</th>\n",
              "      <th>chol</th>\n",
              "      <th>fbs</th>\n",
              "      <th>restecg</th>\n",
              "      <th>thalach</th>\n",
              "      <th>exang</th>\n",
              "      <th>oldpeak</th>\n",
              "      <th>target</th>\n",
              "    </tr>\n",
              "  </thead>\n",
              "  <tbody>\n",
              "    <tr>\n",
              "      <th>age</th>\n",
              "      <td>1.000000</td>\n",
              "      <td>0.014516</td>\n",
              "      <td>0.146616</td>\n",
              "      <td>0.246571</td>\n",
              "      <td>0.087101</td>\n",
              "      <td>0.181130</td>\n",
              "      <td>0.050672</td>\n",
              "      <td>-0.460514</td>\n",
              "      <td>0.239223</td>\n",
              "      <td>0.178172</td>\n",
              "      <td>0.210429</td>\n",
              "    </tr>\n",
              "    <tr>\n",
              "      <th>sex</th>\n",
              "      <td>0.014516</td>\n",
              "      <td>1.000000</td>\n",
              "      <td>0.245769</td>\n",
              "      <td>0.082064</td>\n",
              "      <td>0.027695</td>\n",
              "      <td>0.044372</td>\n",
              "      <td>-0.108656</td>\n",
              "      <td>-0.106959</td>\n",
              "      <td>0.154925</td>\n",
              "      <td>0.115959</td>\n",
              "      <td>0.220732</td>\n",
              "    </tr>\n",
              "    <tr>\n",
              "      <th>cp</th>\n",
              "      <td>0.146616</td>\n",
              "      <td>0.245769</td>\n",
              "      <td>1.000000</td>\n",
              "      <td>0.081293</td>\n",
              "      <td>0.134697</td>\n",
              "      <td>0.031930</td>\n",
              "      <td>-0.016372</td>\n",
              "      <td>-0.367819</td>\n",
              "      <td>0.494674</td>\n",
              "      <td>0.351735</td>\n",
              "      <td>0.427536</td>\n",
              "    </tr>\n",
              "    <tr>\n",
              "      <th>trestbps</th>\n",
              "      <td>0.246571</td>\n",
              "      <td>0.082064</td>\n",
              "      <td>0.081293</td>\n",
              "      <td>1.000000</td>\n",
              "      <td>0.080818</td>\n",
              "      <td>0.096222</td>\n",
              "      <td>0.011256</td>\n",
              "      <td>-0.181824</td>\n",
              "      <td>0.211507</td>\n",
              "      <td>0.204000</td>\n",
              "      <td>0.214898</td>\n",
              "    </tr>\n",
              "    <tr>\n",
              "      <th>chol</th>\n",
              "      <td>0.087101</td>\n",
              "      <td>0.027695</td>\n",
              "      <td>0.134697</td>\n",
              "      <td>0.080818</td>\n",
              "      <td>1.000000</td>\n",
              "      <td>0.107686</td>\n",
              "      <td>0.048081</td>\n",
              "      <td>-0.122038</td>\n",
              "      <td>0.161055</td>\n",
              "      <td>0.106743</td>\n",
              "      <td>0.256027</td>\n",
              "    </tr>\n",
              "    <tr>\n",
              "      <th>fbs</th>\n",
              "      <td>0.181130</td>\n",
              "      <td>0.044372</td>\n",
              "      <td>0.031930</td>\n",
              "      <td>0.096222</td>\n",
              "      <td>0.107686</td>\n",
              "      <td>1.000000</td>\n",
              "      <td>0.047988</td>\n",
              "      <td>-0.069722</td>\n",
              "      <td>0.115503</td>\n",
              "      <td>0.063179</td>\n",
              "      <td>0.154319</td>\n",
              "    </tr>\n",
              "    <tr>\n",
              "      <th>restecg</th>\n",
              "      <td>0.050672</td>\n",
              "      <td>-0.108656</td>\n",
              "      <td>-0.016372</td>\n",
              "      <td>0.011256</td>\n",
              "      <td>0.048081</td>\n",
              "      <td>0.047988</td>\n",
              "      <td>1.000000</td>\n",
              "      <td>0.006084</td>\n",
              "      <td>0.041290</td>\n",
              "      <td>0.042193</td>\n",
              "      <td>0.042643</td>\n",
              "    </tr>\n",
              "    <tr>\n",
              "      <th>thalach</th>\n",
              "      <td>-0.460514</td>\n",
              "      <td>-0.106959</td>\n",
              "      <td>-0.367819</td>\n",
              "      <td>-0.181824</td>\n",
              "      <td>-0.122038</td>\n",
              "      <td>-0.069722</td>\n",
              "      <td>0.006084</td>\n",
              "      <td>1.000000</td>\n",
              "      <td>-0.400508</td>\n",
              "      <td>-0.300458</td>\n",
              "      <td>-0.367525</td>\n",
              "    </tr>\n",
              "    <tr>\n",
              "      <th>exang</th>\n",
              "      <td>0.239223</td>\n",
              "      <td>0.154925</td>\n",
              "      <td>0.494674</td>\n",
              "      <td>0.211507</td>\n",
              "      <td>0.161055</td>\n",
              "      <td>0.115503</td>\n",
              "      <td>0.041290</td>\n",
              "      <td>-0.400508</td>\n",
              "      <td>1.000000</td>\n",
              "      <td>0.624965</td>\n",
              "      <td>0.571710</td>\n",
              "    </tr>\n",
              "    <tr>\n",
              "      <th>oldpeak</th>\n",
              "      <td>0.178172</td>\n",
              "      <td>0.115959</td>\n",
              "      <td>0.351735</td>\n",
              "      <td>0.204000</td>\n",
              "      <td>0.106743</td>\n",
              "      <td>0.063179</td>\n",
              "      <td>0.042193</td>\n",
              "      <td>-0.300458</td>\n",
              "      <td>0.624965</td>\n",
              "      <td>1.000000</td>\n",
              "      <td>0.580732</td>\n",
              "    </tr>\n",
              "    <tr>\n",
              "      <th>target</th>\n",
              "      <td>0.210429</td>\n",
              "      <td>0.220732</td>\n",
              "      <td>0.427536</td>\n",
              "      <td>0.214898</td>\n",
              "      <td>0.256027</td>\n",
              "      <td>0.154319</td>\n",
              "      <td>0.042643</td>\n",
              "      <td>-0.367525</td>\n",
              "      <td>0.571710</td>\n",
              "      <td>0.580732</td>\n",
              "      <td>1.000000</td>\n",
              "    </tr>\n",
              "  </tbody>\n",
              "</table>\n",
              "</div>"
            ],
            "text/plain": [
              "               age       sex        cp  trestbps      chol       fbs  \\\n",
              "age       1.000000  0.014516  0.146616  0.246571  0.087101  0.181130   \n",
              "sex       0.014516  1.000000  0.245769  0.082064  0.027695  0.044372   \n",
              "cp        0.146616  0.245769  1.000000  0.081293  0.134697  0.031930   \n",
              "trestbps  0.246571  0.082064  0.081293  1.000000  0.080818  0.096222   \n",
              "chol      0.087101  0.027695  0.134697  0.080818  1.000000  0.107686   \n",
              "fbs       0.181130  0.044372  0.031930  0.096222  0.107686  1.000000   \n",
              "restecg   0.050672 -0.108656 -0.016372  0.011256  0.048081  0.047988   \n",
              "thalach  -0.460514 -0.106959 -0.367819 -0.181824 -0.122038 -0.069722   \n",
              "exang     0.239223  0.154925  0.494674  0.211507  0.161055  0.115503   \n",
              "oldpeak   0.178172  0.115959  0.351735  0.204000  0.106743  0.063179   \n",
              "target    0.210429  0.220732  0.427536  0.214898  0.256027  0.154319   \n",
              "\n",
              "           restecg   thalach     exang   oldpeak    target  \n",
              "age       0.050672 -0.460514  0.239223  0.178172  0.210429  \n",
              "sex      -0.108656 -0.106959  0.154925  0.115959  0.220732  \n",
              "cp       -0.016372 -0.367819  0.494674  0.351735  0.427536  \n",
              "trestbps  0.011256 -0.181824  0.211507  0.204000  0.214898  \n",
              "chol      0.048081 -0.122038  0.161055  0.106743  0.256027  \n",
              "fbs       0.047988 -0.069722  0.115503  0.063179  0.154319  \n",
              "restecg   1.000000  0.006084  0.041290  0.042193  0.042643  \n",
              "thalach   0.006084  1.000000 -0.400508 -0.300458 -0.367525  \n",
              "exang     0.041290 -0.400508  1.000000  0.624965  0.571710  \n",
              "oldpeak   0.042193 -0.300458  0.624965  1.000000  0.580732  \n",
              "target    0.042643 -0.367525  0.571710  0.580732  1.000000  "
            ]
          },
          "execution_count": 54,
          "metadata": {},
          "output_type": "execute_result"
        }
      ],
      "source": [
        "dfClean.corr() #menghasilkan DataFrame korelasi yang berisi nilai korelasi antara setiap pasangan kolom numerik"
      ]
    },
    {
      "cell_type": "code",
      "execution_count": 55,
      "metadata": {
        "colab": {
          "base_uri": "https://localhost:8080/",
          "height": 664
        },
        "id": "-MuzWfgpSOhu",
        "outputId": "5b942569-1800-4ceb-a7c4-89e8a49c8b59"
      },
      "outputs": [
        {
          "data": {
            "text/plain": [
              "<Axes: >"
            ]
          },
          "execution_count": 55,
          "metadata": {},
          "output_type": "execute_result"
        },
        {
          "data": {
            "image/png": "[encoded data removed]",
            "text/plain": [
              "<Figure size 1500x1000 with 2 Axes>"
            ]
          },
          "metadata": {},
          "output_type": "display_data"
        }
      ],
      "source": [
        "# Membuat heatmap korelasi\n",
        "cor_mat = dfClean.corr()\n",
        "fig,ax=plt.subplots(figsize=(15,10))\n",
        "sns.heatmap(cor_mat, annot=True, linewidths=0.5, fmt=\".3f\")"
      ]
    },
    {
      "cell_type": "markdown",
      "metadata": {
        "id": "K_X7cKQcSR7B"
      },
      "source": [
        "- **cor_mat** berisi matriks korelasi hasil dari perhitungan .corr() pada DataFrame dfClean\n",
        "\n",
        "- **plt.subplots(figsize=(15,10))** untuk mengatur ukuran gambar yang akan ditampilkan\n",
        "\n",
        "- **sns.heatmap()** untuk pembentukan heatmap dengan menggunakan cor_mat sebagai data yang akan divisualisasikan\n",
        "\n",
        "- **annot=True** merupakan parameter yang digunakan untuk menampilkan nilai korelasi pada heatmap\n",
        "\n",
        "- **linewidhts=0.5** untuk mengatur ketebalan garis antara sel heatmap\n",
        "\n",
        "- **fmt=\".3f\"** untuk memformat tampilan nilai korelasi menjadi tiga angka di belakang koma\n",
        "\n",
        "Heatmap digunakan untuk memberikan gambaran visual yang jelas tentang hubungan korelasi antara variabel-variabel dalam dataset."
      ]
    },
    {
      "cell_type": "markdown",
      "metadata": {
        "id": "AwEqHEP-ST0W"
      },
      "source": [
        "# 6) Konstruksi Data\n",
        "\n",
        "Konstruksi data memiliki tujuan untuk menyesuaikan semua tipe data yang ada di dalam dataset. Namun pada tahap ini, dataset sudah memiliki tipe data yang sesuai sehingga tidak perlu dilakukan penyesuaian kembali."
      ]
    },
    {
      "cell_type": "code",
      "execution_count": 56,
      "metadata": {
        "colab": {
          "base_uri": "https://localhost:8080/"
        },
        "id": "tGTt3jsrSQD7",
        "outputId": "5755a112-d5ef-4216-b3c9-8ed66469b24a"
      },
      "outputs": [
        {
          "name": "stdout",
          "output_type": "stream",
          "text": [
            "<class 'pandas.core.frame.DataFrame'>\n",
            "Index: 293 entries, 0 to 293\n",
            "Data columns (total 11 columns):\n",
            " #   Column    Non-Null Count  Dtype  \n",
            "---  ------    --------------  -----  \n",
            " 0   age       293 non-null    float64\n",
            " 1   sex       293 non-null    float64\n",
            " 2   cp        293 non-null    float64\n",
            " 3   trestbps  293 non-null    float64\n",
            " 4   chol      293 non-null    float64\n",
            " 5   fbs       293 non-null    float64\n",
            " 6   restecg   293 non-null    float64\n",
            " 7   thalach   293 non-null    float64\n",
            " 8   exang     293 non-null    float64\n",
            " 9   oldpeak   293 non-null    float64\n",
            " 10  target    293 non-null    float64\n",
            "dtypes: float64(11)\n",
            "memory usage: 27.5 KB\n"
          ]
        }
      ],
      "source": [
        "dfClean.info()"
      ]
    },
    {
      "cell_type": "code",
      "execution_count": 57,
      "metadata": {
        "colab": {
          "base_uri": "https://localhost:8080/",
          "height": 206
        },
        "id": "rtLvA9_ySWwl",
        "outputId": "276e1448-9879-4068-b5a7-18b5a9fc5446"
      },
      "outputs": [
        {
          "data": {
            "text/html": [
              "<div>\n",
              "<style scoped>\n",
              "    .dataframe tbody tr th:only-of-type {\n",
              "        vertical-align: middle;\n",
              "    }\n",
              "\n",
              "    .dataframe tbody tr th {\n",
              "        vertical-align: top;\n",
              "    }\n",
              "\n",
              "    .dataframe thead th {\n",
              "        text-align: right;\n",
              "    }\n",
              "</style>\n",
              "<table border=\"1\" class=\"dataframe\">\n",
              "  <thead>\n",
              "    <tr style=\"text-align: right;\">\n",
              "      <th></th>\n",
              "      <th>age</th>\n",
              "      <th>sex</th>\n",
              "      <th>cp</th>\n",
              "      <th>trestbps</th>\n",
              "      <th>chol</th>\n",
              "      <th>fbs</th>\n",
              "      <th>restecg</th>\n",
              "      <th>thalach</th>\n",
              "      <th>exang</th>\n",
              "      <th>oldpeak</th>\n",
              "      <th>target</th>\n",
              "    </tr>\n",
              "  </thead>\n",
              "  <tbody>\n",
              "    <tr>\n",
              "      <th>0</th>\n",
              "      <td>40.0</td>\n",
              "      <td>1.0</td>\n",
              "      <td>2.0</td>\n",
              "      <td>140.0</td>\n",
              "      <td>289.0</td>\n",
              "      <td>0.0</td>\n",
              "      <td>0.0</td>\n",
              "      <td>172.0</td>\n",
              "      <td>0.0</td>\n",
              "      <td>0.0</td>\n",
              "      <td>0.0</td>\n",
              "    </tr>\n",
              "    <tr>\n",
              "      <th>1</th>\n",
              "      <td>49.0</td>\n",
              "      <td>0.0</td>\n",
              "      <td>3.0</td>\n",
              "      <td>160.0</td>\n",
              "      <td>180.0</td>\n",
              "      <td>0.0</td>\n",
              "      <td>0.0</td>\n",
              "      <td>156.0</td>\n",
              "      <td>0.0</td>\n",
              "      <td>1.0</td>\n",
              "      <td>1.0</td>\n",
              "    </tr>\n",
              "    <tr>\n",
              "      <th>2</th>\n",
              "      <td>37.0</td>\n",
              "      <td>1.0</td>\n",
              "      <td>2.0</td>\n",
              "      <td>130.0</td>\n",
              "      <td>283.0</td>\n",
              "      <td>0.0</td>\n",
              "      <td>1.0</td>\n",
              "      <td>98.0</td>\n",
              "      <td>0.0</td>\n",
              "      <td>0.0</td>\n",
              "      <td>0.0</td>\n",
              "    </tr>\n",
              "    <tr>\n",
              "      <th>3</th>\n",
              "      <td>48.0</td>\n",
              "      <td>0.0</td>\n",
              "      <td>4.0</td>\n",
              "      <td>138.0</td>\n",
              "      <td>214.0</td>\n",
              "      <td>0.0</td>\n",
              "      <td>0.0</td>\n",
              "      <td>108.0</td>\n",
              "      <td>1.0</td>\n",
              "      <td>1.5</td>\n",
              "      <td>3.0</td>\n",
              "    </tr>\n",
              "    <tr>\n",
              "      <th>4</th>\n",
              "      <td>54.0</td>\n",
              "      <td>1.0</td>\n",
              "      <td>3.0</td>\n",
              "      <td>150.0</td>\n",
              "      <td>251.0</td>\n",
              "      <td>0.0</td>\n",
              "      <td>0.0</td>\n",
              "      <td>122.0</td>\n",
              "      <td>0.0</td>\n",
              "      <td>0.0</td>\n",
              "      <td>0.0</td>\n",
              "    </tr>\n",
              "  </tbody>\n",
              "</table>\n",
              "</div>"
            ],
            "text/plain": [
              "    age  sex   cp  trestbps   chol  fbs  restecg  thalach  exang  oldpeak  \\\n",
              "0  40.0  1.0  2.0     140.0  289.0  0.0      0.0    172.0    0.0      0.0   \n",
              "1  49.0  0.0  3.0     160.0  180.0  0.0      0.0    156.0    0.0      1.0   \n",
              "2  37.0  1.0  2.0     130.0  283.0  0.0      1.0     98.0    0.0      0.0   \n",
              "3  48.0  0.0  4.0     138.0  214.0  0.0      0.0    108.0    1.0      1.5   \n",
              "4  54.0  1.0  3.0     150.0  251.0  0.0      0.0    122.0    0.0      0.0   \n",
              "\n",
              "   target  \n",
              "0     0.0  \n",
              "1     1.0  \n",
              "2     0.0  \n",
              "3     3.0  \n",
              "4     0.0  "
            ]
          },
          "execution_count": 57,
          "metadata": {},
          "output_type": "execute_result"
        }
      ],
      "source": [
        "dfClean.head(5)"
      ]
    },
    {
      "cell_type": "markdown",
      "metadata": {
        "id": "UzUuN4HTSaFP"
      },
      "source": [
        "Setelah tipe dataset kita sesuai, langkah berikutnya adalah memisahkan antara fitur dan target, lalu simpan ke dalam variabel"
      ]
    },
    {
      "cell_type": "code",
      "execution_count": 58,
      "metadata": {
        "id": "n8nvc4HXSYnq"
      },
      "outputs": [],
      "source": [
        "X = dfClean.drop(\"target\", axis=1).values # menghapus kolom 'target'\n",
        "y = dfClean.iloc[:,-1] # mengambil kolom 'target'"
      ]
    },
    {
      "cell_type": "markdown",
      "metadata": {
        "id": "mctc7WkYScrl"
      },
      "source": [
        "Langkah selanjutnya adalah mengecek persebaran jumlah target"
      ]
    },
    {
      "cell_type": "code",
      "execution_count": 59,
      "metadata": {
        "colab": {
          "base_uri": "https://localhost:8080/",
          "height": 545
        },
        "id": "U34oGJuOSbjN",
        "outputId": "f3de1797-ebd3-4840-cf82-bf22c971e6dc"
      },
      "outputs": [
        {
          "data": {
            "image/png": "[encoded data removed]",
            "text/plain": [
              "<Figure size 1000x600 with 1 Axes>"
            ]
          },
          "metadata": {},
          "output_type": "display_data"
        }
      ],
      "source": [
        "# Membuat Plot Bar pada kolom Target\n",
        "dfClean['target'].value_counts().plot(kind='bar', figsize=(10,6), color=['green','blue'])\n",
        "plt.title(\"Count of the target\") # menambahkan judul\n",
        "plt.xticks(rotation=0); # mengatur rotasi label sumbu x menjadi 0 derajat"
      ]
    },
    {
      "cell_type": "markdown",
      "metadata": {
        "id": "qgNFsO4BSkOO"
      },
      "source": [
        "Dapat dilihat pada grafik di atas menunjukkan bahwa persebaran jumlah target adalah imbalance (tidak seimbang). Maka kita perlu menyeimbangkannya.\n",
        "\n",
        "Terdapat 2 cara yang dapat dilakukan, yaitu oversampling dan undersampling. Oversampling dilakukan jika jumlah dataset sedikit, sedangkan undersampling dilakukan jika jumlah data terlalu banyak.\n",
        "\n",
        "Untuk mengatasi dataset kita yang tidak seimbang, maka akan dilakukan teknik oversampling karena jumlah data tidak banyak. Salah satu metode oversampling yang akan digunakan adalah **SMOTe**"
      ]
    },
    {
      "cell_type": "code",
      "execution_count": 60,
      "metadata": {
        "id": "Kl52pgIRSd71"
      },
      "outputs": [],
      "source": [
        "# Mengimpor modul SMOTE\n",
        "from imblearn.over_sampling import SMOTE"
      ]
    },
    {
      "cell_type": "code",
      "execution_count": 61,
      "metadata": {
        "id": "u86Q-TdHSmfa"
      },
      "outputs": [],
      "source": [
        "# Oversampling\n",
        "smote = SMOTE(random_state=42)\n",
        "X_smote_resampled, y_smote_resampled = smote.fit_resample(X, y)"
      ]
    },
    {
      "cell_type": "markdown",
      "metadata": {
        "id": "-vU1og1oSowP"
      },
      "source": [
        "- **.fit_resample()** dilakukan oversampling pada dataset fitur X dan target y. Hal ini akan menghasilkan dataset yang telah di oversampling, di mana jumlah sampel dari kelas minoritas akan ditingkatkan untuk mencapai keseimbangan dengan kelas mayoritas.\n",
        "\n",
        "- **X_smote_resampled** untuk fitur dan **y_smote_resampled** untuk target dari dataset yang telah dioversampling"
      ]
    },
    {
      "cell_type": "code",
      "execution_count": 62,
      "metadata": {
        "colab": {
          "base_uri": "https://localhost:8080/",
          "height": 528
        },
        "id": "zzLDMoHXSnqW",
        "outputId": "25e6591b-2ed8-498f-a8c2-7b85278006f1"
      },
      "outputs": [
        {
          "data": {
            "image/png": "[encoded data removed]",
            "text/plain": [
              "<Figure size 1000x600 with 2 Axes>"
            ]
          },
          "metadata": {},
          "output_type": "display_data"
        }
      ],
      "source": [
        "# Membuat plot perbandingan jumlah kemunculan nilai target sebelum dan sesudah oversampling dengan SMOTe\n",
        "plt.figure(figsize=(12,4)) # Membentuk figure dengan ukuran gambar 12x4\n",
        "\n",
        "new_df1 = pd.DataFrame(data=y) # membentuk DataFrame yang berisi data target y\n",
        "\n",
        "plt.subplot(1, 2, 1) # Pembentukan subplot pertama dengan tata letak 1 baris dan 2 kolom, dan memilih subplot pertama sebagai subplot saat ini\n",
        "new_df1.value_counts().plot(kind='bar', figsize=(10,6), color=['green', 'blue', 'red', 'yellow'])\n",
        "plt.title(\"target before over sampling with SMOTE\") # judul untuk subplot pertama\n",
        "plt.xticks(rotation=0);\n",
        "\n",
        "plt.subplot(1, 2, 2) # pembentukan subplot kedua dengan tata letak 1 baris dan 2 kolom dan memilih subplot kedua sebagai subplot saat ini\n",
        "new_df2 = pd.DataFrame(data=y_smote_resampled) # berisi data target hasil oversampling dengan SMOTe\n",
        "\n",
        "new_df2.value_counts().plot(kind='bar', figsize=(10,6), color=['green', 'blue', 'red', 'yellow'])\n",
        "plt.title(\"target after over sampling with SMOTE\") # judul untuk subplot kedua\n",
        "plt.xticks(rotation=0);\n",
        "\n",
        "plt.tight_layout() # pengaturan tata letak plot agar lebih rapi\n",
        "plt.show() # Menampilkan plot yang telah dibuat"
      ]
    },
    {
      "cell_type": "markdown",
      "metadata": {
        "id": "wHtnBB_5Ssle"
      },
      "source": [
        "Dapat dilihat bahwa target yang sebelumnya belom seimbang, setelah dilakukan teknik SMOTE menjadi seimbang"
      ]
    },
    {
      "cell_type": "code",
      "execution_count": 63,
      "metadata": {
        "colab": {
          "base_uri": "https://localhost:8080/"
        },
        "id": "YVEiUAi0Sq3B",
        "outputId": "245ea3fb-e326-44bd-bfe3-453992db1f1b"
      },
      "outputs": [
        {
          "data": {
            "text/plain": [
              "target\n",
              "0.0       187\n",
              "1.0        37\n",
              "3.0        28\n",
              "2.0        26\n",
              "4.0        15\n",
              "Name: count, dtype: int64"
            ]
          },
          "execution_count": 63,
          "metadata": {},
          "output_type": "execute_result"
        }
      ],
      "source": [
        "# Jumlah data target sebelum dilakukan SMOTe\n",
        "new_df1 = pd.DataFrame(data=y)\n",
        "new_df1.value_counts()"
      ]
    },
    {
      "cell_type": "code",
      "execution_count": 64,
      "metadata": {
        "colab": {
          "base_uri": "https://localhost:8080/"
        },
        "id": "gO_I3hSFStiA",
        "outputId": "9e91c982-ae44-4a63-846e-dbde623f5b93"
      },
      "outputs": [
        {
          "data": {
            "text/plain": [
              "target\n",
              "0.0       187\n",
              "1.0       187\n",
              "2.0       187\n",
              "3.0       187\n",
              "4.0       187\n",
              "Name: count, dtype: int64"
            ]
          },
          "execution_count": 64,
          "metadata": {},
          "output_type": "execute_result"
        }
      ],
      "source": [
        "# over\n",
        "# Jumlah data target setelah dilakukan SMOTe\n",
        "new_df2 = pd.DataFrame(data=y_smote_resampled)\n",
        "new_df2.value_counts()"
      ]
    },
    {
      "cell_type": "markdown",
      "metadata": {
        "id": "dLcCUfUrSwM5"
      },
      "source": [
        "Setelah persebaran jumlah target seimbang, maka perlu dilakukan pengecekan apakah perlu dilakukan normalisasi/standarisasi pada dataset."
      ]
    },
    {
      "cell_type": "code",
      "execution_count": 65,
      "metadata": {
        "colab": {
          "base_uri": "https://localhost:8080/",
          "height": 320
        },
        "id": "pAAhQxVvSuyJ",
        "outputId": "c3260ebc-bf8c-436e-dcf5-132ca240fe5c"
      },
      "outputs": [
        {
          "data": {
            "text/html": [
              "<div>\n",
              "<style scoped>\n",
              "    .dataframe tbody tr th:only-of-type {\n",
              "        vertical-align: middle;\n",
              "    }\n",
              "\n",
              "    .dataframe tbody tr th {\n",
              "        vertical-align: top;\n",
              "    }\n",
              "\n",
              "    .dataframe thead th {\n",
              "        text-align: right;\n",
              "    }\n",
              "</style>\n",
              "<table border=\"1\" class=\"dataframe\">\n",
              "  <thead>\n",
              "    <tr style=\"text-align: right;\">\n",
              "      <th></th>\n",
              "      <th>age</th>\n",
              "      <th>sex</th>\n",
              "      <th>cp</th>\n",
              "      <th>trestbps</th>\n",
              "      <th>chol</th>\n",
              "      <th>fbs</th>\n",
              "      <th>restecg</th>\n",
              "      <th>thalach</th>\n",
              "      <th>exang</th>\n",
              "      <th>oldpeak</th>\n",
              "      <th>target</th>\n",
              "    </tr>\n",
              "  </thead>\n",
              "  <tbody>\n",
              "    <tr>\n",
              "      <th>count</th>\n",
              "      <td>293.000000</td>\n",
              "      <td>293.000000</td>\n",
              "      <td>293.000000</td>\n",
              "      <td>293.000000</td>\n",
              "      <td>293.000000</td>\n",
              "      <td>293.000000</td>\n",
              "      <td>293.000000</td>\n",
              "      <td>293.000000</td>\n",
              "      <td>293.000000</td>\n",
              "      <td>293.000000</td>\n",
              "      <td>293.000000</td>\n",
              "    </tr>\n",
              "    <tr>\n",
              "      <th>mean</th>\n",
              "      <td>47.822526</td>\n",
              "      <td>0.726962</td>\n",
              "      <td>2.986348</td>\n",
              "      <td>132.662116</td>\n",
              "      <td>250.860068</td>\n",
              "      <td>0.068259</td>\n",
              "      <td>0.218430</td>\n",
              "      <td>139.058020</td>\n",
              "      <td>0.303754</td>\n",
              "      <td>0.588055</td>\n",
              "      <td>0.795222</td>\n",
              "    </tr>\n",
              "    <tr>\n",
              "      <th>std</th>\n",
              "      <td>7.824875</td>\n",
              "      <td>0.446282</td>\n",
              "      <td>0.965049</td>\n",
              "      <td>17.576793</td>\n",
              "      <td>65.059069</td>\n",
              "      <td>0.252622</td>\n",
              "      <td>0.460868</td>\n",
              "      <td>23.558003</td>\n",
              "      <td>0.460665</td>\n",
              "      <td>0.909554</td>\n",
              "      <td>1.238251</td>\n",
              "    </tr>\n",
              "    <tr>\n",
              "      <th>min</th>\n",
              "      <td>28.000000</td>\n",
              "      <td>0.000000</td>\n",
              "      <td>1.000000</td>\n",
              "      <td>92.000000</td>\n",
              "      <td>85.000000</td>\n",
              "      <td>0.000000</td>\n",
              "      <td>0.000000</td>\n",
              "      <td>82.000000</td>\n",
              "      <td>0.000000</td>\n",
              "      <td>0.000000</td>\n",
              "      <td>0.000000</td>\n",
              "    </tr>\n",
              "    <tr>\n",
              "      <th>25%</th>\n",
              "      <td>42.000000</td>\n",
              "      <td>0.000000</td>\n",
              "      <td>2.000000</td>\n",
              "      <td>120.000000</td>\n",
              "      <td>211.000000</td>\n",
              "      <td>0.000000</td>\n",
              "      <td>0.000000</td>\n",
              "      <td>122.000000</td>\n",
              "      <td>0.000000</td>\n",
              "      <td>0.000000</td>\n",
              "      <td>0.000000</td>\n",
              "    </tr>\n",
              "    <tr>\n",
              "      <th>50%</th>\n",
              "      <td>49.000000</td>\n",
              "      <td>1.000000</td>\n",
              "      <td>3.000000</td>\n",
              "      <td>130.000000</td>\n",
              "      <td>248.000000</td>\n",
              "      <td>0.000000</td>\n",
              "      <td>0.000000</td>\n",
              "      <td>140.000000</td>\n",
              "      <td>0.000000</td>\n",
              "      <td>0.000000</td>\n",
              "      <td>0.000000</td>\n",
              "    </tr>\n",
              "    <tr>\n",
              "      <th>75%</th>\n",
              "      <td>54.000000</td>\n",
              "      <td>1.000000</td>\n",
              "      <td>4.000000</td>\n",
              "      <td>140.000000</td>\n",
              "      <td>277.000000</td>\n",
              "      <td>0.000000</td>\n",
              "      <td>0.000000</td>\n",
              "      <td>155.000000</td>\n",
              "      <td>1.000000</td>\n",
              "      <td>1.000000</td>\n",
              "      <td>1.000000</td>\n",
              "    </tr>\n",
              "    <tr>\n",
              "      <th>max</th>\n",
              "      <td>66.000000</td>\n",
              "      <td>1.000000</td>\n",
              "      <td>4.000000</td>\n",
              "      <td>200.000000</td>\n",
              "      <td>603.000000</td>\n",
              "      <td>1.000000</td>\n",
              "      <td>2.000000</td>\n",
              "      <td>190.000000</td>\n",
              "      <td>1.000000</td>\n",
              "      <td>5.000000</td>\n",
              "      <td>4.000000</td>\n",
              "    </tr>\n",
              "  </tbody>\n",
              "</table>\n",
              "</div>"
            ],
            "text/plain": [
              "              age         sex          cp    trestbps        chol         fbs  \\\n",
              "count  293.000000  293.000000  293.000000  293.000000  293.000000  293.000000   \n",
              "mean    47.822526    0.726962    2.986348  132.662116  250.860068    0.068259   \n",
              "std      7.824875    0.446282    0.965049   17.576793   65.059069    0.252622   \n",
              "min     28.000000    0.000000    1.000000   92.000000   85.000000    0.000000   \n",
              "25%     42.000000    0.000000    2.000000  120.000000  211.000000    0.000000   \n",
              "50%     49.000000    1.000000    3.000000  130.000000  248.000000    0.000000   \n",
              "75%     54.000000    1.000000    4.000000  140.000000  277.000000    0.000000   \n",
              "max     66.000000    1.000000    4.000000  200.000000  603.000000    1.000000   \n",
              "\n",
              "          restecg     thalach       exang     oldpeak      target  \n",
              "count  293.000000  293.000000  293.000000  293.000000  293.000000  \n",
              "mean     0.218430  139.058020    0.303754    0.588055    0.795222  \n",
              "std      0.460868   23.558003    0.460665    0.909554    1.238251  \n",
              "min      0.000000   82.000000    0.000000    0.000000    0.000000  \n",
              "25%      0.000000  122.000000    0.000000    0.000000    0.000000  \n",
              "50%      0.000000  140.000000    0.000000    0.000000    0.000000  \n",
              "75%      0.000000  155.000000    1.000000    1.000000    1.000000  \n",
              "max      2.000000  190.000000    1.000000    5.000000    4.000000  "
            ]
          },
          "execution_count": 65,
          "metadata": {},
          "output_type": "execute_result"
        }
      ],
      "source": [
        "dfClean.describe()"
      ]
    },
    {
      "cell_type": "markdown",
      "metadata": {
        "id": "SKwXzbT8SzGg"
      },
      "source": [
        "Pada deskripsi yang ditampilkan di atas, terlihat bahwa terdapat rentang nilai yang cukup jauh pada standar deviasi setiap fitur dataset yang dimiliki. Oleh karena itu, perlu dilakukan normalisasi/standarisasi agar memperkecil rentang antara standar deviasi setiap kolom"
      ]
    },
    {
      "cell_type": "code",
      "execution_count": 66,
      "metadata": {
        "id": "dNnr8vwFSx1X"
      },
      "outputs": [],
      "source": [
        "# Normalisasi data fitur menggunakan Min-Max Scaler\n",
        "from sklearn.preprocessing import MinMaxScaler\n",
        "\n",
        "scaler = MinMaxScaler()\n",
        "\n",
        "X_smote_resampled_normal = scaler.fit_transform(X_smote_resampled)"
      ]
    },
    {
      "cell_type": "markdown",
      "metadata": {
        "id": "ysx6Yt6QS2uM"
      },
      "source": [
        "MinMaxScaler adalah salah satu metode normalisasi yang digunakan untuk mengubah skala nilai fitur menjadi rentang yang ditentukan (umumnya 0 hingga 1)\n",
        "\n",
        "- **.fit_transform()** akan melakukan perhitungan dan transformasi pada dataset fitur untuk mengubahnya menjadi skala yang sesuai\n",
        "\n",
        "- **X_smote_resampled_normal** untuk menyimpan hasil"
      ]
    },
    {
      "cell_type": "code",
      "execution_count": 67,
      "metadata": {
        "colab": {
          "base_uri": "https://localhost:8080/"
        },
        "id": "HfVUC0uXS0h5",
        "outputId": "70546fab-f288-4f67-fb76-664b4459c736"
      },
      "outputs": [
        {
          "data": {
            "text/plain": [
              "935"
            ]
          },
          "execution_count": 67,
          "metadata": {},
          "output_type": "execute_result"
        }
      ],
      "source": [
        "# Menghitung jumlah sampel dalam Dataset Fitur setelah dinormalisasi dengan Min-Max Scaler\n",
        "len(X_smote_resampled_normal)"
      ]
    },
    {
      "cell_type": "markdown",
      "metadata": {
        "id": "2RKwna6mS5h0"
      },
      "source": [
        "- fungsi **len()** untuk menghitung panjang atau jumlah elemen dalam suatu objek, dalam hal ini jumlah sampel dalam dataset fitur yang telah dinormalisasi"
      ]
    },
    {
      "cell_type": "code",
      "execution_count": 68,
      "metadata": {
        "colab": {
          "base_uri": "https://localhost:8080/",
          "height": 320
        },
        "id": "U8YCMsekS4RV",
        "outputId": "b87dd4e9-bfae-4ae1-8b4b-9c222f597dae"
      },
      "outputs": [
        {
          "data": {
            "text/html": [
              "<div>\n",
              "<style scoped>\n",
              "    .dataframe tbody tr th:only-of-type {\n",
              "        vertical-align: middle;\n",
              "    }\n",
              "\n",
              "    .dataframe tbody tr th {\n",
              "        vertical-align: top;\n",
              "    }\n",
              "\n",
              "    .dataframe thead th {\n",
              "        text-align: right;\n",
              "    }\n",
              "</style>\n",
              "<table border=\"1\" class=\"dataframe\">\n",
              "  <thead>\n",
              "    <tr style=\"text-align: right;\">\n",
              "      <th></th>\n",
              "      <th>0</th>\n",
              "      <th>1</th>\n",
              "      <th>2</th>\n",
              "      <th>3</th>\n",
              "      <th>4</th>\n",
              "      <th>5</th>\n",
              "      <th>6</th>\n",
              "      <th>7</th>\n",
              "      <th>8</th>\n",
              "      <th>9</th>\n",
              "    </tr>\n",
              "  </thead>\n",
              "  <tbody>\n",
              "    <tr>\n",
              "      <th>count</th>\n",
              "      <td>935.000000</td>\n",
              "      <td>935.000000</td>\n",
              "      <td>935.000000</td>\n",
              "      <td>935.000000</td>\n",
              "      <td>935.000000</td>\n",
              "      <td>935.000000</td>\n",
              "      <td>935.000000</td>\n",
              "      <td>935.000000</td>\n",
              "      <td>935.000000</td>\n",
              "      <td>935.000000</td>\n",
              "    </tr>\n",
              "    <tr>\n",
              "      <th>mean</th>\n",
              "      <td>0.563739</td>\n",
              "      <td>0.842507</td>\n",
              "      <td>0.818224</td>\n",
              "      <td>0.403413</td>\n",
              "      <td>0.341027</td>\n",
              "      <td>0.094277</td>\n",
              "      <td>0.117938</td>\n",
              "      <td>0.453354</td>\n",
              "      <td>0.598398</td>\n",
              "      <td>0.227015</td>\n",
              "    </tr>\n",
              "    <tr>\n",
              "      <th>std</th>\n",
              "      <td>0.174873</td>\n",
              "      <td>0.332492</td>\n",
              "      <td>0.274211</td>\n",
              "      <td>0.147493</td>\n",
              "      <td>0.110990</td>\n",
              "      <td>0.252030</td>\n",
              "      <td>0.199527</td>\n",
              "      <td>0.197232</td>\n",
              "      <td>0.450288</td>\n",
              "      <td>0.201293</td>\n",
              "    </tr>\n",
              "    <tr>\n",
              "      <th>min</th>\n",
              "      <td>0.000000</td>\n",
              "      <td>0.000000</td>\n",
              "      <td>0.000000</td>\n",
              "      <td>0.000000</td>\n",
              "      <td>0.000000</td>\n",
              "      <td>0.000000</td>\n",
              "      <td>0.000000</td>\n",
              "      <td>0.000000</td>\n",
              "      <td>0.000000</td>\n",
              "      <td>0.000000</td>\n",
              "    </tr>\n",
              "    <tr>\n",
              "      <th>25%</th>\n",
              "      <td>0.473283</td>\n",
              "      <td>1.000000</td>\n",
              "      <td>0.666667</td>\n",
              "      <td>0.305556</td>\n",
              "      <td>0.267954</td>\n",
              "      <td>0.000000</td>\n",
              "      <td>0.000000</td>\n",
              "      <td>0.312720</td>\n",
              "      <td>0.000000</td>\n",
              "      <td>0.000000</td>\n",
              "    </tr>\n",
              "    <tr>\n",
              "      <th>50%</th>\n",
              "      <td>0.578947</td>\n",
              "      <td>1.000000</td>\n",
              "      <td>1.000000</td>\n",
              "      <td>0.387952</td>\n",
              "      <td>0.330240</td>\n",
              "      <td>0.000000</td>\n",
              "      <td>0.000000</td>\n",
              "      <td>0.440606</td>\n",
              "      <td>0.962447</td>\n",
              "      <td>0.200000</td>\n",
              "    </tr>\n",
              "    <tr>\n",
              "      <th>75%</th>\n",
              "      <td>0.683363</td>\n",
              "      <td>1.000000</td>\n",
              "      <td>1.000000</td>\n",
              "      <td>0.487481</td>\n",
              "      <td>0.393811</td>\n",
              "      <td>0.000000</td>\n",
              "      <td>0.201473</td>\n",
              "      <td>0.593629</td>\n",
              "      <td>1.000000</td>\n",
              "      <td>0.386166</td>\n",
              "    </tr>\n",
              "    <tr>\n",
              "      <th>max</th>\n",
              "      <td>1.000000</td>\n",
              "      <td>1.000000</td>\n",
              "      <td>1.000000</td>\n",
              "      <td>1.000000</td>\n",
              "      <td>1.000000</td>\n",
              "      <td>1.000000</td>\n",
              "      <td>1.000000</td>\n",
              "      <td>1.000000</td>\n",
              "      <td>1.000000</td>\n",
              "      <td>1.000000</td>\n",
              "    </tr>\n",
              "  </tbody>\n",
              "</table>\n",
              "</div>"
            ],
            "text/plain": [
              "                0           1           2           3           4           5  \\\n",
              "count  935.000000  935.000000  935.000000  935.000000  935.000000  935.000000   \n",
              "mean     0.563739    0.842507    0.818224    0.403413    0.341027    0.094277   \n",
              "std      0.174873    0.332492    0.274211    0.147493    0.110990    0.252030   \n",
              "min      0.000000    0.000000    0.000000    0.000000    0.000000    0.000000   \n",
              "25%      0.473283    1.000000    0.666667    0.305556    0.267954    0.000000   \n",
              "50%      0.578947    1.000000    1.000000    0.387952    0.330240    0.000000   \n",
              "75%      0.683363    1.000000    1.000000    0.487481    0.393811    0.000000   \n",
              "max      1.000000    1.000000    1.000000    1.000000    1.000000    1.000000   \n",
              "\n",
              "                6           7           8           9  \n",
              "count  935.000000  935.000000  935.000000  935.000000  \n",
              "mean     0.117938    0.453354    0.598398    0.227015  \n",
              "std      0.199527    0.197232    0.450288    0.201293  \n",
              "min      0.000000    0.000000    0.000000    0.000000  \n",
              "25%      0.000000    0.312720    0.000000    0.000000  \n",
              "50%      0.000000    0.440606    0.962447    0.200000  \n",
              "75%      0.201473    0.593629    1.000000    0.386166  \n",
              "max      1.000000    1.000000    1.000000    1.000000  "
            ]
          },
          "execution_count": 68,
          "metadata": {},
          "output_type": "execute_result"
        }
      ],
      "source": [
        "# Membuat DataFrame dari dataset fitur yang telah dinormalisasi dan menghasilkan statistik\n",
        "dfcek1 = pd.DataFrame(X_smote_resampled_normal)\n",
        "dfcek1.describe()"
      ]
    },
    {
      "cell_type": "markdown",
      "metadata": {
        "id": "P6C7cGp7S8CN"
      },
      "source": [
        "Setelah normalisasi pada fitur dilakukan, langkah selanjutnya adalah membagi fitur dan target menjadi data train dan test"
      ]
    },
    {
      "cell_type": "code",
      "execution_count": 69,
      "metadata": {
        "id": "QDZXY33mS6jJ"
      },
      "outputs": [],
      "source": [
        "from sklearn.model_selection import train_test_split"
      ]
    },
    {
      "cell_type": "markdown",
      "metadata": {
        "id": "SvkMi-F_S-Uf"
      },
      "source": [
        "- fungsi **train_test_split** untuk membagi dataset menjadi subset pelatihan (training set) dan subset pengujian (testing set) secara acak\n",
        "\n",
        "Hal ini berarti, training set untuk melatih model dan testing set untuk menguji kinerja model"
      ]
    },
    {
      "cell_type": "code",
      "execution_count": 70,
      "metadata": {
        "id": "bp6RVnBOS9AH"
      },
      "outputs": [],
      "source": [
        "# Membagi fitur dan target menjadi data train dan test (Untuk yang oversampling saja)\n",
        "X_train, X_test, y_train, y_test = train_test_split(X_smote_resampled, y_smote_resampled, test_size=0.2, random_state=42, stratify=y_smote_resampled)"
      ]
    },
    {
      "cell_type": "markdown",
      "metadata": {
        "id": "odw_BBWmTA3c"
      },
      "source": [
        "- **test_size=0.2** untuk mengatur proporsi subset pengujian menjadi 20% dari keseluruhan dataset oversampling\n",
        "\n",
        "- **random_state=42** untuk mengontrol pembagian dataset secara acak agar dapat direproduksi\n",
        "\n",
        "- **stratify=y_smote_resampled** untuk memastikan distribusi kelas pada subset pelatihan dan pengujian tetap seimbang"
      ]
    },
    {
      "cell_type": "code",
      "execution_count": 71,
      "metadata": {
        "id": "ZUxNcoglS_u_"
      },
      "outputs": [],
      "source": [
        "# Membagi fitur dan target menjadi data train dan test (untuk yang oversampling + normalization)\n",
        "X_train_normal, X_test_normal, y_train_normal, y_test_normal = train_test_split(X_smote_resampled, y_smote_resampled, test_size=0.2, random_state=42, stratify=y_smote_resampled)"
      ]
    },
    {
      "cell_type": "markdown",
      "metadata": {
        "id": "RG2ZorzbTDiv"
      },
      "source": [
        "# 7) Model\n",
        "\n",
        "Setelah melakukan langkah 1 - 6, langkah selanjutnya adalah membangun model."
      ]
    },
    {
      "cell_type": "code",
      "execution_count": 72,
      "metadata": {
        "id": "dABN2ESRTCIg"
      },
      "outputs": [],
      "source": [
        "# Fungsi yang akan dipanggil di setiap model\n",
        "\n",
        "# Mengimpor modul yang diperlukan dari library scikit-learn\n",
        "from sklearn.metrics import accuracy_score, recall_score, f1_score, precision_score, roc_auc_score, confusion_matrix, precision_score\n",
        "\n",
        "# Fungsi evaluation digunakan untuk melakukan evaluasi model dengan menggunakan beberapa metrik evaluasi yang umum digunakan\n",
        "def evaluation(Y_test, Y_pred):\n",
        "  acc = accuracy_score(Y_test, Y_pred)\n",
        "  rcl = recall_score(Y_test, Y_pred, average='weighted')\n",
        "  f1 = f1_score(Y_test, Y_pred, average='weighted')\n",
        "  ps = precision_score(Y_test, Y_pred, average='weighted')\n",
        "\n",
        "  metric_dict={'accuracy': round(acc, 3),\n",
        "               'recall': round(rcl, 3),\n",
        "               'F1 score': round(f1, 3),\n",
        "               'Precision score': round(ps, 3)\n",
        "               }\n",
        "\n",
        "  return print(metric_dict)"
      ]
    },
    {
      "cell_type": "markdown",
      "metadata": {
        "id": "eIrrREAVTIPs"
      },
      "source": [
        "- **Y_test** -> target aktual\n",
        "\n",
        "- **Y_pred** -> target yang diprediksi oleh model\n",
        "\n",
        "- Metrik evaluasi yang dihitung:\n",
        "1. **accuracy_score** -> Menghitung akurasi model\n",
        "2. **recall_score** -> Menghitung recall (sensitivitas) model dengan opsi **average='weighted'** untuk menghitung rata-rata berdasarkan jumlah sampel dalam setiap kelas\n",
        "3. **f1_score** -> Menghitung F1 score (harmonik rata-rata presisi dan recall)\n",
        "4. **precision_score** -> Menghitung presisi model.\n",
        "\n",
        "- **metric_dict** -> menyimpan hasil metrik evaluasi"
      ]
    },
    {
      "cell_type": "markdown",
      "metadata": {
        "id": "nlmdZHjRTKCL"
      },
      "source": [
        "Saya akan membangun model KNN, Random Forest, dan XGBoost menggunakan SMOTE"
      ]
    },
    {
      "cell_type": "markdown",
      "metadata": {
        "id": "_yY4mmvjTKwR"
      },
      "source": [
        "# KNN\n",
        "\n",
        "KNN akan dibangun dengan nilai neighbors yaitu 3."
      ]
    },
    {
      "cell_type": "code",
      "execution_count": 73,
      "metadata": {
        "id": "fowtm2maTGr5"
      },
      "outputs": [],
      "source": [
        "# Mengimport modul dari library scikit-learn dan XGBoost\n",
        "from sklearn.neighbors import KNeighborsClassifier #Implementasi dari algoritma KNN untuk klasifikasi\n",
        "from sklearn.ensemble import RandomForestClassifier #Implementasi dari algoritma RF untuk klasifikasi\n",
        "from xgboost import XGBClassifier  #Implementasi dari algoritma XGBoost untuk klasifikasi\n",
        "from sklearn.metrics import accuracy_score, classification_report #Untuk menghitung akurasi dan menghasilkan laporan klasifikasi"
      ]
    },
    {
      "cell_type": "code",
      "execution_count": 74,
      "metadata": {
        "colab": {
          "base_uri": "https://localhost:8080/",
          "height": 74
        },
        "id": "ziie16ETTRMQ",
        "outputId": "3a674f53-8a4a-466e-c310-a53dd26920e0"
      },
      "outputs": [
        {
          "data": {
            "text/html": [
              "<style>#sk-container-id-1 {color: black;}#sk-container-id-1 pre{padding: 0;}#sk-container-id-1 div.sk-toggleable {background-color: white;}#sk-container-id-1 label.sk-toggleable__label {cursor: pointer;display: block;width: 100%;margin-bottom: 0;padding: 0.3em;box-sizing: border-box;text-align: center;}#sk-container-id-1 label.sk-toggleable__label-arrow:before {content: \"▸\";float: left;margin-right: 0.25em;color: #696969;}#sk-container-id-1 label.sk-toggleable__label-arrow:hover:before {color: black;}#sk-container-id-1 div.sk-estimator:hover label.sk-toggleable__label-arrow:before {color: black;}#sk-container-id-1 div.sk-toggleable__content {max-height: 0;max-width: 0;overflow: hidden;text-align: left;background-color: #f0f8ff;}#sk-container-id-1 div.sk-toggleable__content pre {margin: 0.2em;color: black;border-radius: 0.25em;background-color: #f0f8ff;}#sk-container-id-1 input.sk-toggleable__control:checked~div.sk-toggleable__content {max-height: 200px;max-width: 100%;overflow: auto;}#sk-container-id-1 input.sk-toggleable__control:checked~label.sk-toggleable__label-arrow:before {content: \"▾\";}#sk-container-id-1 div.sk-estimator input.sk-toggleable__control:checked~label.sk-toggleable__label {background-color: #d4ebff;}#sk-container-id-1 div.sk-label input.sk-toggleable__control:checked~label.sk-toggleable__label {background-color: #d4ebff;}#sk-container-id-1 input.sk-hidden--visually {border: 0;clip: rect(1px 1px 1px 1px);clip: rect(1px, 1px, 1px, 1px);height: 1px;margin: -1px;overflow: hidden;padding: 0;position: absolute;width: 1px;}#sk-container-id-1 div.sk-estimator {font-family: monospace;background-color: #f0f8ff;border: 1px dotted black;border-radius: 0.25em;box-sizing: border-box;margin-bottom: 0.5em;}#sk-container-id-1 div.sk-estimator:hover {background-color: #d4ebff;}#sk-container-id-1 div.sk-parallel-item::after {content: \"\";width: 100%;border-bottom: 1px solid gray;flex-grow: 1;}#sk-container-id-1 div.sk-label:hover label.sk-toggleable__label {background-color: #d4ebff;}#sk-container-id-1 div.sk-serial::before {content: \"\";position: absolute;border-left: 1px solid gray;box-sizing: border-box;top: 0;bottom: 0;left: 50%;z-index: 0;}#sk-container-id-1 div.sk-serial {display: flex;flex-direction: column;align-items: center;background-color: white;padding-right: 0.2em;padding-left: 0.2em;position: relative;}#sk-container-id-1 div.sk-item {position: relative;z-index: 1;}#sk-container-id-1 div.sk-parallel {display: flex;align-items: stretch;justify-content: center;background-color: white;position: relative;}#sk-container-id-1 div.sk-item::before, #sk-container-id-1 div.sk-parallel-item::before {content: \"\";position: absolute;border-left: 1px solid gray;box-sizing: border-box;top: 0;bottom: 0;left: 50%;z-index: -1;}#sk-container-id-1 div.sk-parallel-item {display: flex;flex-direction: column;z-index: 1;position: relative;background-color: white;}#sk-container-id-1 div.sk-parallel-item:first-child::after {align-self: flex-end;width: 50%;}#sk-container-id-1 div.sk-parallel-item:last-child::after {align-self: flex-start;width: 50%;}#sk-container-id-1 div.sk-parallel-item:only-child::after {width: 0;}#sk-container-id-1 div.sk-dashed-wrapped {border: 1px dashed gray;margin: 0 0.4em 0.5em 0.4em;box-sizing: border-box;padding-bottom: 0.4em;background-color: white;}#sk-container-id-1 div.sk-label label {font-family: monospace;font-weight: bold;display: inline-block;line-height: 1.2em;}#sk-container-id-1 div.sk-label-container {text-align: center;}#sk-container-id-1 div.sk-container {/* jupyter's `normalize.less` sets `[hidden] { display: none; }` but bootstrap.min.css set `[hidden] { display: none !important; }` so we also need the `!important` here to be able to override the default hidden behavior on the sphinx rendered scikit-learn.org. See: https://github.com/scikit-learn/scikit-learn/issues/21755 */display: inline-block !important;position: relative;}#sk-container-id-1 div.sk-text-repr-fallback {display: none;}</style><div id=\"sk-container-id-1\" class=\"sk-top-container\"><div class=\"sk-text-repr-fallback\"><pre>KNeighborsClassifier(n_neighbors=3)</pre><b>In a Jupyter environment, please rerun this cell to show the HTML representation or trust the notebook. <br />On GitHub, the HTML representation is unable to render, please try loading this page with nbviewer.org.</b></div><div class=\"sk-container\" hidden><div class=\"sk-item\"><div class=\"sk-estimator sk-toggleable\"><input class=\"sk-toggleable__control sk-hidden--visually\" id=\"sk-estimator-id-1\" type=\"checkbox\" checked><label for=\"sk-estimator-id-1\" class=\"sk-toggleable__label sk-toggleable__label-arrow\">KNeighborsClassifier</label><div class=\"sk-toggleable__content\"><pre>KNeighborsClassifier(n_neighbors=3)</pre></div></div></div></div></div>"
            ],
            "text/plain": [
              "KNeighborsClassifier(n_neighbors=3)"
            ]
          },
          "execution_count": 74,
          "metadata": {},
          "output_type": "execute_result"
        }
      ],
      "source": [
        "# Membuat objek model KNN\n",
        "knn_model = KNeighborsClassifier(n_neighbors=3)\n",
        "knn_model.fit(X_train, y_train)"
      ]
    },
    {
      "cell_type": "markdown",
      "metadata": {
        "id": "K7cHQU0DTT4-"
      },
      "source": [
        "- **knn_model** -> objek model\n",
        "\n",
        "- **n_neighbors=3** -> untuk mengatur jumlah tetangga terdekat yang akan digunakan dalam proses klasifikasi\n",
        "\n",
        "- **metode fit()** dari objek model knn_model untuk melatih model menggunakan data latih (X_train) dan target latih (y_train)"
      ]
    },
    {
      "cell_type": "code",
      "execution_count": 75,
      "metadata": {
        "colab": {
          "base_uri": "https://localhost:8080/"
        },
        "id": "hYqteS-tTSZ5",
        "outputId": "cd3312d0-d6c7-4800-a2dc-e9f5c701b780"
      },
      "outputs": [
        {
          "name": "stdout",
          "output_type": "stream",
          "text": [
            "K-Nearest Neighbors (KNN) model:\n",
            "Accuracy: 0.754\n",
            "Classification Report:\n",
            "              precision    recall  f1-score   support\n",
            "\n",
            "         0.0       0.65      0.39      0.49        38\n",
            "         1.0       0.73      0.81      0.77        37\n",
            "         2.0       0.80      0.86      0.83        37\n",
            "         3.0       0.77      0.87      0.81        38\n",
            "         4.0       0.78      0.84      0.81        37\n",
            "\n",
            "    accuracy                           0.75       187\n",
            "   macro avg       0.75      0.76      0.74       187\n",
            "weighted avg       0.74      0.75      0.74       187\n",
            "\n"
          ]
        }
      ],
      "source": [
        "# Melakukan prediksi menggunakan KNN\n",
        "y_pred_knn=knn_model.predict(X_test)\n",
        "\n",
        "# Evaluate the KNN model\n",
        "print(\"K-Nearest Neighbors (KNN) model:\")\n",
        "accuracy_knn_smote=round(accuracy_score(y_test, y_pred_knn), 3)\n",
        "print(\"Accuracy:\", accuracy_knn_smote)\n",
        "print(\"Classification Report:\")\n",
        "print(classification_report(y_test, y_pred_knn))"
      ]
    },
    {
      "cell_type": "markdown",
      "metadata": {
        "id": "Od9EjY3wTXJw"
      },
      "source": [
        "- **metode predict()** -> untuk melakukan prediksi pada data uji (X_test). Hasil prediksi disimpan dalam variabel y_pred_knn\n",
        "\n",
        "- **accuracy_score()** -> Menghitung akurasi model KNN. Hasil akurasi dibulatkan menjadi 3 desimal dan disimpan dalam variabel accuracy_knn_smote.\n",
        "\n",
        "Dapat dilihat bahwa hasil akurasi saat prediksi menggunakan algoritma KNN adalah 0.754."
      ]
    },
    {
      "cell_type": "code",
      "execution_count": 76,
      "metadata": {
        "colab": {
          "base_uri": "https://localhost:8080/"
        },
        "id": "3Kc2EuWTTVTC",
        "outputId": "6d979233-dd29-46c7-e9ab-77b1b2b4d012"
      },
      "outputs": [
        {
          "name": "stdout",
          "output_type": "stream",
          "text": [
            "{'accuracy': 0.754, 'recall': 0.754, 'F1 score': 0.741, 'Precision score': 0.745}\n"
          ]
        }
      ],
      "source": [
        "# Memanggil fungsi evaluation\n",
        "evaluation(y_test, y_pred_knn)"
      ]
    },
    {
      "cell_type": "code",
      "execution_count": 77,
      "metadata": {
        "colab": {
          "base_uri": "https://localhost:8080/",
          "height": 564
        },
        "id": "MfdTUryaTY7P",
        "outputId": "0e219d2d-bca5-4bf2-ba70-d07dbc7df3d6"
      },
      "outputs": [
        {
          "data": {
            "image/png": "[encoded data removed]",
            "text/plain": [
              "<Figure size 800x600 with 2 Axes>"
            ]
          },
          "metadata": {},
          "output_type": "display_data"
        }
      ],
      "source": [
        "# Membuat confusion matrik model KNN\n",
        "cm=confusion_matrix(y_test, y_pred_knn)\n",
        "\n",
        "plt.figure(figsize=(8, 6))\n",
        "sns.heatmap(cm, annot=True, fmt=\"d\", cmap='Reds')\n",
        "plt.title('Confusion Matrix')\n",
        "plt.xlabel(\"True\")\n",
        "plt.ylabel('Predict')\n",
        "plt.show()"
      ]
    },
    {
      "cell_type": "markdown",
      "metadata": {
        "id": "56Pppob1Tbvr"
      },
      "source": [
        "# Random Forest\n",
        "\n",
        "Model kedua yang akan dibangun adalah Random Forest dengan nilai estimators yaitu 100. Hal ini berguna untuk mengatur jumlah pohon keputusan (Decision tree) yang akan dibangun."
      ]
    },
    {
      "cell_type": "code",
      "execution_count": 78,
      "metadata": {
        "colab": {
          "base_uri": "https://localhost:8080/",
          "height": 74
        },
        "id": "JhFm5Cu7TaDW",
        "outputId": "e78479e6-54a5-478b-c0f9-3c3a730a7366"
      },
      "outputs": [
        {
          "data": {
            "text/html": [
              "<style>#sk-container-id-2 {color: black;}#sk-container-id-2 pre{padding: 0;}#sk-container-id-2 div.sk-toggleable {background-color: white;}#sk-container-id-2 label.sk-toggleable__label {cursor: pointer;display: block;width: 100%;margin-bottom: 0;padding: 0.3em;box-sizing: border-box;text-align: center;}#sk-container-id-2 label.sk-toggleable__label-arrow:before {content: \"▸\";float: left;margin-right: 0.25em;color: #696969;}#sk-container-id-2 label.sk-toggleable__label-arrow:hover:before {color: black;}#sk-container-id-2 div.sk-estimator:hover label.sk-toggleable__label-arrow:before {color: black;}#sk-container-id-2 div.sk-toggleable__content {max-height: 0;max-width: 0;overflow: hidden;text-align: left;background-color: #f0f8ff;}#sk-container-id-2 div.sk-toggleable__content pre {margin: 0.2em;color: black;border-radius: 0.25em;background-color: #f0f8ff;}#sk-container-id-2 input.sk-toggleable__control:checked~div.sk-toggleable__content {max-height: 200px;max-width: 100%;overflow: auto;}#sk-container-id-2 input.sk-toggleable__control:checked~label.sk-toggleable__label-arrow:before {content: \"▾\";}#sk-container-id-2 div.sk-estimator input.sk-toggleable__control:checked~label.sk-toggleable__label {background-color: #d4ebff;}#sk-container-id-2 div.sk-label input.sk-toggleable__control:checked~label.sk-toggleable__label {background-color: #d4ebff;}#sk-container-id-2 input.sk-hidden--visually {border: 0;clip: rect(1px 1px 1px 1px);clip: rect(1px, 1px, 1px, 1px);height: 1px;margin: -1px;overflow: hidden;padding: 0;position: absolute;width: 1px;}#sk-container-id-2 div.sk-estimator {font-family: monospace;background-color: #f0f8ff;border: 1px dotted black;border-radius: 0.25em;box-sizing: border-box;margin-bottom: 0.5em;}#sk-container-id-2 div.sk-estimator:hover {background-color: #d4ebff;}#sk-container-id-2 div.sk-parallel-item::after {content: \"\";width: 100%;border-bottom: 1px solid gray;flex-grow: 1;}#sk-container-id-2 div.sk-label:hover label.sk-toggleable__label {background-color: #d4ebff;}#sk-container-id-2 div.sk-serial::before {content: \"\";position: absolute;border-left: 1px solid gray;box-sizing: border-box;top: 0;bottom: 0;left: 50%;z-index: 0;}#sk-container-id-2 div.sk-serial {display: flex;flex-direction: column;align-items: center;background-color: white;padding-right: 0.2em;padding-left: 0.2em;position: relative;}#sk-container-id-2 div.sk-item {position: relative;z-index: 1;}#sk-container-id-2 div.sk-parallel {display: flex;align-items: stretch;justify-content: center;background-color: white;position: relative;}#sk-container-id-2 div.sk-item::before, #sk-container-id-2 div.sk-parallel-item::before {content: \"\";position: absolute;border-left: 1px solid gray;box-sizing: border-box;top: 0;bottom: 0;left: 50%;z-index: -1;}#sk-container-id-2 div.sk-parallel-item {display: flex;flex-direction: column;z-index: 1;position: relative;background-color: white;}#sk-container-id-2 div.sk-parallel-item:first-child::after {align-self: flex-end;width: 50%;}#sk-container-id-2 div.sk-parallel-item:last-child::after {align-self: flex-start;width: 50%;}#sk-container-id-2 div.sk-parallel-item:only-child::after {width: 0;}#sk-container-id-2 div.sk-dashed-wrapped {border: 1px dashed gray;margin: 0 0.4em 0.5em 0.4em;box-sizing: border-box;padding-bottom: 0.4em;background-color: white;}#sk-container-id-2 div.sk-label label {font-family: monospace;font-weight: bold;display: inline-block;line-height: 1.2em;}#sk-container-id-2 div.sk-label-container {text-align: center;}#sk-container-id-2 div.sk-container {/* jupyter's `normalize.less` sets `[hidden] { display: none; }` but bootstrap.min.css set `[hidden] { display: none !important; }` so we also need the `!important` here to be able to override the default hidden behavior on the sphinx rendered scikit-learn.org. See: https://github.com/scikit-learn/scikit-learn/issues/21755 */display: inline-block !important;position: relative;}#sk-container-id-2 div.sk-text-repr-fallback {display: none;}</style><div id=\"sk-container-id-2\" class=\"sk-top-container\"><div class=\"sk-text-repr-fallback\"><pre>RandomForestClassifier(random_state=42)</pre><b>In a Jupyter environment, please rerun this cell to show the HTML representation or trust the notebook. <br />On GitHub, the HTML representation is unable to render, please try loading this page with nbviewer.org.</b></div><div class=\"sk-container\" hidden><div class=\"sk-item\"><div class=\"sk-estimator sk-toggleable\"><input class=\"sk-toggleable__control sk-hidden--visually\" id=\"sk-estimator-id-2\" type=\"checkbox\" checked><label for=\"sk-estimator-id-2\" class=\"sk-toggleable__label sk-toggleable__label-arrow\">RandomForestClassifier</label><div class=\"sk-toggleable__content\"><pre>RandomForestClassifier(random_state=42)</pre></div></div></div></div></div>"
            ],
            "text/plain": [
              "RandomForestClassifier(random_state=42)"
            ]
          },
          "execution_count": 78,
          "metadata": {},
          "output_type": "execute_result"
        }
      ],
      "source": [
        "rf_model = RandomForestClassifier(n_estimators=100, random_state=42)\n",
        "rf_model.fit(X_train, y_train)"
      ]
    },
    {
      "cell_type": "code",
      "execution_count": 79,
      "metadata": {
        "colab": {
          "base_uri": "https://localhost:8080/"
        },
        "id": "U8Tpl2IQThWF",
        "outputId": "93fd26a7-f9c1-42f6-b56a-f818fe086b47"
      },
      "outputs": [
        {
          "name": "stdout",
          "output_type": "stream",
          "text": [
            "\n",
            "Random Forest Model: \n",
            "Accuracy: 0.92\n",
            "Classification Report: \n",
            "              precision    recall  f1-score   support\n",
            "\n",
            "         0.0       0.94      0.89      0.92        38\n",
            "         1.0       0.85      0.92      0.88        37\n",
            "         2.0       0.89      0.89      0.89        37\n",
            "         3.0       0.95      0.97      0.96        38\n",
            "         4.0       0.97      0.92      0.94        37\n",
            "\n",
            "    accuracy                           0.92       187\n",
            "   macro avg       0.92      0.92      0.92       187\n",
            "weighted avg       0.92      0.92      0.92       187\n",
            "\n"
          ]
        }
      ],
      "source": [
        "# Melakukan prediksi dengan RF\n",
        "y_pred_rf = rf_model.predict(X_test)\n",
        "\n",
        "#Evaluasi Model Random Forest\n",
        "print(\"\\nRandom Forest Model: \")\n",
        "accuracy_rf_smote = round(accuracy_score(y_test, y_pred_rf), 3)\n",
        "print(\"Accuracy:\", accuracy_rf_smote)\n",
        "print(\"Classification Report: \")\n",
        "print(classification_report(y_test, y_pred_rf))"
      ]
    },
    {
      "cell_type": "code",
      "execution_count": 80,
      "metadata": {
        "colab": {
          "base_uri": "https://localhost:8080/"
        },
        "id": "oJBNmWqHTiiB",
        "outputId": "caca0654-5cb6-4d7d-d6a8-7e38e48394da"
      },
      "outputs": [
        {
          "name": "stdout",
          "output_type": "stream",
          "text": [
            "{'accuracy': 0.92, 'recall': 0.92, 'F1 score': 0.92, 'Precision score': 0.922}\n"
          ]
        }
      ],
      "source": [
        "evaluation(y_test, y_pred_rf)"
      ]
    },
    {
      "cell_type": "code",
      "execution_count": 81,
      "metadata": {
        "colab": {
          "base_uri": "https://localhost:8080/",
          "height": 564
        },
        "id": "Vx3luhXsTkVK",
        "outputId": "2e84cc7c-2a1b-4d93-8600-bd5afc8127d3"
      },
      "outputs": [
        {
          "data": {
            "image/png": "[encoded data removed]",
            "text/plain": [
              "<Figure size 800x600 with 2 Axes>"
            ]
          },
          "metadata": {},
          "output_type": "display_data"
        }
      ],
      "source": [
        "# Membuat Confusion Matrix Random Forest\n",
        "cm = confusion_matrix(y_test, y_pred_rf)\n",
        "\n",
        "plt.figure(figsize=(8, 6))\n",
        "sns.heatmap(cm, annot=True, fmt='d', cmap=\"Greens\")\n",
        "plt.title('Confusion Matrix')\n",
        "plt.xlabel('True')\n",
        "plt.ylabel('Predict')\n",
        "plt.show()"
      ]
    },
    {
      "cell_type": "markdown",
      "metadata": {
        "id": "1W81LXL-Tnjd"
      },
      "source": [
        "# XGBoost\n",
        "\n",
        "Selanjutnya adalah membangun model menggunakan XGBoost. XGBoost atau Extreme Gradient Boosting merupakan sebuah algoritma Machine Learning yang popular dan kuat yang digunakan untuk regresi dan klasifikasi. XGBoost adalah implementasi yang dioptimalkan dari algoritma Gradient Boosting yang menggunakan ensemble learning dengan menggunakan pohon keputusan (Decision Tree) sebagai model dasarnya.\n",
        "\n",
        "Akan digunakan learning rate yaitu 0.1 dan n_estimators = 100"
      ]
    },
    {
      "cell_type": "code",
      "execution_count": 82,
      "metadata": {
        "colab": {
          "base_uri": "https://localhost:8080/",
          "height": 248
        },
        "id": "0YE5YPfHTlqc",
        "outputId": "d5da21ce-08ae-42c3-cdf9-667c2642e13b"
      },
      "outputs": [
        {
          "data": {
            "text/html": [
              "<style>#sk-container-id-3 {color: black;}#sk-container-id-3 pre{padding: 0;}#sk-container-id-3 div.sk-toggleable {background-color: white;}#sk-container-id-3 label.sk-toggleable__label {cursor: pointer;display: block;width: 100%;margin-bottom: 0;padding: 0.3em;box-sizing: border-box;text-align: center;}#sk-container-id-3 label.sk-toggleable__label-arrow:before {content: \"▸\";float: left;margin-right: 0.25em;color: #696969;}#sk-container-id-3 label.sk-toggleable__label-arrow:hover:before {color: black;}#sk-container-id-3 div.sk-estimator:hover label.sk-toggleable__label-arrow:before {color: black;}#sk-container-id-3 div.sk-toggleable__content {max-height: 0;max-width: 0;overflow: hidden;text-align: left;background-color: #f0f8ff;}#sk-container-id-3 div.sk-toggleable__content pre {margin: 0.2em;color: black;border-radius: 0.25em;background-color: #f0f8ff;}#sk-container-id-3 input.sk-toggleable__control:checked~div.sk-toggleable__content {max-height: 200px;max-width: 100%;overflow: auto;}#sk-container-id-3 input.sk-toggleable__control:checked~label.sk-toggleable__label-arrow:before {content: \"▾\";}#sk-container-id-3 div.sk-estimator input.sk-toggleable__control:checked~label.sk-toggleable__label {background-color: #d4ebff;}#sk-container-id-3 div.sk-label input.sk-toggleable__control:checked~label.sk-toggleable__label {background-color: #d4ebff;}#sk-container-id-3 input.sk-hidden--visually {border: 0;clip: rect(1px 1px 1px 1px);clip: rect(1px, 1px, 1px, 1px);height: 1px;margin: -1px;overflow: hidden;padding: 0;position: absolute;width: 1px;}#sk-container-id-3 div.sk-estimator {font-family: monospace;background-color: #f0f8ff;border: 1px dotted black;border-radius: 0.25em;box-sizing: border-box;margin-bottom: 0.5em;}#sk-container-id-3 div.sk-estimator:hover {background-color: #d4ebff;}#sk-container-id-3 div.sk-parallel-item::after {content: \"\";width: 100%;border-bottom: 1px solid gray;flex-grow: 1;}#sk-container-id-3 div.sk-label:hover label.sk-toggleable__label {background-color: #d4ebff;}#sk-container-id-3 div.sk-serial::before {content: \"\";position: absolute;border-left: 1px solid gray;box-sizing: border-box;top: 0;bottom: 0;left: 50%;z-index: 0;}#sk-container-id-3 div.sk-serial {display: flex;flex-direction: column;align-items: center;background-color: white;padding-right: 0.2em;padding-left: 0.2em;position: relative;}#sk-container-id-3 div.sk-item {position: relative;z-index: 1;}#sk-container-id-3 div.sk-parallel {display: flex;align-items: stretch;justify-content: center;background-color: white;position: relative;}#sk-container-id-3 div.sk-item::before, #sk-container-id-3 div.sk-parallel-item::before {content: \"\";position: absolute;border-left: 1px solid gray;box-sizing: border-box;top: 0;bottom: 0;left: 50%;z-index: -1;}#sk-container-id-3 div.sk-parallel-item {display: flex;flex-direction: column;z-index: 1;position: relative;background-color: white;}#sk-container-id-3 div.sk-parallel-item:first-child::after {align-self: flex-end;width: 50%;}#sk-container-id-3 div.sk-parallel-item:last-child::after {align-self: flex-start;width: 50%;}#sk-container-id-3 div.sk-parallel-item:only-child::after {width: 0;}#sk-container-id-3 div.sk-dashed-wrapped {border: 1px dashed gray;margin: 0 0.4em 0.5em 0.4em;box-sizing: border-box;padding-bottom: 0.4em;background-color: white;}#sk-container-id-3 div.sk-label label {font-family: monospace;font-weight: bold;display: inline-block;line-height: 1.2em;}#sk-container-id-3 div.sk-label-container {text-align: center;}#sk-container-id-3 div.sk-container {/* jupyter's `normalize.less` sets `[hidden] { display: none; }` but bootstrap.min.css set `[hidden] { display: none !important; }` so we also need the `!important` here to be able to override the default hidden behavior on the sphinx rendered scikit-learn.org. See: https://github.com/scikit-learn/scikit-learn/issues/21755 */display: inline-block !important;position: relative;}#sk-container-id-3 div.sk-text-repr-fallback {display: none;}</style><div id=\"sk-container-id-3\" class=\"sk-top-container\"><div class=\"sk-text-repr-fallback\"><pre>XGBClassifier(base_score=None, booster=None, callbacks=None,\n",
              "              colsample_bylevel=None, colsample_bynode=None,\n",
              "              colsample_bytree=None, device=None, early_stopping_rounds=None,\n",
              "              enable_categorical=False, eval_metric=None, feature_types=None,\n",
              "              gamma=None, grow_policy=None, importance_type=None,\n",
              "              interaction_constraints=None, learning_rate=0.1, max_bin=None,\n",
              "              max_cat_threshold=None, max_cat_to_onehot=None,\n",
              "              max_delta_step=None, max_depth=None, max_leaves=None,\n",
              "              min_child_weight=None, missing=nan, monotone_constraints=None,\n",
              "              multi_strategy=None, n_estimators=100, n_jobs=None,\n",
              "              num_parallel_tree=None, objective=&#x27;multi:softprob&#x27;, ...)</pre><b>In a Jupyter environment, please rerun this cell to show the HTML representation or trust the notebook. <br />On GitHub, the HTML representation is unable to render, please try loading this page with nbviewer.org.</b></div><div class=\"sk-container\" hidden><div class=\"sk-item\"><div class=\"sk-estimator sk-toggleable\"><input class=\"sk-toggleable__control sk-hidden--visually\" id=\"sk-estimator-id-3\" type=\"checkbox\" checked><label for=\"sk-estimator-id-3\" class=\"sk-toggleable__label sk-toggleable__label-arrow\">XGBClassifier</label><div class=\"sk-toggleable__content\"><pre>XGBClassifier(base_score=None, booster=None, callbacks=None,\n",
              "              colsample_bylevel=None, colsample_bynode=None,\n",
              "              colsample_bytree=None, device=None, early_stopping_rounds=None,\n",
              "              enable_categorical=False, eval_metric=None, feature_types=None,\n",
              "              gamma=None, grow_policy=None, importance_type=None,\n",
              "              interaction_constraints=None, learning_rate=0.1, max_bin=None,\n",
              "              max_cat_threshold=None, max_cat_to_onehot=None,\n",
              "              max_delta_step=None, max_depth=None, max_leaves=None,\n",
              "              min_child_weight=None, missing=nan, monotone_constraints=None,\n",
              "              multi_strategy=None, n_estimators=100, n_jobs=None,\n",
              "              num_parallel_tree=None, objective=&#x27;multi:softprob&#x27;, ...)</pre></div></div></div></div></div>"
            ],
            "text/plain": [
              "XGBClassifier(base_score=None, booster=None, callbacks=None,\n",
              "              colsample_bylevel=None, colsample_bynode=None,\n",
              "              colsample_bytree=None, device=None, early_stopping_rounds=None,\n",
              "              enable_categorical=False, eval_metric=None, feature_types=None,\n",
              "              gamma=None, grow_policy=None, importance_type=None,\n",
              "              interaction_constraints=None, learning_rate=0.1, max_bin=None,\n",
              "              max_cat_threshold=None, max_cat_to_onehot=None,\n",
              "              max_delta_step=None, max_depth=None, max_leaves=None,\n",
              "              min_child_weight=None, missing=nan, monotone_constraints=None,\n",
              "              multi_strategy=None, n_estimators=100, n_jobs=None,\n",
              "              num_parallel_tree=None, objective='multi:softprob', ...)"
            ]
          },
          "execution_count": 82,
          "metadata": {},
          "output_type": "execute_result"
        }
      ],
      "source": [
        "xgb_model = XGBClassifier(learning_rate=0.1, n_estimators=100, random_state=42)\n",
        "xgb_model.fit(X_train, y_train)"
      ]
    },
    {
      "cell_type": "code",
      "execution_count": 83,
      "metadata": {
        "colab": {
          "base_uri": "https://localhost:8080/"
        },
        "id": "0DL4qNBNTqNv",
        "outputId": "06160602-7728-4e3f-d153-c03bc665fe55"
      },
      "outputs": [
        {
          "name": "stdout",
          "output_type": "stream",
          "text": [
            "\n",
            "XGBoost Model: \n",
            "Accuracy:  0.904\n",
            "Classification Report: \n",
            "              precision    recall  f1-score   support\n",
            "\n",
            "         0.0       0.92      0.89      0.91        38\n",
            "         1.0       0.94      0.84      0.89        37\n",
            "         2.0       0.85      0.89      0.87        37\n",
            "         3.0       0.88      0.97      0.93        38\n",
            "         4.0       0.94      0.92      0.93        37\n",
            "\n",
            "    accuracy                           0.90       187\n",
            "   macro avg       0.91      0.90      0.90       187\n",
            "weighted avg       0.91      0.90      0.90       187\n",
            "\n"
          ]
        }
      ],
      "source": [
        "# melakukan prediksi dengan XGBoost\n",
        "y_pred_xgb = xgb_model.predict(X_test)\n",
        "\n",
        "# Evaluasi Model XGBoost\n",
        "print(\"\\nXGBoost Model: \")\n",
        "accuracy_xgb_smote = round(accuracy_score(y_test, y_pred_xgb), 3)\n",
        "print(\"Accuracy: \", accuracy_xgb_smote)\n",
        "print(\"Classification Report: \")\n",
        "print(classification_report(y_test, y_pred_xgb))"
      ]
    },
    {
      "cell_type": "code",
      "execution_count": 84,
      "metadata": {
        "colab": {
          "base_uri": "https://localhost:8080/"
        },
        "id": "G7sVkfSGTrvM",
        "outputId": "87a58d3b-319a-42e6-973d-4cc135bc48ee"
      },
      "outputs": [
        {
          "name": "stdout",
          "output_type": "stream",
          "text": [
            "{'accuracy': 0.904, 'recall': 0.904, 'F1 score': 0.904, 'Precision score': 0.906}\n"
          ]
        }
      ],
      "source": [
        "evaluation(y_test, y_pred_xgb)"
      ]
    },
    {
      "cell_type": "code",
      "execution_count": 85,
      "metadata": {
        "colab": {
          "base_uri": "https://localhost:8080/",
          "height": 564
        },
        "id": "mM9kp9rITtaQ",
        "outputId": "44857e78-46d0-474a-93f8-5cb1786b6f1b"
      },
      "outputs": [
        {
          "data": {
            "image/png": "[encoded data removed]",
            "text/plain": [
              "<Figure size 800x600 with 2 Axes>"
            ]
          },
          "metadata": {},
          "output_type": "display_data"
        }
      ],
      "source": [
        "# membuat confusion matriks XGBoost\n",
        "cm = confusion_matrix(y_test, y_pred_xgb)\n",
        "\n",
        "plt.figure(figsize=(8, 6))\n",
        "sns.heatmap(cm, annot=True, fmt=\"d\", cmap=\"Oranges\")\n",
        "plt.title('Confusion Matrix')\n",
        "plt.xlabel(\"True\")\n",
        "plt.ylabel('Predict')\n",
        "plt.show()"
      ]
    },
    {
      "cell_type": "markdown",
      "metadata": {
        "id": "424Rm6J6TwXT"
      },
      "source": [
        "# Oversample + Normalisasi\n",
        "\n",
        "Setelah sebelumnya membangun model KNN, Random Forest, dan XGBoost dengan data yang sudah di oversample. Selanjutnya akan dibangun model KNN, Random Forest, dan XGBoost dengan data yang sudah dilakukan oversample dan normalisasi."
      ]
    },
    {
      "cell_type": "markdown",
      "metadata": {
        "id": "IiGqAbG-TzwL"
      },
      "source": [
        "# KNN"
      ]
    },
    {
      "cell_type": "code",
      "execution_count": 86,
      "metadata": {
        "id": "2ML04GslTuld"
      },
      "outputs": [],
      "source": [
        "from sklearn.neighbors import KNeighborsClassifier\n",
        "from sklearn.ensemble import RandomForestClassifier\n",
        "from xgboost import XGBClassifier\n",
        "from sklearn.metrics import accuracy_score, classification_report"
      ]
    },
    {
      "cell_type": "code",
      "execution_count": 87,
      "metadata": {
        "colab": {
          "base_uri": "https://localhost:8080/",
          "height": 74
        },
        "id": "QPRb_CJOT05M",
        "outputId": "1aec68d0-0f4b-4300-84ff-8b33cbf582cb"
      },
      "outputs": [
        {
          "data": {
            "text/html": [
              "<style>#sk-container-id-4 {color: black;}#sk-container-id-4 pre{padding: 0;}#sk-container-id-4 div.sk-toggleable {background-color: white;}#sk-container-id-4 label.sk-toggleable__label {cursor: pointer;display: block;width: 100%;margin-bottom: 0;padding: 0.3em;box-sizing: border-box;text-align: center;}#sk-container-id-4 label.sk-toggleable__label-arrow:before {content: \"▸\";float: left;margin-right: 0.25em;color: #696969;}#sk-container-id-4 label.sk-toggleable__label-arrow:hover:before {color: black;}#sk-container-id-4 div.sk-estimator:hover label.sk-toggleable__label-arrow:before {color: black;}#sk-container-id-4 div.sk-toggleable__content {max-height: 0;max-width: 0;overflow: hidden;text-align: left;background-color: #f0f8ff;}#sk-container-id-4 div.sk-toggleable__content pre {margin: 0.2em;color: black;border-radius: 0.25em;background-color: #f0f8ff;}#sk-container-id-4 input.sk-toggleable__control:checked~div.sk-toggleable__content {max-height: 200px;max-width: 100%;overflow: auto;}#sk-container-id-4 input.sk-toggleable__control:checked~label.sk-toggleable__label-arrow:before {content: \"▾\";}#sk-container-id-4 div.sk-estimator input.sk-toggleable__control:checked~label.sk-toggleable__label {background-color: #d4ebff;}#sk-container-id-4 div.sk-label input.sk-toggleable__control:checked~label.sk-toggleable__label {background-color: #d4ebff;}#sk-container-id-4 input.sk-hidden--visually {border: 0;clip: rect(1px 1px 1px 1px);clip: rect(1px, 1px, 1px, 1px);height: 1px;margin: -1px;overflow: hidden;padding: 0;position: absolute;width: 1px;}#sk-container-id-4 div.sk-estimator {font-family: monospace;background-color: #f0f8ff;border: 1px dotted black;border-radius: 0.25em;box-sizing: border-box;margin-bottom: 0.5em;}#sk-container-id-4 div.sk-estimator:hover {background-color: #d4ebff;}#sk-container-id-4 div.sk-parallel-item::after {content: \"\";width: 100%;border-bottom: 1px solid gray;flex-grow: 1;}#sk-container-id-4 div.sk-label:hover label.sk-toggleable__label {background-color: #d4ebff;}#sk-container-id-4 div.sk-serial::before {content: \"\";position: absolute;border-left: 1px solid gray;box-sizing: border-box;top: 0;bottom: 0;left: 50%;z-index: 0;}#sk-container-id-4 div.sk-serial {display: flex;flex-direction: column;align-items: center;background-color: white;padding-right: 0.2em;padding-left: 0.2em;position: relative;}#sk-container-id-4 div.sk-item {position: relative;z-index: 1;}#sk-container-id-4 div.sk-parallel {display: flex;align-items: stretch;justify-content: center;background-color: white;position: relative;}#sk-container-id-4 div.sk-item::before, #sk-container-id-4 div.sk-parallel-item::before {content: \"\";position: absolute;border-left: 1px solid gray;box-sizing: border-box;top: 0;bottom: 0;left: 50%;z-index: -1;}#sk-container-id-4 div.sk-parallel-item {display: flex;flex-direction: column;z-index: 1;position: relative;background-color: white;}#sk-container-id-4 div.sk-parallel-item:first-child::after {align-self: flex-end;width: 50%;}#sk-container-id-4 div.sk-parallel-item:last-child::after {align-self: flex-start;width: 50%;}#sk-container-id-4 div.sk-parallel-item:only-child::after {width: 0;}#sk-container-id-4 div.sk-dashed-wrapped {border: 1px dashed gray;margin: 0 0.4em 0.5em 0.4em;box-sizing: border-box;padding-bottom: 0.4em;background-color: white;}#sk-container-id-4 div.sk-label label {font-family: monospace;font-weight: bold;display: inline-block;line-height: 1.2em;}#sk-container-id-4 div.sk-label-container {text-align: center;}#sk-container-id-4 div.sk-container {/* jupyter's `normalize.less` sets `[hidden] { display: none; }` but bootstrap.min.css set `[hidden] { display: none !important; }` so we also need the `!important` here to be able to override the default hidden behavior on the sphinx rendered scikit-learn.org. See: https://github.com/scikit-learn/scikit-learn/issues/21755 */display: inline-block !important;position: relative;}#sk-container-id-4 div.sk-text-repr-fallback {display: none;}</style><div id=\"sk-container-id-4\" class=\"sk-top-container\"><div class=\"sk-text-repr-fallback\"><pre>KNeighborsClassifier(n_neighbors=3)</pre><b>In a Jupyter environment, please rerun this cell to show the HTML representation or trust the notebook. <br />On GitHub, the HTML representation is unable to render, please try loading this page with nbviewer.org.</b></div><div class=\"sk-container\" hidden><div class=\"sk-item\"><div class=\"sk-estimator sk-toggleable\"><input class=\"sk-toggleable__control sk-hidden--visually\" id=\"sk-estimator-id-4\" type=\"checkbox\" checked><label for=\"sk-estimator-id-4\" class=\"sk-toggleable__label sk-toggleable__label-arrow\">KNeighborsClassifier</label><div class=\"sk-toggleable__content\"><pre>KNeighborsClassifier(n_neighbors=3)</pre></div></div></div></div></div>"
            ],
            "text/plain": [
              "KNeighborsClassifier(n_neighbors=3)"
            ]
          },
          "execution_count": 87,
          "metadata": {},
          "output_type": "execute_result"
        }
      ],
      "source": [
        "knn_model = KNeighborsClassifier(n_neighbors=3)\n",
        "knn_model.fit(X_train_normal, y_train_normal)"
      ]
    },
    {
      "cell_type": "code",
      "execution_count": 88,
      "metadata": {
        "colab": {
          "base_uri": "https://localhost:8080/"
        },
        "id": "9RoJ-nlZT2Ab",
        "outputId": "14a5d655-1edf-45fa-a4c8-6712fa127008"
      },
      "outputs": [
        {
          "name": "stdout",
          "output_type": "stream",
          "text": [
            "K-Nearest Neighbors (KNN) Model: \n",
            "Accuracy:  0.754\n",
            "Classification Report: \n",
            "              precision    recall  f1-score   support\n",
            "\n",
            "         0.0       0.65      0.39      0.49        38\n",
            "         1.0       0.73      0.81      0.77        37\n",
            "         2.0       0.80      0.86      0.83        37\n",
            "         3.0       0.77      0.87      0.81        38\n",
            "         4.0       0.78      0.84      0.81        37\n",
            "\n",
            "    accuracy                           0.75       187\n",
            "   macro avg       0.75      0.76      0.74       187\n",
            "weighted avg       0.74      0.75      0.74       187\n",
            "\n"
          ]
        }
      ],
      "source": [
        "y_pred_knn_normal = knn_model.predict(X_test_normal)\n",
        "\n",
        "# Evaluasi Model KNN\n",
        "print(\"K-Nearest Neighbors (KNN) Model: \")\n",
        "accuracy_knn_smote_normal = round(accuracy_score(y_test_normal, y_pred_knn_normal), 3)\n",
        "print(\"Accuracy: \", accuracy_knn_smote_normal)\n",
        "print(\"Classification Report: \")\n",
        "print(classification_report(y_test_normal, y_pred_knn_normal))"
      ]
    },
    {
      "cell_type": "code",
      "execution_count": 89,
      "metadata": {
        "colab": {
          "base_uri": "https://localhost:8080/"
        },
        "id": "c2yatnRtT3bY",
        "outputId": "480b4e14-1969-4fb3-ddd4-e4a6ad9bfb22"
      },
      "outputs": [
        {
          "name": "stdout",
          "output_type": "stream",
          "text": [
            "{'accuracy': 0.754, 'recall': 0.754, 'F1 score': 0.741, 'Precision score': 0.745}\n"
          ]
        }
      ],
      "source": [
        "evaluation(y_test_normal, y_pred_knn_normal)"
      ]
    },
    {
      "cell_type": "code",
      "execution_count": 90,
      "metadata": {
        "colab": {
          "base_uri": "https://localhost:8080/",
          "height": 564
        },
        "id": "ZyyPQeavU3CV",
        "outputId": "5d26e92a-7772-48cd-f6f5-fca815c71137"
      },
      "outputs": [
        {
          "data": {
            "image/png": "[encoded data removed]",
            "text/plain": [
              "<Figure size 800x600 with 2 Axes>"
            ]
          },
          "metadata": {},
          "output_type": "display_data"
        }
      ],
      "source": [
        "cm = confusion_matrix(y_test_normal, y_pred_knn)\n",
        "\n",
        "plt.figure(figsize=(8, 6))\n",
        "sns.heatmap(cm, annot=True, fmt=\"d\", cmap=\"Blues\")\n",
        "plt.title('Confusion Matrix')\n",
        "plt.xlabel(\"True\")\n",
        "plt.ylabel('Predict')\n",
        "plt.show()"
      ]
    },
    {
      "cell_type": "markdown",
      "metadata": {
        "id": "f7W3PfFGVgep"
      },
      "source": [
        "# Random Forest"
      ]
    },
    {
      "cell_type": "code",
      "execution_count": 91,
      "metadata": {
        "colab": {
          "base_uri": "https://localhost:8080/",
          "height": 74
        },
        "id": "eVU_r2GvVejy",
        "outputId": "f3df3585-df92-4f40-83b9-b3f86136d8bf"
      },
      "outputs": [
        {
          "data": {
            "text/html": [
              "<style>#sk-container-id-5 {color: black;}#sk-container-id-5 pre{padding: 0;}#sk-container-id-5 div.sk-toggleable {background-color: white;}#sk-container-id-5 label.sk-toggleable__label {cursor: pointer;display: block;width: 100%;margin-bottom: 0;padding: 0.3em;box-sizing: border-box;text-align: center;}#sk-container-id-5 label.sk-toggleable__label-arrow:before {content: \"▸\";float: left;margin-right: 0.25em;color: #696969;}#sk-container-id-5 label.sk-toggleable__label-arrow:hover:before {color: black;}#sk-container-id-5 div.sk-estimator:hover label.sk-toggleable__label-arrow:before {color: black;}#sk-container-id-5 div.sk-toggleable__content {max-height: 0;max-width: 0;overflow: hidden;text-align: left;background-color: #f0f8ff;}#sk-container-id-5 div.sk-toggleable__content pre {margin: 0.2em;color: black;border-radius: 0.25em;background-color: #f0f8ff;}#sk-container-id-5 input.sk-toggleable__control:checked~div.sk-toggleable__content {max-height: 200px;max-width: 100%;overflow: auto;}#sk-container-id-5 input.sk-toggleable__control:checked~label.sk-toggleable__label-arrow:before {content: \"▾\";}#sk-container-id-5 div.sk-estimator input.sk-toggleable__control:checked~label.sk-toggleable__label {background-color: #d4ebff;}#sk-container-id-5 div.sk-label input.sk-toggleable__control:checked~label.sk-toggleable__label {background-color: #d4ebff;}#sk-container-id-5 input.sk-hidden--visually {border: 0;clip: rect(1px 1px 1px 1px);clip: rect(1px, 1px, 1px, 1px);height: 1px;margin: -1px;overflow: hidden;padding: 0;position: absolute;width: 1px;}#sk-container-id-5 div.sk-estimator {font-family: monospace;background-color: #f0f8ff;border: 1px dotted black;border-radius: 0.25em;box-sizing: border-box;margin-bottom: 0.5em;}#sk-container-id-5 div.sk-estimator:hover {background-color: #d4ebff;}#sk-container-id-5 div.sk-parallel-item::after {content: \"\";width: 100%;border-bottom: 1px solid gray;flex-grow: 1;}#sk-container-id-5 div.sk-label:hover label.sk-toggleable__label {background-color: #d4ebff;}#sk-container-id-5 div.sk-serial::before {content: \"\";position: absolute;border-left: 1px solid gray;box-sizing: border-box;top: 0;bottom: 0;left: 50%;z-index: 0;}#sk-container-id-5 div.sk-serial {display: flex;flex-direction: column;align-items: center;background-color: white;padding-right: 0.2em;padding-left: 0.2em;position: relative;}#sk-container-id-5 div.sk-item {position: relative;z-index: 1;}#sk-container-id-5 div.sk-parallel {display: flex;align-items: stretch;justify-content: center;background-color: white;position: relative;}#sk-container-id-5 div.sk-item::before, #sk-container-id-5 div.sk-parallel-item::before {content: \"\";position: absolute;border-left: 1px solid gray;box-sizing: border-box;top: 0;bottom: 0;left: 50%;z-index: -1;}#sk-container-id-5 div.sk-parallel-item {display: flex;flex-direction: column;z-index: 1;position: relative;background-color: white;}#sk-container-id-5 div.sk-parallel-item:first-child::after {align-self: flex-end;width: 50%;}#sk-container-id-5 div.sk-parallel-item:last-child::after {align-self: flex-start;width: 50%;}#sk-container-id-5 div.sk-parallel-item:only-child::after {width: 0;}#sk-container-id-5 div.sk-dashed-wrapped {border: 1px dashed gray;margin: 0 0.4em 0.5em 0.4em;box-sizing: border-box;padding-bottom: 0.4em;background-color: white;}#sk-container-id-5 div.sk-label label {font-family: monospace;font-weight: bold;display: inline-block;line-height: 1.2em;}#sk-container-id-5 div.sk-label-container {text-align: center;}#sk-container-id-5 div.sk-container {/* jupyter's `normalize.less` sets `[hidden] { display: none; }` but bootstrap.min.css set `[hidden] { display: none !important; }` so we also need the `!important` here to be able to override the default hidden behavior on the sphinx rendered scikit-learn.org. See: https://github.com/scikit-learn/scikit-learn/issues/21755 */display: inline-block !important;position: relative;}#sk-container-id-5 div.sk-text-repr-fallback {display: none;}</style><div id=\"sk-container-id-5\" class=\"sk-top-container\"><div class=\"sk-text-repr-fallback\"><pre>RandomForestClassifier(random_state=42)</pre><b>In a Jupyter environment, please rerun this cell to show the HTML representation or trust the notebook. <br />On GitHub, the HTML representation is unable to render, please try loading this page with nbviewer.org.</b></div><div class=\"sk-container\" hidden><div class=\"sk-item\"><div class=\"sk-estimator sk-toggleable\"><input class=\"sk-toggleable__control sk-hidden--visually\" id=\"sk-estimator-id-5\" type=\"checkbox\" checked><label for=\"sk-estimator-id-5\" class=\"sk-toggleable__label sk-toggleable__label-arrow\">RandomForestClassifier</label><div class=\"sk-toggleable__content\"><pre>RandomForestClassifier(random_state=42)</pre></div></div></div></div></div>"
            ],
            "text/plain": [
              "RandomForestClassifier(random_state=42)"
            ]
          },
          "execution_count": 91,
          "metadata": {},
          "output_type": "execute_result"
        }
      ],
      "source": [
        "rf_model = RandomForestClassifier(n_estimators=100, random_state=42)\n",
        "rf_model.fit(X_train_normal, y_train_normal)"
      ]
    },
    {
      "cell_type": "code",
      "execution_count": 92,
      "metadata": {
        "colab": {
          "base_uri": "https://localhost:8080/"
        },
        "id": "1mH4bbqeVh3t",
        "outputId": "f2fba2ba-23ad-4edb-cb47-9970a5f77f40"
      },
      "outputs": [
        {
          "name": "stdout",
          "output_type": "stream",
          "text": [
            "\n",
            "Random Forest Model: \n",
            "Accuracy:  0.92\n",
            "Classification Report: \n",
            "              precision    recall  f1-score   support\n",
            "\n",
            "         0.0       0.94      0.89      0.92        38\n",
            "         1.0       0.85      0.92      0.88        37\n",
            "         2.0       0.89      0.89      0.89        37\n",
            "         3.0       0.95      0.97      0.96        38\n",
            "         4.0       0.97      0.92      0.94        37\n",
            "\n",
            "    accuracy                           0.92       187\n",
            "   macro avg       0.92      0.92      0.92       187\n",
            "weighted avg       0.92      0.92      0.92       187\n",
            "\n"
          ]
        }
      ],
      "source": [
        "y_pred_rf = rf_model.predict(X_test_normal)\n",
        "\n",
        "#Evaluasi Model Random Forest\n",
        "print(\"\\nRandom Forest Model: \")\n",
        "accuracy_rf_smote_normal = round(accuracy_score(y_test_normal, y_pred_rf), 3)\n",
        "print(\"Accuracy: \", accuracy_rf_smote_normal)\n",
        "print(\"Classification Report: \")\n",
        "print(classification_report(y_test_normal, y_pred_rf))"
      ]
    },
    {
      "cell_type": "code",
      "execution_count": 93,
      "metadata": {
        "colab": {
          "base_uri": "https://localhost:8080/"
        },
        "id": "ASqNomRUVkek",
        "outputId": "614f6e3a-0102-4226-ce27-cdcfda6e3c62"
      },
      "outputs": [
        {
          "name": "stdout",
          "output_type": "stream",
          "text": [
            "{'accuracy': 0.92, 'recall': 0.92, 'F1 score': 0.92, 'Precision score': 0.922}\n"
          ]
        }
      ],
      "source": [
        "evaluation(y_test_normal, y_pred_rf)"
      ]
    },
    {
      "cell_type": "code",
      "execution_count": 94,
      "metadata": {
        "colab": {
          "base_uri": "https://localhost:8080/",
          "height": 564
        },
        "id": "2i2e-r8IVm7B",
        "outputId": "17e4b16b-0f6d-4b05-ab2a-fe77e8fc5421"
      },
      "outputs": [
        {
          "data": {
            "image/png": "[encoded data removed]",
            "text/plain": [
              "<Figure size 800x600 with 2 Axes>"
            ]
          },
          "metadata": {},
          "output_type": "display_data"
        }
      ],
      "source": [
        "cm = confusion_matrix(y_test_normal, y_pred_rf)\n",
        "\n",
        "plt.figure(figsize=(8, 6))\n",
        "sns.heatmap(cm, annot=True, fmt=\"d\", cmap=\"Blues\")\n",
        "plt.title('Confusion Matrix')\n",
        "plt.xlabel('True')\n",
        "plt.ylabel('Predict')\n",
        "plt.show()"
      ]
    },
    {
      "cell_type": "markdown",
      "metadata": {
        "id": "dfg_xb8tVp66"
      },
      "source": [
        "# XGBoost"
      ]
    },
    {
      "cell_type": "code",
      "execution_count": 95,
      "metadata": {
        "colab": {
          "base_uri": "https://localhost:8080/",
          "height": 248
        },
        "id": "CgA0eYYmVoWX",
        "outputId": "090821b2-6e50-423e-a5c2-1dcb1114c068"
      },
      "outputs": [
        {
          "data": {
            "text/html": [
              "<style>#sk-container-id-6 {color: black;}#sk-container-id-6 pre{padding: 0;}#sk-container-id-6 div.sk-toggleable {background-color: white;}#sk-container-id-6 label.sk-toggleable__label {cursor: pointer;display: block;width: 100%;margin-bottom: 0;padding: 0.3em;box-sizing: border-box;text-align: center;}#sk-container-id-6 label.sk-toggleable__label-arrow:before {content: \"▸\";float: left;margin-right: 0.25em;color: #696969;}#sk-container-id-6 label.sk-toggleable__label-arrow:hover:before {color: black;}#sk-container-id-6 div.sk-estimator:hover label.sk-toggleable__label-arrow:before {color: black;}#sk-container-id-6 div.sk-toggleable__content {max-height: 0;max-width: 0;overflow: hidden;text-align: left;background-color: #f0f8ff;}#sk-container-id-6 div.sk-toggleable__content pre {margin: 0.2em;color: black;border-radius: 0.25em;background-color: #f0f8ff;}#sk-container-id-6 input.sk-toggleable__control:checked~div.sk-toggleable__content {max-height: 200px;max-width: 100%;overflow: auto;}#sk-container-id-6 input.sk-toggleable__control:checked~label.sk-toggleable__label-arrow:before {content: \"▾\";}#sk-container-id-6 div.sk-estimator input.sk-toggleable__control:checked~label.sk-toggleable__label {background-color: #d4ebff;}#sk-container-id-6 div.sk-label input.sk-toggleable__control:checked~label.sk-toggleable__label {background-color: #d4ebff;}#sk-container-id-6 input.sk-hidden--visually {border: 0;clip: rect(1px 1px 1px 1px);clip: rect(1px, 1px, 1px, 1px);height: 1px;margin: -1px;overflow: hidden;padding: 0;position: absolute;width: 1px;}#sk-container-id-6 div.sk-estimator {font-family: monospace;background-color: #f0f8ff;border: 1px dotted black;border-radius: 0.25em;box-sizing: border-box;margin-bottom: 0.5em;}#sk-container-id-6 div.sk-estimator:hover {background-color: #d4ebff;}#sk-container-id-6 div.sk-parallel-item::after {content: \"\";width: 100%;border-bottom: 1px solid gray;flex-grow: 1;}#sk-container-id-6 div.sk-label:hover label.sk-toggleable__label {background-color: #d4ebff;}#sk-container-id-6 div.sk-serial::before {content: \"\";position: absolute;border-left: 1px solid gray;box-sizing: border-box;top: 0;bottom: 0;left: 50%;z-index: 0;}#sk-container-id-6 div.sk-serial {display: flex;flex-direction: column;align-items: center;background-color: white;padding-right: 0.2em;padding-left: 0.2em;position: relative;}#sk-container-id-6 div.sk-item {position: relative;z-index: 1;}#sk-container-id-6 div.sk-parallel {display: flex;align-items: stretch;justify-content: center;background-color: white;position: relative;}#sk-container-id-6 div.sk-item::before, #sk-container-id-6 div.sk-parallel-item::before {content: \"\";position: absolute;border-left: 1px solid gray;box-sizing: border-box;top: 0;bottom: 0;left: 50%;z-index: -1;}#sk-container-id-6 div.sk-parallel-item {display: flex;flex-direction: column;z-index: 1;position: relative;background-color: white;}#sk-container-id-6 div.sk-parallel-item:first-child::after {align-self: flex-end;width: 50%;}#sk-container-id-6 div.sk-parallel-item:last-child::after {align-self: flex-start;width: 50%;}#sk-container-id-6 div.sk-parallel-item:only-child::after {width: 0;}#sk-container-id-6 div.sk-dashed-wrapped {border: 1px dashed gray;margin: 0 0.4em 0.5em 0.4em;box-sizing: border-box;padding-bottom: 0.4em;background-color: white;}#sk-container-id-6 div.sk-label label {font-family: monospace;font-weight: bold;display: inline-block;line-height: 1.2em;}#sk-container-id-6 div.sk-label-container {text-align: center;}#sk-container-id-6 div.sk-container {/* jupyter's `normalize.less` sets `[hidden] { display: none; }` but bootstrap.min.css set `[hidden] { display: none !important; }` so we also need the `!important` here to be able to override the default hidden behavior on the sphinx rendered scikit-learn.org. See: https://github.com/scikit-learn/scikit-learn/issues/21755 */display: inline-block !important;position: relative;}#sk-container-id-6 div.sk-text-repr-fallback {display: none;}</style><div id=\"sk-container-id-6\" class=\"sk-top-container\"><div class=\"sk-text-repr-fallback\"><pre>XGBClassifier(base_score=None, booster=None, callbacks=None,\n",
              "              colsample_bylevel=None, colsample_bynode=None,\n",
              "              colsample_bytree=None, device=None, early_stopping_rounds=None,\n",
              "              enable_categorical=False, eval_metric=None, feature_types=None,\n",
              "              gamma=None, grow_policy=None, importance_type=None,\n",
              "              interaction_constraints=None, learning_rate=0.1, max_bin=None,\n",
              "              max_cat_threshold=None, max_cat_to_onehot=None,\n",
              "              max_delta_step=None, max_depth=None, max_leaves=None,\n",
              "              min_child_weight=None, missing=nan, monotone_constraints=None,\n",
              "              multi_strategy=None, n_estimators=100, n_jobs=None,\n",
              "              num_parallel_tree=None, objective=&#x27;multi:softprob&#x27;, ...)</pre><b>In a Jupyter environment, please rerun this cell to show the HTML representation or trust the notebook. <br />On GitHub, the HTML representation is unable to render, please try loading this page with nbviewer.org.</b></div><div class=\"sk-container\" hidden><div class=\"sk-item\"><div class=\"sk-estimator sk-toggleable\"><input class=\"sk-toggleable__control sk-hidden--visually\" id=\"sk-estimator-id-6\" type=\"checkbox\" checked><label for=\"sk-estimator-id-6\" class=\"sk-toggleable__label sk-toggleable__label-arrow\">XGBClassifier</label><div class=\"sk-toggleable__content\"><pre>XGBClassifier(base_score=None, booster=None, callbacks=None,\n",
              "              colsample_bylevel=None, colsample_bynode=None,\n",
              "              colsample_bytree=None, device=None, early_stopping_rounds=None,\n",
              "              enable_categorical=False, eval_metric=None, feature_types=None,\n",
              "              gamma=None, grow_policy=None, importance_type=None,\n",
              "              interaction_constraints=None, learning_rate=0.1, max_bin=None,\n",
              "              max_cat_threshold=None, max_cat_to_onehot=None,\n",
              "              max_delta_step=None, max_depth=None, max_leaves=None,\n",
              "              min_child_weight=None, missing=nan, monotone_constraints=None,\n",
              "              multi_strategy=None, n_estimators=100, n_jobs=None,\n",
              "              num_parallel_tree=None, objective=&#x27;multi:softprob&#x27;, ...)</pre></div></div></div></div></div>"
            ],
            "text/plain": [
              "XGBClassifier(base_score=None, booster=None, callbacks=None,\n",
              "              colsample_bylevel=None, colsample_bynode=None,\n",
              "              colsample_bytree=None, device=None, early_stopping_rounds=None,\n",
              "              enable_categorical=False, eval_metric=None, feature_types=None,\n",
              "              gamma=None, grow_policy=None, importance_type=None,\n",
              "              interaction_constraints=None, learning_rate=0.1, max_bin=None,\n",
              "              max_cat_threshold=None, max_cat_to_onehot=None,\n",
              "              max_delta_step=None, max_depth=None, max_leaves=None,\n",
              "              min_child_weight=None, missing=nan, monotone_constraints=None,\n",
              "              multi_strategy=None, n_estimators=100, n_jobs=None,\n",
              "              num_parallel_tree=None, objective='multi:softprob', ...)"
            ]
          },
          "execution_count": 95,
          "metadata": {},
          "output_type": "execute_result"
        }
      ],
      "source": [
        "xgb_model = XGBClassifier(learning_rate=0.1, n_estimators=100, random_state=42)\n",
        "xgb_model.fit(X_train_normal, y_train_normal)"
      ]
    },
    {
      "cell_type": "code",
      "execution_count": 96,
      "metadata": {
        "colab": {
          "base_uri": "https://localhost:8080/"
        },
        "id": "WOFzM2XqVq1V",
        "outputId": "5f2a10af-d5e3-4871-fc7e-a367e211b3ce"
      },
      "outputs": [
        {
          "name": "stdout",
          "output_type": "stream",
          "text": [
            "\n",
            "XGBoost Model: \n",
            "Accuracy:  0.904\n",
            "Classification Report: \n",
            "              precision    recall  f1-score   support\n",
            "\n",
            "         0.0       0.92      0.89      0.91        38\n",
            "         1.0       0.94      0.84      0.89        37\n",
            "         2.0       0.85      0.89      0.87        37\n",
            "         3.0       0.88      0.97      0.93        38\n",
            "         4.0       0.94      0.92      0.93        37\n",
            "\n",
            "    accuracy                           0.90       187\n",
            "   macro avg       0.91      0.90      0.90       187\n",
            "weighted avg       0.91      0.90      0.90       187\n",
            "\n"
          ]
        }
      ],
      "source": [
        "y_pred_xgb = xgb_model.predict(X_test_normal)\n",
        "\n",
        "#Evaluasi Model XGBoost\n",
        "print(\"\\nXGBoost Model: \")\n",
        "accuracy_xgb_smote_normal = round(accuracy_score(y_test_normal, y_pred_xgb),3)\n",
        "print(\"Accuracy: \", accuracy_xgb_smote_normal)\n",
        "print(\"Classification Report: \")\n",
        "print(classification_report(y_test_normal, y_pred_xgb))"
      ]
    },
    {
      "cell_type": "code",
      "execution_count": 97,
      "metadata": {
        "colab": {
          "base_uri": "https://localhost:8080/"
        },
        "id": "-11MwPacVsb7",
        "outputId": "fca18a93-ebf7-4934-98aa-c6bb589ff5a8"
      },
      "outputs": [
        {
          "name": "stdout",
          "output_type": "stream",
          "text": [
            "{'accuracy': 0.904, 'recall': 0.904, 'F1 score': 0.904, 'Precision score': 0.906}\n"
          ]
        }
      ],
      "source": [
        "evaluation(y_test_normal, y_pred_xgb)"
      ]
    },
    {
      "cell_type": "code",
      "execution_count": 98,
      "metadata": {
        "colab": {
          "base_uri": "https://localhost:8080/",
          "height": 564
        },
        "id": "gIKZS33TVuZ8",
        "outputId": "016bc8ad-a473-4dac-b8bd-140af9e4f856"
      },
      "outputs": [
        {
          "data": {
            "image/png": "[encoded data removed]",
            "text/plain": [
              "<Figure size 800x600 with 2 Axes>"
            ]
          },
          "metadata": {},
          "output_type": "display_data"
        }
      ],
      "source": [
        "cm = confusion_matrix(y_test_normal, y_pred_xgb)\n",
        "\n",
        "plt.figure(figsize=(8, 6))\n",
        "sns.heatmap(cm, annot=True, fmt=\"d\", cmap=\"Blues\")\n",
        "plt.title('Confusion Matrix')\n",
        "plt.xlabel(\"True\")\n",
        "plt.ylabel('Predict')\n",
        "plt.show()"
      ]
    },
    {
      "cell_type": "markdown",
      "metadata": {
        "id": "UPR00jl_VxN8"
      },
      "source": [
        "# Tunning + Normalization + Oversample\n",
        "\n",
        "Selanjutnya akan dibangun model KNN, Random Forest, dan XGBoost menggunakan data yang sudah di oversample, normalization, dan tunning.\n",
        "\n",
        "Tunning atau pengaturan ulang adalah proses mengoptimalkan parameter-parameter atau hiperparameter dalam sebuah model machine learning untuk mencapai kinerja yang lebih baik. Tujuan dari tuning yaitu untuk meningkatkan kualitas model dengan mengatur parameter-parameter yang mempengaruhi performa model."
      ]
    },
    {
      "cell_type": "markdown",
      "metadata": {
        "id": "X_hFPD17V2JN"
      },
      "source": [
        "# KNN"
      ]
    },
    {
      "cell_type": "code",
      "execution_count": 99,
      "metadata": {
        "id": "40Aq_vSEVvmq"
      },
      "outputs": [],
      "source": [
        "from sklearn.neighbors import KNeighborsClassifier\n",
        "from sklearn.ensemble import RandomForestClassifier\n",
        "from xgboost import XGBClassifier\n",
        "from sklearn.metrics import accuracy_score, classification_report\n",
        "from sklearn.model_selection import RandomizedSearchCV"
      ]
    },
    {
      "cell_type": "markdown",
      "metadata": {
        "id": "NKLWBfwrV5DQ"
      },
      "source": [
        "Untuk proses tuning pada KNN menggunakan **RandomizedSearchCV**"
      ]
    },
    {
      "cell_type": "code",
      "execution_count": 100,
      "metadata": {
        "colab": {
          "base_uri": "https://localhost:8080/"
        },
        "id": "2wQJP8eyV3Op",
        "outputId": "9f953024-8870-4007-8298-6ee20f6b8a54"
      },
      "outputs": [
        {
          "name": "stdout",
          "output_type": "stream",
          "text": [
            "Best parameters: {'weights': 'distance', 'n_neighbors': 4, 'metric': 'manhattan', 'leaf_size': 40, 'algorithm': 'auto'}\n"
          ]
        }
      ],
      "source": [
        "# Membuat objek model KNN\n",
        "knn_model = KNeighborsClassifier()\n",
        "\n",
        "# Menentukan ruang parameter\n",
        "param_grid={\n",
        "    \"n_neighbors\": range(3, 21),\n",
        "    \"metric\": [\"euclidean\", \"manhattan\", \"chebyshev\"],\n",
        "    \"weights\": [\"uniform\", \"distance\"],\n",
        "    \"algorithm\": [\"auto\", \"ball_tree\", \"kd_tree\"],\n",
        "    \"leaf_size\": range(10, 61),\n",
        "}\n",
        "\n",
        "# Membuat objek RandomizedSearchCV\n",
        "knn_model = RandomizedSearchCV(estimator = knn_model, param_distributions=param_grid, n_iter=100, scoring=\"accuracy\", cv=5)\n",
        "\n",
        "# Melakukan tuning\n",
        "knn_model.fit(X_train_normal, y_train_normal)\n",
        "\n",
        "# Mendapatkan parameter terbaik\n",
        "best_params = knn_model.best_params_\n",
        "print(f\"Best parameters: {best_params}\")"
      ]
    },
    {
      "cell_type": "markdown",
      "metadata": {
        "id": "x1gdKbMfW9x4"
      },
      "source": [
        "- **n_neighbors** -> jumlah tetangga\n",
        "- **metric** -> metrik jarak\n",
        "- **leaf_size** -> ukuran leaf dalam pohon\n",
        "- **n_iter** -> jumlah iterasi pencarian acak\n",
        "- **scoring** -> metrik evaluasi untuk memilih model terbaik\n",
        "- **cv** -> jumlah lipatan dalam validasi silang\n",
        "\n",
        "Dari hasil di atas ditemukan parameter terbaik, yaitu:\n",
        "1. Bobot -> distance\n",
        "2. Jumlah tetangga -> 4\n",
        "3. Metrik jarak -> manhattan\n",
        "4. Ukuran leaf -> 54\n",
        "5. algorithm -> auto"
      ]
    },
    {
      "cell_type": "code",
      "execution_count": 101,
      "metadata": {
        "colab": {
          "base_uri": "https://localhost:8080/"
        },
        "id": "TgjYxMd1V6eN",
        "outputId": "faf39d15-cc0e-4565-920e-b0d10d49e57a"
      },
      "outputs": [
        {
          "name": "stdout",
          "output_type": "stream",
          "text": [
            "K-Nearest Neighbors (KNN) Model: \n",
            "Accuracy:  0.797\n",
            "Classification Report: \n",
            "              precision    recall  f1-score   support\n",
            "\n",
            "         0.0       0.80      0.42      0.55        38\n",
            "         1.0       0.77      0.81      0.79        37\n",
            "         2.0       0.87      0.89      0.88        37\n",
            "         3.0       0.73      0.95      0.83        38\n",
            "         4.0       0.83      0.92      0.87        37\n",
            "\n",
            "    accuracy                           0.80       187\n",
            "   macro avg       0.80      0.80      0.78       187\n",
            "weighted avg       0.80      0.80      0.78       187\n",
            "\n"
          ]
        }
      ],
      "source": [
        "y_pred_knn = knn_model.predict(X_test_normal)\n",
        "\n",
        "#Evaluasi Model KNN\n",
        "print(\"K-Nearest Neighbors (KNN) Model: \")\n",
        "accuracy_knn_smote_normal_Tun = round(accuracy_score(y_test_normal, y_pred_knn),3)\n",
        "print(\"Accuracy: \", accuracy_knn_smote_normal_Tun)\n",
        "print(\"Classification Report: \")\n",
        "print(classification_report(y_test_normal, y_pred_knn))"
      ]
    },
    {
      "cell_type": "code",
      "execution_count": 102,
      "metadata": {
        "colab": {
          "base_uri": "https://localhost:8080/"
        },
        "id": "stdRzpvpXHDC",
        "outputId": "3c3bc665-f7dd-4882-8c3d-f42cf97a312d"
      },
      "outputs": [
        {
          "name": "stdout",
          "output_type": "stream",
          "text": [
            "{'accuracy': 0.797, 'recall': 0.797, 'F1 score': 0.783, 'Precision score': 0.8}\n"
          ]
        }
      ],
      "source": [
        "evaluation(y_test_normal, y_pred_knn)"
      ]
    },
    {
      "cell_type": "code",
      "execution_count": 103,
      "metadata": {
        "colab": {
          "base_uri": "https://localhost:8080/",
          "height": 564
        },
        "id": "CHJCvMiAXJdk",
        "outputId": "35611bcb-62c5-4293-bc99-581ad7b0da3f"
      },
      "outputs": [
        {
          "data": {
            "image/png": "[encoded data removed]",
            "text/plain": [
              "<Figure size 800x600 with 2 Axes>"
            ]
          },
          "metadata": {},
          "output_type": "display_data"
        }
      ],
      "source": [
        "cm=confusion_matrix(y_test_normal, y_pred_knn)\n",
        "\n",
        "plt.figure(figsize=(8, 6))\n",
        "sns.heatmap(cm, annot=True, fmt=\"d\", cmap=\"Reds\")\n",
        "plt.title('Confusion Matrix')\n",
        "plt.xlabel(\"True\")\n",
        "plt.ylabel('Predict')\n",
        "plt.show()"
      ]
    },
    {
      "cell_type": "markdown",
      "metadata": {
        "id": "GO-r6iLJXQzI"
      },
      "source": [
        "# Random Forest"
      ]
    },
    {
      "cell_type": "code",
      "execution_count": 104,
      "metadata": {
        "colab": {
          "base_uri": "https://localhost:8080/"
        },
        "id": "AJoi_aHRXKw2",
        "outputId": "1ca48bd8-763c-44ce-c143-632ad28fe67a"
      },
      "outputs": [
        {
          "name": "stderr",
          "output_type": "stream",
          "text": [
            "c:\\Users\\ardiawanfadilah\\AppData\\Local\\Programs\\Python\\Python311\\Lib\\site-packages\\sklearn\\model_selection\\_search.py:307: UserWarning: The total space of parameters 32 is smaller than n_iter=100. Running 32 iterations. For exhaustive searches, use GridSearchCV.\n",
            "  warnings.warn(\n"
          ]
        },
        {
          "name": "stdout",
          "output_type": "stream",
          "text": [
            "Best parameters: {'n_estimators': 100, 'min_samples_split': 2, 'min_samples_leaf': 1, 'max_features': 'sqrt', 'max_depth': 15}\n"
          ]
        }
      ],
      "source": [
        "# Membuat objek model Random Forest\n",
        "rf_model = RandomForestClassifier()\n",
        "\n",
        "# Menentukan ruang parameter\n",
        "param_grid = {\n",
        "    \"n_estimators\": [100, 200], # Jumlah estimators\n",
        "    \"max_depth\": [ 10, 15], # Kedalaman maksimum pohon\n",
        "    \"min_samples_leaf\": [1, 2], # Jumlah minimum sampel pada daun\n",
        "    \"min_samples_split\": [2, 5], # Jumlah minimum sampel untuk membagi simpul internal\n",
        "    \"max_features\": [\"sqrt\", \"log2\"], # jumlah fitur maksimum yang dipertimbangkan saat mencari pemisahan terbaik\n",
        "    # \"random_state\": [42, 100, 200]\n",
        "}\n",
        "\n",
        "# Membuat objek RandomizedSearchCV\n",
        "rf_model = RandomizedSearchCV(rf_model, param_grid, n_iter=100, cv=5, n_jobs=-1)\n",
        "\n",
        "# Melakukan tuning\n",
        "rf_model.fit(X_train_normal, y_train_normal)\n",
        "\n",
        "# Mendapatkan parameter terbaik\n",
        "best_params = rf_model.best_params_\n",
        "print(f\"Best parameters: {best_params}\")"
      ]
    },
    {
      "cell_type": "markdown",
      "metadata": {
        "id": "HNMhn-DmXehu"
      },
      "source": [
        "Dari hasil di atas didapatkan parameter terbaik, yaitu:\n",
        "1. n_estimators -> 100\n",
        "2. min_samples_split -> 2\n",
        "3. min_samples_leaf -> 1\n",
        "4. max_features -> sqrt\n",
        "5. max_depth -> 15"
      ]
    },
    {
      "cell_type": "code",
      "execution_count": 105,
      "metadata": {
        "colab": {
          "base_uri": "https://localhost:8080/"
        },
        "id": "G53ES1whXS3w",
        "outputId": "652d5f64-55c8-43cf-ecc5-79aec9cd8ee0"
      },
      "outputs": [
        {
          "name": "stdout",
          "output_type": "stream",
          "text": [
            "\n",
            "Random Forest Model:\n",
            "Accuracy: 0.893\n",
            "Classification Report:\n",
            "              precision    recall  f1-score   support\n",
            "\n",
            "         0.0       0.92      0.92      0.92        38\n",
            "         1.0       0.84      0.84      0.84        37\n",
            "         2.0       0.84      0.86      0.85        37\n",
            "         3.0       0.92      0.95      0.94        38\n",
            "         4.0       0.94      0.89      0.92        37\n",
            "\n",
            "    accuracy                           0.89       187\n",
            "   macro avg       0.89      0.89      0.89       187\n",
            "weighted avg       0.89      0.89      0.89       187\n",
            "\n"
          ]
        }
      ],
      "source": [
        "y_pred_rf = rf_model.predict(X_test_normal)\n",
        "\n",
        "# Evaluate the Random Forest model\n",
        "print(\"\\nRandom Forest Model:\")\n",
        "accuracy_rf_smote_normal_Tun = round(accuracy_score(y_test_normal, y_pred_rf),3)\n",
        "print(\"Accuracy:\",accuracy_rf_smote_normal_Tun)\n",
        "print(\"Classification Report:\")\n",
        "print(classification_report(y_test_normal, y_pred_rf))"
      ]
    },
    {
      "cell_type": "code",
      "execution_count": 106,
      "metadata": {
        "colab": {
          "base_uri": "https://localhost:8080/"
        },
        "id": "fm_9mg0cXiQq",
        "outputId": "6ca1c758-28d5-4714-a00c-9a3f5ac4e37a"
      },
      "outputs": [
        {
          "name": "stdout",
          "output_type": "stream",
          "text": [
            "{'accuracy': 0.893, 'recall': 0.893, 'F1 score': 0.893, 'Precision score': 0.894}\n"
          ]
        }
      ],
      "source": [
        "evaluation(y_test_normal,y_pred_rf)"
      ]
    },
    {
      "cell_type": "code",
      "execution_count": 107,
      "metadata": {
        "colab": {
          "base_uri": "https://localhost:8080/",
          "height": 564
        },
        "id": "tKufk2qlXkpI",
        "outputId": "9574b150-7368-4164-8340-d1d5a51af992"
      },
      "outputs": [
        {
          "data": {
            "image/png": "[encoded data removed]",
            "text/plain": [
              "<Figure size 800x600 with 2 Axes>"
            ]
          },
          "metadata": {},
          "output_type": "display_data"
        }
      ],
      "source": [
        "cm = confusion_matrix(y_test_normal, y_pred_knn)\n",
        "\n",
        "plt.figure(figsize=(8, 6))\n",
        "sns.heatmap(cm, annot=True, fmt=\"d\", cmap=\"Blues\")\n",
        "plt.title('Confusion Matrix')\n",
        "plt.xlabel('True')\n",
        "plt.ylabel('Predict')\n",
        "plt.show()"
      ]
    },
    {
      "cell_type": "markdown",
      "metadata": {
        "id": "4h1VarX5XoVH"
      },
      "source": [
        "# XGBoost"
      ]
    },
    {
      "cell_type": "code",
      "execution_count": 108,
      "metadata": {
        "colab": {
          "base_uri": "https://localhost:8080/"
        },
        "id": "e_jp4JwrXmpW",
        "outputId": "7b136e0e-5f8d-4a55-cb15-62272ac2b254"
      },
      "outputs": [
        {
          "name": "stdout",
          "output_type": "stream",
          "text": [
            "Best parameters: {'n_estimators': 100, 'max_depth': 7, 'learning_rate': 0.1, 'gamma': 0, 'colsample_bytree': 0.7}\n"
          ]
        }
      ],
      "source": [
        "# Membuat objek model XGBoost\n",
        "xgb_model = XGBClassifier()\n",
        "\n",
        "# Menentukan ruang parameter\n",
        "param_grid = {\n",
        "    \"max_depth\": [3, 5, 7],\n",
        "    \"learning_rate\": [0.01, 0.1], # tingkat pembelajaran\n",
        "    \"n_estimators\": [100, 200],\n",
        "    \"gamma\": [0, 0.1], # faktor pengurangan pemisahan simpul\n",
        "    \"colsample_bytree\": [0.7, 0.8], # fraksi fitur yang dipertimbangkan pemisahan sampul\n",
        "}\n",
        "\n",
        "# Membuat objek RandomizedSearchCV\n",
        "xgb_model = RandomizedSearchCV(xgb_model, param_grid, n_iter=10, cv=5, n_jobs=-1)\n",
        "\n",
        "#Melakukan Tuning\n",
        "xgb_model.fit(X_train_normal, y_train_normal)\n",
        "\n",
        "# Mendapatkan parameter terbaik\n",
        "best_params = xgb_model.best_params_\n",
        "print(f\"Best parameters: {best_params}\")"
      ]
    },
    {
      "cell_type": "markdown",
      "metadata": {
        "id": "fkakvH7jX8O1"
      },
      "source": [
        "Dari hasil diatas didapatkan parameter terbaik, yaitu:\n",
        "1. n_estimators -> 200\n",
        "2. max_depth -> 5\n",
        "3. learning_rate -> 0.1\n",
        "4. gamma -> 0.1\n",
        "5. colsample_bytree -> 0.7"
      ]
    },
    {
      "cell_type": "code",
      "execution_count": 109,
      "metadata": {
        "colab": {
          "base_uri": "https://localhost:8080/"
        },
        "id": "2Qwy5d-eXpZd",
        "outputId": "22d1b01c-dc41-4a8c-c6a6-1d870bc14896"
      },
      "outputs": [
        {
          "name": "stdout",
          "output_type": "stream",
          "text": [
            "\n",
            "XGBoost Model:\n",
            "Accuracy: 0.92\n",
            "Classification Report:\n",
            "              precision    recall  f1-score   support\n",
            "\n",
            "         0.0       0.90      0.95      0.92        38\n",
            "         1.0       0.89      0.84      0.86        37\n",
            "         2.0       0.89      0.86      0.88        37\n",
            "         3.0       0.95      1.00      0.97        38\n",
            "         4.0       0.97      0.95      0.96        37\n",
            "\n",
            "    accuracy                           0.92       187\n",
            "   macro avg       0.92      0.92      0.92       187\n",
            "weighted avg       0.92      0.92      0.92       187\n",
            "\n"
          ]
        }
      ],
      "source": [
        "y_pred_xgb = xgb_model.predict(X_test_normal)\n",
        "\n",
        "# Evaluate the XGBoost model\n",
        "print(\"\\nXGBoost Model:\")\n",
        "accuracy_xgb_smote_normal_Tun = round(accuracy_score(y_test_normal, y_pred_xgb),3)\n",
        "print(\"Accuracy:\",accuracy_xgb_smote_normal_Tun)\n",
        "print(\"Classification Report:\")\n",
        "print(classification_report(y_test_normal, y_pred_xgb))"
      ]
    },
    {
      "cell_type": "code",
      "execution_count": 110,
      "metadata": {
        "colab": {
          "base_uri": "https://localhost:8080/"
        },
        "id": "Gy76w2CeYAME",
        "outputId": "dc5248a8-e9ba-4f69-e94c-c344824e5b92"
      },
      "outputs": [
        {
          "name": "stdout",
          "output_type": "stream",
          "text": [
            "{'accuracy': 0.92, 'recall': 0.92, 'F1 score': 0.919, 'Precision score': 0.919}\n"
          ]
        }
      ],
      "source": [
        "evaluation(y_test_normal,y_pred_xgb)"
      ]
    },
    {
      "cell_type": "code",
      "execution_count": 111,
      "metadata": {
        "colab": {
          "base_uri": "https://localhost:8080/",
          "height": 564
        },
        "id": "ZuuP4ggaYCht",
        "outputId": "013b98f3-3928-4971-feda-c526aac3b175"
      },
      "outputs": [
        {
          "data": {
            "image/png": "[encoded data removed]",
            "text/plain": [
              "<Figure size 800x600 with 2 Axes>"
            ]
          },
          "metadata": {},
          "output_type": "display_data"
        }
      ],
      "source": [
        "cm = confusion_matrix(y_test_normal, y_pred_xgb)\n",
        "\n",
        "plt.figure(figsize=(8, 6))\n",
        "sns.heatmap(cm, annot=True, fmt=\"d\", cmap=\"Blues\")\n",
        "plt.title('Confusion Matrix')\n",
        "plt.xlabel('True')\n",
        "plt.ylabel('Predict')\n",
        "plt.show()"
      ]
    },
    {
      "cell_type": "markdown",
      "metadata": {
        "id": "9xjszQ_6YG6R"
      },
      "source": [
        "# 8) Evaluasi\n",
        "\n",
        "Setelah tahap membangun model, langkah selanjutnya adalah evaluasi. Dimana pada langkah ini akan dilakukan evaluasi data sekaligus membandingkan antar algoritma dengan tujuan mengetahui jenis model algoritma yang menghasilkan hasil akurasi terbaik"
      ]
    },
    {
      "cell_type": "code",
      "execution_count": 112,
      "metadata": {
        "id": "FaE-QKSxYD9J"
      },
      "outputs": [],
      "source": [
        "import matplotlib.pyplot as plt"
      ]
    },
    {
      "cell_type": "markdown",
      "metadata": {
        "id": "F78ixUI5YKwB"
      },
      "source": [
        "Menampilkan hasil evaluasi dari data yang dilakukan SMOTE"
      ]
    },
    {
      "cell_type": "code",
      "execution_count": 113,
      "metadata": {
        "colab": {
          "base_uri": "https://localhost:8080/",
          "height": 143
        },
        "id": "P_1yV2xLYJX9",
        "outputId": "62a5d223-bf2d-4ac0-8d6e-95120db2eee6"
      },
      "outputs": [
        {
          "data": {
            "text/html": [
              "<div>\n",
              "<style scoped>\n",
              "    .dataframe tbody tr th:only-of-type {\n",
              "        vertical-align: middle;\n",
              "    }\n",
              "\n",
              "    .dataframe tbody tr th {\n",
              "        vertical-align: top;\n",
              "    }\n",
              "\n",
              "    .dataframe thead th {\n",
              "        text-align: right;\n",
              "    }\n",
              "</style>\n",
              "<table border=\"1\" class=\"dataframe\">\n",
              "  <thead>\n",
              "    <tr style=\"text-align: right;\">\n",
              "      <th></th>\n",
              "      <th>Model</th>\n",
              "      <th>Accuracy</th>\n",
              "    </tr>\n",
              "  </thead>\n",
              "  <tbody>\n",
              "    <tr>\n",
              "      <th>0</th>\n",
              "      <td>K-Nearest Neighbour</td>\n",
              "      <td>75.4</td>\n",
              "    </tr>\n",
              "    <tr>\n",
              "      <th>1</th>\n",
              "      <td>Random Forest</td>\n",
              "      <td>92.0</td>\n",
              "    </tr>\n",
              "    <tr>\n",
              "      <th>2</th>\n",
              "      <td>XGBoost</td>\n",
              "      <td>90.4</td>\n",
              "    </tr>\n",
              "  </tbody>\n",
              "</table>\n",
              "</div>"
            ],
            "text/plain": [
              "                 Model  Accuracy\n",
              "0  K-Nearest Neighbour      75.4\n",
              "1        Random Forest      92.0\n",
              "2              XGBoost      90.4"
            ]
          },
          "execution_count": 113,
          "metadata": {},
          "output_type": "execute_result"
        }
      ],
      "source": [
        "# Membuat DataFrame\n",
        "model_compl = pd.DataFrame({'Model': ['K-Nearest Neighbour', 'Random Forest', 'XGBoost'], 'Accuracy':[accuracy_knn_smote*100, accuracy_rf_smote*100, accuracy_xgb_smote*100]})\n",
        "model_compl.head()"
      ]
    },
    {
      "cell_type": "code",
      "execution_count": 114,
      "metadata": {
        "colab": {
          "base_uri": "https://localhost:8080/",
          "height": 569
        },
        "id": "baSuip8uYL7h",
        "outputId": "92254ce7-5905-4db8-e1d7-7a782782553e"
      },
      "outputs": [
        {
          "data": {
            "image/png": "[encoded data removed]",
            "text/plain": [
              "<Figure size 640x480 with 1 Axes>"
            ]
          },
          "metadata": {},
          "output_type": "display_data"
        }
      ],
      "source": [
        "# Membuat bar plot dengan keterangan jumlah\n",
        "fig, ax = plt.subplots()\n",
        "bars = plt.bar(model_compl['Model'], model_compl['Accuracy'], color=['red', 'green', 'blue'])\n",
        "plt.xlabel('Model')\n",
        "plt.ylabel('Accuracy (%)')\n",
        "plt.title('Oversample')\n",
        "plt.xticks(rotation=45, ha='right') # Untuk memutar label sumbu x agar lebih mudah dibaca\n",
        "\n",
        "#Menambahkan keterangan jumlah di atas setiap bar\n",
        "for bar in bars:\n",
        "  yval = bar.get_height()\n",
        "  plt.text(bar.get_x()+bar.get_width()/2, yval, round(yval,2), ha='center', va='bottom')\n",
        "\n",
        "plt.show()"
      ]
    },
    {
      "cell_type": "markdown",
      "metadata": {
        "id": "sNIE3Hh4YPw9"
      },
      "source": [
        "Dari bar plot di atas, dapat dilihat bahwa **algoritma Random Forest dengan menggunakan SMOTE** mendapatkan hasil akurasi terbaik, yaitu **92.0**"
      ]
    },
    {
      "cell_type": "markdown",
      "metadata": {
        "id": "ikMXInAxYROZ"
      },
      "source": [
        "Menampilkan hasil evaluasi dari data yang menggunakan Oversample (SMOTE) +Normalization"
      ]
    },
    {
      "cell_type": "code",
      "execution_count": 115,
      "metadata": {
        "colab": {
          "base_uri": "https://localhost:8080/",
          "height": 143
        },
        "id": "N4agLeaSYNRV",
        "outputId": "e6ee9b9a-7574-453e-b330-99dc2d62ec76"
      },
      "outputs": [
        {
          "data": {
            "text/html": [
              "<div>\n",
              "<style scoped>\n",
              "    .dataframe tbody tr th:only-of-type {\n",
              "        vertical-align: middle;\n",
              "    }\n",
              "\n",
              "    .dataframe tbody tr th {\n",
              "        vertical-align: top;\n",
              "    }\n",
              "\n",
              "    .dataframe thead th {\n",
              "        text-align: right;\n",
              "    }\n",
              "</style>\n",
              "<table border=\"1\" class=\"dataframe\">\n",
              "  <thead>\n",
              "    <tr style=\"text-align: right;\">\n",
              "      <th></th>\n",
              "      <th>Model</th>\n",
              "      <th>Accuracy</th>\n",
              "    </tr>\n",
              "  </thead>\n",
              "  <tbody>\n",
              "    <tr>\n",
              "      <th>0</th>\n",
              "      <td>K-Nearest Neighbour</td>\n",
              "      <td>75.4</td>\n",
              "    </tr>\n",
              "    <tr>\n",
              "      <th>1</th>\n",
              "      <td>Random Forest</td>\n",
              "      <td>92.0</td>\n",
              "    </tr>\n",
              "    <tr>\n",
              "      <th>2</th>\n",
              "      <td>XGBoost</td>\n",
              "      <td>90.4</td>\n",
              "    </tr>\n",
              "  </tbody>\n",
              "</table>\n",
              "</div>"
            ],
            "text/plain": [
              "                 Model  Accuracy\n",
              "0  K-Nearest Neighbour      75.4\n",
              "1        Random Forest      92.0\n",
              "2              XGBoost      90.4"
            ]
          },
          "execution_count": 115,
          "metadata": {},
          "output_type": "execute_result"
        }
      ],
      "source": [
        "model_comp2 = pd.DataFrame({'Model': ['K-Nearest Neighbour','Random Forest',\n",
        "                    'XGBoost'], 'Accuracy': [accuracy_knn_smote_normal*100,\n",
        "                    accuracy_rf_smote_normal*100,accuracy_xgb_smote_normal*100]})\n",
        "model_comp2.head()"
      ]
    },
    {
      "cell_type": "code",
      "execution_count": 116,
      "metadata": {
        "colab": {
          "base_uri": "https://localhost:8080/",
          "height": 569
        },
        "id": "wMjd13fPYSIc",
        "outputId": "710c72ac-ec7f-4658-95d2-ae3e283bdcfd"
      },
      "outputs": [
        {
          "data": {
            "image/png": "[encoded data removed]",
            "text/plain": [
              "<Figure size 640x480 with 1 Axes>"
            ]
          },
          "metadata": {},
          "output_type": "display_data"
        }
      ],
      "source": [
        "# Membuat bar plot dengan keterangan jumlah\n",
        "fig, ax = plt.subplots()\n",
        "bars = plt.bar(model_comp2['Model'], model_comp2['Accuracy'], color=['red', 'green', 'blue'])\n",
        "plt.xlabel('Model')\n",
        "plt.ylabel('Accuracy (%)')\n",
        "plt.title('Normalization + Oversampling')\n",
        "plt.xticks(rotation=45, ha='right')  # Untuk memutar label sumbu x agar lebih mudah dibaca\n",
        "\n",
        "# Menambahkan keterangan jumlah di atas setiap bar\n",
        "for bar in bars:\n",
        "    yval = bar.get_height()\n",
        "    plt.text(bar.get_x() + bar.get_width()/2, yval, round(yval, 2), ha='center', va='bottom')\n",
        "\n",
        "plt.show()"
      ]
    },
    {
      "cell_type": "markdown",
      "metadata": {
        "id": "Vjojw-ywYVo1"
      },
      "source": [
        "Dari hasil bar plot di atas, dapat disimpulkan bahwa **Random Forest mendapatkan  hasil akurasi terbaik ketika menggunakan SMOTE dan Normalization** yaitu **92.0**"
      ]
    },
    {
      "cell_type": "markdown",
      "metadata": {
        "id": "u_AeOtDlYXRN"
      },
      "source": [
        "Menampilkan hasil evaluasi dari data yang menggunakan Tuning Oversample (SMOTE) + Normalization"
      ]
    },
    {
      "cell_type": "code",
      "execution_count": 117,
      "metadata": {
        "colab": {
          "base_uri": "https://localhost:8080/",
          "height": 143
        },
        "id": "Mwt4DcJCYTzO",
        "outputId": "0630a4b3-9649-4de4-bf97-dd80413011ed"
      },
      "outputs": [
        {
          "data": {
            "text/html": [
              "<div>\n",
              "<style scoped>\n",
              "    .dataframe tbody tr th:only-of-type {\n",
              "        vertical-align: middle;\n",
              "    }\n",
              "\n",
              "    .dataframe tbody tr th {\n",
              "        vertical-align: top;\n",
              "    }\n",
              "\n",
              "    .dataframe thead th {\n",
              "        text-align: right;\n",
              "    }\n",
              "</style>\n",
              "<table border=\"1\" class=\"dataframe\">\n",
              "  <thead>\n",
              "    <tr style=\"text-align: right;\">\n",
              "      <th></th>\n",
              "      <th>Model</th>\n",
              "      <th>Accuracy</th>\n",
              "    </tr>\n",
              "  </thead>\n",
              "  <tbody>\n",
              "    <tr>\n",
              "      <th>0</th>\n",
              "      <td>K-Nearest Neighbour</td>\n",
              "      <td>79.7</td>\n",
              "    </tr>\n",
              "    <tr>\n",
              "      <th>1</th>\n",
              "      <td>Random Forest</td>\n",
              "      <td>89.3</td>\n",
              "    </tr>\n",
              "    <tr>\n",
              "      <th>2</th>\n",
              "      <td>XGBoost</td>\n",
              "      <td>92.0</td>\n",
              "    </tr>\n",
              "  </tbody>\n",
              "</table>\n",
              "</div>"
            ],
            "text/plain": [
              "                 Model  Accuracy\n",
              "0  K-Nearest Neighbour      79.7\n",
              "1        Random Forest      89.3\n",
              "2              XGBoost      92.0"
            ]
          },
          "execution_count": 117,
          "metadata": {},
          "output_type": "execute_result"
        }
      ],
      "source": [
        "model_comp3 = pd.DataFrame({'Model': ['K-Nearest Neighbour','Random Forest',\n",
        "                    'XGBoost'], 'Accuracy': [accuracy_knn_smote_normal_Tun*100,\n",
        "                    accuracy_rf_smote_normal_Tun*100,accuracy_xgb_smote_normal_Tun*100]})\n",
        "model_comp3.head()"
      ]
    },
    {
      "cell_type": "code",
      "execution_count": 118,
      "metadata": {
        "colab": {
          "base_uri": "https://localhost:8080/",
          "height": 569
        },
        "id": "tIhUcODaYYgE",
        "outputId": "8885388c-6cab-47e5-847c-c83660ac14ca"
      },
      "outputs": [
        {
          "data": {
            "image/png": "[encoded data removed]",
            "text/plain": [
              "<Figure size 640x480 with 1 Axes>"
            ]
          },
          "metadata": {},
          "output_type": "display_data"
        }
      ],
      "source": [
        "# Membuat bar plot dengan keterangan jumlah\n",
        "fig, ax = plt.subplots()\n",
        "bars = plt.bar(model_comp3['Model'], model_comp3['Accuracy'], color=['red', 'green', 'blue'])\n",
        "plt.xlabel('Model')\n",
        "plt.ylabel('Accuracy (%)')\n",
        "plt.title('Normalization + Oversampling + Tunning')\n",
        "plt.xticks(rotation=45, ha='right')  # Untuk memutar label sumbu x agar lebih mudah dibaca\n",
        "\n",
        "# Menambahkan keterangan jumlah di atas setiap bar\n",
        "for bar in bars:\n",
        "    yval = bar.get_height()\n",
        "    plt.text(bar.get_x() + bar.get_width()/2, yval, round(yval, 2), ha='center', va='bottom')\n",
        "\n",
        "plt.show()"
      ]
    },
    {
      "cell_type": "markdown",
      "metadata": {
        "id": "hHQ67mlCYcs3"
      },
      "source": [
        "Dari bar plot di atas didapatkan bahwa algoritma Random Forest lebih unggul dengan hasil akurasi **89.3** ketika **menggunakan data yang di Tuning, Oversample, dan Normalization.**"
      ]
    },
    {
      "cell_type": "markdown",
      "metadata": {
        "id": "NyV0SpxlYeat"
      },
      "source": [
        "Kemudian akan dilakukan kompilasi dari model terbaik"
      ]
    },
    {
      "cell_type": "code",
      "execution_count": 119,
      "metadata": {
        "id": "9OPjcXfbYahx"
      },
      "outputs": [],
      "source": [
        "# Data frame\n",
        "model_compBest = pd.DataFrame({\n",
        "    'Model': ['KNN OverSample Standarization Tunning', 'Random Forest OverSample',\n",
        "              'XGBoost OverSample Standarization'],\n",
        "    'Accuracy': [accuracy_knn_smote_normal_Tun*100, accuracy_rf_smote*100,\n",
        "                 accuracy_xgb_smote_normal*100]\n",
        "})"
      ]
    },
    {
      "cell_type": "code",
      "execution_count": 120,
      "metadata": {
        "colab": {
          "base_uri": "https://localhost:8080/",
          "height": 668
        },
        "id": "BAsOMiY1Y4Rb",
        "outputId": "8e0b99ed-9386-44ca-faab-a75e26fa3ea5"
      },
      "outputs": [
        {
          "data": {
            "image/png": "[encoded data removed]",
            "text/plain": [
              "<Figure size 640x480 with 1 Axes>"
            ]
          },
          "metadata": {},
          "output_type": "display_data"
        }
      ],
      "source": [
        "# Membuat bar plot dengan keterangan jumlah\n",
        "fig, ax = plt.subplots()\n",
        "bars = plt.bar(model_compBest['Model'], model_compBest['Accuracy'], color=['red', 'green', 'blue'])\n",
        "plt.xlabel('Model')\n",
        "plt.ylabel('Accuracy (%)')\n",
        "plt.title('Best Model Comparison')\n",
        "plt.xticks(rotation=45, ha='right')  # Untuk memutar label sumbu x agar lebih mudah dibaca\n",
        "\n",
        "# Menambahkan keterangan jumlah di atas setiap bar\n",
        "for bar in bars:\n",
        "    yval = bar.get_height()\n",
        "    plt.text(bar.get_x() + bar.get_width()/2, yval, round(yval, 2), ha='center', va='bottom')\n",
        "\n",
        "plt.show()"
      ]
    },
    {
      "cell_type": "markdown",
      "metadata": {
        "id": "tekoHhymY-L3"
      },
      "source": [
        "# 9) Kesimpulan\n",
        "\n",
        "Dari penelitian di atas, setelah dilakukan pemodelan menggunakan algoritma KNN, Random Forest, dan XGBoost dengan beberapa penanganan data, seperti menggunakan random oversampling SMOTE untuk mengatasi imbalance data, RandomSearchCV untuk tuning, dan Normalisasi data menggunakan MinMaxScaler. Dapat disimpulkan bahwa klasifikasi menggunakan Random Oversampling SMOTE pada model KNN menghasilkan akurasi 75.4%, model Random Forest dengan hasil akurasi 92%, dan model XGBoost menghasilkan akurasi sebesar 90.4%.\n",
        "\n",
        "Kemudian untuk klasifikasi menggunakan data yang sudah dilakukan normalisasi dan SMOTE pada model KNN menghasilkan akurasi 75.4%, model Random Forest menghasilkan akurasi 92%, dan model XGBoost dengan hasil akurasi 90.4%. Dapat dilihat bahwa tidak ada perubahan antara penggunaan SMOTE dengan penggunaan Normalisasi dan SMOTE.\n",
        "\n",
        "Terakhir untuk klasifikasi menggunakan data yang sudah dilakukan tuning, normalisasi, dan SMOTE pada model KNN menghasilkan akurasi 79.7%, model Random Forest dengan hasil akurasi 89.3%, dan model XGBoost dengan akurasi 89.8%.\n",
        "\n",
        "Dengan itu, dalam penanganan data yang optimal untuk masalah imbalance data adalah dengan menggunakan metode SMOTE sekaligus dilengkapi dengan tuning dan normalisasi data. Hal ini dapat memberikan hasil yang signifikan dalam meningkatkan akurasi model klasifikasi, khususnya pada model KNN dan XGboost. Namun hal tersebut tidak terjadi pada model Random Forest yang mengalami penurunan akurasi."
      ]
    },
    {
      "cell_type": "markdown",
      "metadata": {
        "id": "vNQHzzGUZPe0"
      },
      "source": [
        "10) Streamlit"
      ]
    },
    {
      "cell_type": "code",
      "execution_count": 121,
      "metadata": {
        "id": "ixFJZz6ZY6LV"
      },
      "outputs": [],
      "source": [
        "# Save model as pickle\n",
        "import pickle\n",
        "\n",
        "# Simpan model ke dalam file pickle\n",
        "# Random Forest\n",
        "# with open('model_rf.pickle', 'wb') as f:\n",
        "#    pickle.dump(rf_model, f)\n",
        "\n",
        "# RF\n",
        "with open('model_rf1.pickle', 'wb') as f:\n",
        "    pickle.dump(rf_model, f)\n",
        "\n",
        "# Simpan akurasi XGBoost dalam pickle\n",
        "model_info = {'df4MinMax':dfClean, 'accuracy':accuracy_rf_smote_normal*100}\n",
        "with open('model_info.pickle', 'wb') as f:\n",
        "    pickle.dump(model_info, f)"
      ]
    },
    {
      "cell_type": "code",
      "execution_count": 123,
      "metadata": {
        "id": "lnMq3WrQconI"
      },
      "outputs": [],
      "source": [
        "import pickle\n",
        "\n",
        "with open('scaler.pkl', 'wb') as scaler_file:\n",
        "    pickle.dump(scaler, scaler_file)"
      ]
    }
  ],
  "metadata": {
    "colab": {
      "provenance": []
    },
    "kernelspec": {
      "display_name": "Python 3",
      "name": "python3"
    },
    "language_info": {
      "codemirror_mode": {
        "name": "ipython",
        "version": 3
      },
      "file_extension": ".py",
      "mimetype": "text/x-python",
      "name": "python",
      "nbconvert_exporter": "python",
      "pygments_lexer": "ipython3",
      "version": "3.11.0"
    }
  },
  "nbformat": 4,
  "nbformat_minor": 0
}
